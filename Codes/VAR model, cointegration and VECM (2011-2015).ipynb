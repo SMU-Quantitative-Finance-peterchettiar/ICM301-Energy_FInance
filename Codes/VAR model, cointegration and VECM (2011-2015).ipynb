{
 "cells": [
  {
   "cell_type": "code",
   "execution_count": 42,
   "metadata": {},
   "outputs": [],
   "source": [
    "import pandas as pd\n",
    "import numpy as np\n",
    "import matplotlib.pyplot as plt\n",
    "\n",
    "from statsmodels.tsa.api import VAR\n",
    "from statsmodels.tsa.stattools import adfuller\n",
    "from statsmodels.tools.eval_measures import rmse, aic\n",
    "import pickle"
   ]
  },
  {
   "cell_type": "code",
   "execution_count": 43,
   "metadata": {},
   "outputs": [],
   "source": [
    "brent = pd.read_excel(r'C:\\Users\\Sandhyana\\Desktop\\brentprice.xls', sheet_name='Data 1',index_col='Date')\n",
    "wti = pd.read_excel(r'C:\\Users\\Sandhyana\\Desktop\\wtiprice.xls', sheet_name='Data 1',index_col='Date')"
   ]
  },
  {
   "cell_type": "code",
   "execution_count": 44,
   "metadata": {},
   "outputs": [],
   "source": [
    "brent1 = brent.resample('D').ffill().reset_index()\n",
    "wti1 = wti.resample('D').ffill().reset_index()"
   ]
  },
  {
   "cell_type": "code",
   "execution_count": 45,
   "metadata": {},
   "outputs": [
    {
     "data": {
      "text/html": [
       "<div>\n",
       "<style scoped>\n",
       "    .dataframe tbody tr th:only-of-type {\n",
       "        vertical-align: middle;\n",
       "    }\n",
       "\n",
       "    .dataframe tbody tr th {\n",
       "        vertical-align: top;\n",
       "    }\n",
       "\n",
       "    .dataframe thead th {\n",
       "        text-align: right;\n",
       "    }\n",
       "</style>\n",
       "<table border=\"1\" class=\"dataframe\">\n",
       "  <thead>\n",
       "    <tr style=\"text-align: right;\">\n",
       "      <th></th>\n",
       "      <th>Date</th>\n",
       "      <th>bp</th>\n",
       "      <th>wp</th>\n",
       "    </tr>\n",
       "  </thead>\n",
       "  <tbody>\n",
       "    <tr>\n",
       "      <td>0</td>\n",
       "      <td>1987-05-20</td>\n",
       "      <td>18.63</td>\n",
       "      <td>19.75</td>\n",
       "    </tr>\n",
       "    <tr>\n",
       "      <td>1</td>\n",
       "      <td>1987-05-21</td>\n",
       "      <td>18.45</td>\n",
       "      <td>19.95</td>\n",
       "    </tr>\n",
       "    <tr>\n",
       "      <td>2</td>\n",
       "      <td>1987-05-22</td>\n",
       "      <td>18.55</td>\n",
       "      <td>19.68</td>\n",
       "    </tr>\n",
       "    <tr>\n",
       "      <td>3</td>\n",
       "      <td>1987-05-23</td>\n",
       "      <td>18.55</td>\n",
       "      <td>19.68</td>\n",
       "    </tr>\n",
       "    <tr>\n",
       "      <td>4</td>\n",
       "      <td>1987-05-24</td>\n",
       "      <td>18.55</td>\n",
       "      <td>19.68</td>\n",
       "    </tr>\n",
       "    <tr>\n",
       "      <td>...</td>\n",
       "      <td>...</td>\n",
       "      <td>...</td>\n",
       "      <td>...</td>\n",
       "    </tr>\n",
       "    <tr>\n",
       "      <td>12118</td>\n",
       "      <td>2020-07-23</td>\n",
       "      <td>42.96</td>\n",
       "      <td>40.99</td>\n",
       "    </tr>\n",
       "    <tr>\n",
       "      <td>12119</td>\n",
       "      <td>2020-07-24</td>\n",
       "      <td>43.29</td>\n",
       "      <td>41.23</td>\n",
       "    </tr>\n",
       "    <tr>\n",
       "      <td>12120</td>\n",
       "      <td>2020-07-25</td>\n",
       "      <td>43.29</td>\n",
       "      <td>41.23</td>\n",
       "    </tr>\n",
       "    <tr>\n",
       "      <td>12121</td>\n",
       "      <td>2020-07-26</td>\n",
       "      <td>43.29</td>\n",
       "      <td>41.23</td>\n",
       "    </tr>\n",
       "    <tr>\n",
       "      <td>12122</td>\n",
       "      <td>2020-07-27</td>\n",
       "      <td>43.39</td>\n",
       "      <td>41.46</td>\n",
       "    </tr>\n",
       "  </tbody>\n",
       "</table>\n",
       "<p>12123 rows × 3 columns</p>\n",
       "</div>"
      ],
      "text/plain": [
       "            Date     bp     wp\n",
       "0     1987-05-20  18.63  19.75\n",
       "1     1987-05-21  18.45  19.95\n",
       "2     1987-05-22  18.55  19.68\n",
       "3     1987-05-23  18.55  19.68\n",
       "4     1987-05-24  18.55  19.68\n",
       "...          ...    ...    ...\n",
       "12118 2020-07-23  42.96  40.99\n",
       "12119 2020-07-24  43.29  41.23\n",
       "12120 2020-07-25  43.29  41.23\n",
       "12121 2020-07-26  43.29  41.23\n",
       "12122 2020-07-27  43.39  41.46\n",
       "\n",
       "[12123 rows x 3 columns]"
      ]
     },
     "execution_count": 45,
     "metadata": {},
     "output_type": "execute_result"
    }
   ],
   "source": [
    "prices=[brent1['Date'],brent1['bp'],wti1['wp']]\n",
    "price=pd.concat(prices, axis=1)\n",
    "price"
   ]
  },
  {
   "cell_type": "code",
   "execution_count": 46,
   "metadata": {},
   "outputs": [
    {
     "data": {
      "text/html": [
       "<div>\n",
       "<style scoped>\n",
       "    .dataframe tbody tr th:only-of-type {\n",
       "        vertical-align: middle;\n",
       "    }\n",
       "\n",
       "    .dataframe tbody tr th {\n",
       "        vertical-align: top;\n",
       "    }\n",
       "\n",
       "    .dataframe thead th {\n",
       "        text-align: right;\n",
       "    }\n",
       "</style>\n",
       "<table border=\"1\" class=\"dataframe\">\n",
       "  <thead>\n",
       "    <tr style=\"text-align: right;\">\n",
       "      <th></th>\n",
       "      <th>Date</th>\n",
       "      <th>bp</th>\n",
       "      <th>wp</th>\n",
       "    </tr>\n",
       "  </thead>\n",
       "  <tbody>\n",
       "    <tr>\n",
       "      <td>8627</td>\n",
       "      <td>2011-01-01</td>\n",
       "      <td>93.23</td>\n",
       "      <td>91.38</td>\n",
       "    </tr>\n",
       "    <tr>\n",
       "      <td>8628</td>\n",
       "      <td>2011-01-02</td>\n",
       "      <td>93.23</td>\n",
       "      <td>91.38</td>\n",
       "    </tr>\n",
       "    <tr>\n",
       "      <td>8629</td>\n",
       "      <td>2011-01-03</td>\n",
       "      <td>95.82</td>\n",
       "      <td>91.59</td>\n",
       "    </tr>\n",
       "    <tr>\n",
       "      <td>8630</td>\n",
       "      <td>2011-01-04</td>\n",
       "      <td>93.52</td>\n",
       "      <td>89.39</td>\n",
       "    </tr>\n",
       "    <tr>\n",
       "      <td>8631</td>\n",
       "      <td>2011-01-05</td>\n",
       "      <td>95.07</td>\n",
       "      <td>90.30</td>\n",
       "    </tr>\n",
       "    <tr>\n",
       "      <td>...</td>\n",
       "      <td>...</td>\n",
       "      <td>...</td>\n",
       "      <td>...</td>\n",
       "    </tr>\n",
       "    <tr>\n",
       "      <td>10083</td>\n",
       "      <td>2014-12-27</td>\n",
       "      <td>58.72</td>\n",
       "      <td>54.59</td>\n",
       "    </tr>\n",
       "    <tr>\n",
       "      <td>10084</td>\n",
       "      <td>2014-12-28</td>\n",
       "      <td>58.72</td>\n",
       "      <td>54.59</td>\n",
       "    </tr>\n",
       "    <tr>\n",
       "      <td>10085</td>\n",
       "      <td>2014-12-29</td>\n",
       "      <td>57.86</td>\n",
       "      <td>53.46</td>\n",
       "    </tr>\n",
       "    <tr>\n",
       "      <td>10086</td>\n",
       "      <td>2014-12-30</td>\n",
       "      <td>55.60</td>\n",
       "      <td>54.14</td>\n",
       "    </tr>\n",
       "    <tr>\n",
       "      <td>10087</td>\n",
       "      <td>2014-12-31</td>\n",
       "      <td>55.27</td>\n",
       "      <td>53.45</td>\n",
       "    </tr>\n",
       "  </tbody>\n",
       "</table>\n",
       "<p>1461 rows × 3 columns</p>\n",
       "</div>"
      ],
      "text/plain": [
       "            Date     bp     wp\n",
       "8627  2011-01-01  93.23  91.38\n",
       "8628  2011-01-02  93.23  91.38\n",
       "8629  2011-01-03  95.82  91.59\n",
       "8630  2011-01-04  93.52  89.39\n",
       "8631  2011-01-05  95.07  90.30\n",
       "...          ...    ...    ...\n",
       "10083 2014-12-27  58.72  54.59\n",
       "10084 2014-12-28  58.72  54.59\n",
       "10085 2014-12-29  57.86  53.46\n",
       "10086 2014-12-30  55.60  54.14\n",
       "10087 2014-12-31  55.27  53.45\n",
       "\n",
       "[1461 rows x 3 columns]"
      ]
     },
     "execution_count": 46,
     "metadata": {},
     "output_type": "execute_result"
    }
   ],
   "source": [
    "price = price[(price['Date' ] > '2010-12-31') & (price['Date' ] <= '2014-12-31')]\n",
    "price"
   ]
  },
  {
   "cell_type": "code",
   "execution_count": 47,
   "metadata": {},
   "outputs": [],
   "source": [
    "price.set_index('Date', inplace=True)\n"
   ]
  },
  {
   "cell_type": "code",
   "execution_count": 48,
   "metadata": {},
   "outputs": [
    {
     "name": "stderr",
     "output_type": "stream",
     "text": [
      "C:\\Users\\Sandhyana\\Anaconda3\\lib\\site-packages\\ipykernel_launcher.py:1: SettingWithCopyWarning: \n",
      "A value is trying to be set on a copy of a slice from a DataFrame.\n",
      "Try using .loc[row_indexer,col_indexer] = value instead\n",
      "\n",
      "See the caveats in the documentation: http://pandas.pydata.org/pandas-docs/stable/user_guide/indexing.html#returning-a-view-versus-a-copy\n",
      "  \"\"\"Entry point for launching an IPython kernel.\n",
      "C:\\Users\\Sandhyana\\Anaconda3\\lib\\site-packages\\ipykernel_launcher.py:2: SettingWithCopyWarning: \n",
      "A value is trying to be set on a copy of a slice from a DataFrame.\n",
      "Try using .loc[row_indexer,col_indexer] = value instead\n",
      "\n",
      "See the caveats in the documentation: http://pandas.pydata.org/pandas-docs/stable/user_guide/indexing.html#returning-a-view-versus-a-copy\n",
      "  \n"
     ]
    },
    {
     "data": {
      "text/html": [
       "<div>\n",
       "<style scoped>\n",
       "    .dataframe tbody tr th:only-of-type {\n",
       "        vertical-align: middle;\n",
       "    }\n",
       "\n",
       "    .dataframe tbody tr th {\n",
       "        vertical-align: top;\n",
       "    }\n",
       "\n",
       "    .dataframe thead th {\n",
       "        text-align: right;\n",
       "    }\n",
       "</style>\n",
       "<table border=\"1\" class=\"dataframe\">\n",
       "  <thead>\n",
       "    <tr style=\"text-align: right;\">\n",
       "      <th></th>\n",
       "      <th>bp</th>\n",
       "      <th>wp</th>\n",
       "      <th>brentdiff</th>\n",
       "      <th>wtidiff</th>\n",
       "    </tr>\n",
       "    <tr>\n",
       "      <th>Date</th>\n",
       "      <th></th>\n",
       "      <th></th>\n",
       "      <th></th>\n",
       "      <th></th>\n",
       "    </tr>\n",
       "  </thead>\n",
       "  <tbody>\n",
       "    <tr>\n",
       "      <td>2011-01-01</td>\n",
       "      <td>93.23</td>\n",
       "      <td>91.38</td>\n",
       "      <td>NaN</td>\n",
       "      <td>NaN</td>\n",
       "    </tr>\n",
       "    <tr>\n",
       "      <td>2011-01-02</td>\n",
       "      <td>93.23</td>\n",
       "      <td>91.38</td>\n",
       "      <td>0.000000</td>\n",
       "      <td>0.000000</td>\n",
       "    </tr>\n",
       "    <tr>\n",
       "      <td>2011-01-03</td>\n",
       "      <td>95.82</td>\n",
       "      <td>91.59</td>\n",
       "      <td>2.740187</td>\n",
       "      <td>0.229546</td>\n",
       "    </tr>\n",
       "    <tr>\n",
       "      <td>2011-01-04</td>\n",
       "      <td>93.52</td>\n",
       "      <td>89.39</td>\n",
       "      <td>-2.429611</td>\n",
       "      <td>-2.431328</td>\n",
       "    </tr>\n",
       "    <tr>\n",
       "      <td>2011-01-05</td>\n",
       "      <td>95.07</td>\n",
       "      <td>90.30</td>\n",
       "      <td>1.643815</td>\n",
       "      <td>1.012864</td>\n",
       "    </tr>\n",
       "    <tr>\n",
       "      <td>...</td>\n",
       "      <td>...</td>\n",
       "      <td>...</td>\n",
       "      <td>...</td>\n",
       "      <td>...</td>\n",
       "    </tr>\n",
       "    <tr>\n",
       "      <td>2014-12-27</td>\n",
       "      <td>58.72</td>\n",
       "      <td>54.59</td>\n",
       "      <td>0.000000</td>\n",
       "      <td>0.000000</td>\n",
       "    </tr>\n",
       "    <tr>\n",
       "      <td>2014-12-28</td>\n",
       "      <td>58.72</td>\n",
       "      <td>54.59</td>\n",
       "      <td>0.000000</td>\n",
       "      <td>0.000000</td>\n",
       "    </tr>\n",
       "    <tr>\n",
       "      <td>2014-12-29</td>\n",
       "      <td>57.86</td>\n",
       "      <td>53.46</td>\n",
       "      <td>-1.475408</td>\n",
       "      <td>-2.091701</td>\n",
       "    </tr>\n",
       "    <tr>\n",
       "      <td>2014-12-30</td>\n",
       "      <td>55.60</td>\n",
       "      <td>54.14</td>\n",
       "      <td>-3.984310</td>\n",
       "      <td>1.263957</td>\n",
       "    </tr>\n",
       "    <tr>\n",
       "      <td>2014-12-31</td>\n",
       "      <td>55.27</td>\n",
       "      <td>53.45</td>\n",
       "      <td>-0.595294</td>\n",
       "      <td>-1.282665</td>\n",
       "    </tr>\n",
       "  </tbody>\n",
       "</table>\n",
       "<p>1461 rows × 4 columns</p>\n",
       "</div>"
      ],
      "text/plain": [
       "               bp     wp  brentdiff   wtidiff\n",
       "Date                                         \n",
       "2011-01-01  93.23  91.38        NaN       NaN\n",
       "2011-01-02  93.23  91.38   0.000000  0.000000\n",
       "2011-01-03  95.82  91.59   2.740187  0.229546\n",
       "2011-01-04  93.52  89.39  -2.429611 -2.431328\n",
       "2011-01-05  95.07  90.30   1.643815  1.012864\n",
       "...           ...    ...        ...       ...\n",
       "2014-12-27  58.72  54.59   0.000000  0.000000\n",
       "2014-12-28  58.72  54.59   0.000000  0.000000\n",
       "2014-12-29  57.86  53.46  -1.475408 -2.091701\n",
       "2014-12-30  55.60  54.14  -3.984310  1.263957\n",
       "2014-12-31  55.27  53.45  -0.595294 -1.282665\n",
       "\n",
       "[1461 rows x 4 columns]"
      ]
     },
     "execution_count": 48,
     "metadata": {},
     "output_type": "execute_result"
    }
   ],
   "source": [
    "price['brentdiff']=100*(np.log((price['bp'])/price['bp'].shift(1)))\n",
    "price['wtidiff']=100*(np.log((price['wp'])/price['wp'].shift(1)))\n",
    "price"
   ]
  },
  {
   "cell_type": "code",
   "execution_count": 49,
   "metadata": {},
   "outputs": [
    {
     "data": {
      "text/html": [
       "<div>\n",
       "<style scoped>\n",
       "    .dataframe tbody tr th:only-of-type {\n",
       "        vertical-align: middle;\n",
       "    }\n",
       "\n",
       "    .dataframe tbody tr th {\n",
       "        vertical-align: top;\n",
       "    }\n",
       "\n",
       "    .dataframe thead th {\n",
       "        text-align: right;\n",
       "    }\n",
       "</style>\n",
       "<table border=\"1\" class=\"dataframe\">\n",
       "  <thead>\n",
       "    <tr style=\"text-align: right;\">\n",
       "      <th></th>\n",
       "      <th>bp</th>\n",
       "      <th>wp</th>\n",
       "      <th>brentdiff</th>\n",
       "      <th>wtidiff</th>\n",
       "    </tr>\n",
       "    <tr>\n",
       "      <th>Date</th>\n",
       "      <th></th>\n",
       "      <th></th>\n",
       "      <th></th>\n",
       "      <th></th>\n",
       "    </tr>\n",
       "  </thead>\n",
       "  <tbody>\n",
       "    <tr>\n",
       "      <td>2011-01-02</td>\n",
       "      <td>93.23</td>\n",
       "      <td>91.38</td>\n",
       "      <td>0.000000</td>\n",
       "      <td>0.000000</td>\n",
       "    </tr>\n",
       "    <tr>\n",
       "      <td>2011-01-03</td>\n",
       "      <td>95.82</td>\n",
       "      <td>91.59</td>\n",
       "      <td>2.740187</td>\n",
       "      <td>0.229546</td>\n",
       "    </tr>\n",
       "    <tr>\n",
       "      <td>2011-01-04</td>\n",
       "      <td>93.52</td>\n",
       "      <td>89.39</td>\n",
       "      <td>-2.429611</td>\n",
       "      <td>-2.431328</td>\n",
       "    </tr>\n",
       "    <tr>\n",
       "      <td>2011-01-05</td>\n",
       "      <td>95.07</td>\n",
       "      <td>90.30</td>\n",
       "      <td>1.643815</td>\n",
       "      <td>1.012864</td>\n",
       "    </tr>\n",
       "    <tr>\n",
       "      <td>2011-01-06</td>\n",
       "      <td>94.95</td>\n",
       "      <td>88.37</td>\n",
       "      <td>-0.126303</td>\n",
       "      <td>-2.160491</td>\n",
       "    </tr>\n",
       "    <tr>\n",
       "      <td>...</td>\n",
       "      <td>...</td>\n",
       "      <td>...</td>\n",
       "      <td>...</td>\n",
       "      <td>...</td>\n",
       "    </tr>\n",
       "    <tr>\n",
       "      <td>2014-12-27</td>\n",
       "      <td>58.72</td>\n",
       "      <td>54.59</td>\n",
       "      <td>0.000000</td>\n",
       "      <td>0.000000</td>\n",
       "    </tr>\n",
       "    <tr>\n",
       "      <td>2014-12-28</td>\n",
       "      <td>58.72</td>\n",
       "      <td>54.59</td>\n",
       "      <td>0.000000</td>\n",
       "      <td>0.000000</td>\n",
       "    </tr>\n",
       "    <tr>\n",
       "      <td>2014-12-29</td>\n",
       "      <td>57.86</td>\n",
       "      <td>53.46</td>\n",
       "      <td>-1.475408</td>\n",
       "      <td>-2.091701</td>\n",
       "    </tr>\n",
       "    <tr>\n",
       "      <td>2014-12-30</td>\n",
       "      <td>55.60</td>\n",
       "      <td>54.14</td>\n",
       "      <td>-3.984310</td>\n",
       "      <td>1.263957</td>\n",
       "    </tr>\n",
       "    <tr>\n",
       "      <td>2014-12-31</td>\n",
       "      <td>55.27</td>\n",
       "      <td>53.45</td>\n",
       "      <td>-0.595294</td>\n",
       "      <td>-1.282665</td>\n",
       "    </tr>\n",
       "  </tbody>\n",
       "</table>\n",
       "<p>1460 rows × 4 columns</p>\n",
       "</div>"
      ],
      "text/plain": [
       "               bp     wp  brentdiff   wtidiff\n",
       "Date                                         \n",
       "2011-01-02  93.23  91.38   0.000000  0.000000\n",
       "2011-01-03  95.82  91.59   2.740187  0.229546\n",
       "2011-01-04  93.52  89.39  -2.429611 -2.431328\n",
       "2011-01-05  95.07  90.30   1.643815  1.012864\n",
       "2011-01-06  94.95  88.37  -0.126303 -2.160491\n",
       "...           ...    ...        ...       ...\n",
       "2014-12-27  58.72  54.59   0.000000  0.000000\n",
       "2014-12-28  58.72  54.59   0.000000  0.000000\n",
       "2014-12-29  57.86  53.46  -1.475408 -2.091701\n",
       "2014-12-30  55.60  54.14  -3.984310  1.263957\n",
       "2014-12-31  55.27  53.45  -0.595294 -1.282665\n",
       "\n",
       "[1460 rows x 4 columns]"
      ]
     },
     "execution_count": 49,
     "metadata": {},
     "output_type": "execute_result"
    }
   ],
   "source": [
    "price1=price.dropna()\n",
    "price1"
   ]
  },
  {
   "cell_type": "code",
   "execution_count": 50,
   "metadata": {},
   "outputs": [
    {
     "data": {
      "text/html": [
       "<div>\n",
       "<style scoped>\n",
       "    .dataframe tbody tr th:only-of-type {\n",
       "        vertical-align: middle;\n",
       "    }\n",
       "\n",
       "    .dataframe tbody tr th {\n",
       "        vertical-align: top;\n",
       "    }\n",
       "\n",
       "    .dataframe thead th {\n",
       "        text-align: right;\n",
       "    }\n",
       "</style>\n",
       "<table border=\"1\" class=\"dataframe\">\n",
       "  <thead>\n",
       "    <tr style=\"text-align: right;\">\n",
       "      <th></th>\n",
       "      <th>brentdiff</th>\n",
       "      <th>wtidiff</th>\n",
       "    </tr>\n",
       "    <tr>\n",
       "      <th>Date</th>\n",
       "      <th></th>\n",
       "      <th></th>\n",
       "    </tr>\n",
       "  </thead>\n",
       "  <tbody>\n",
       "    <tr>\n",
       "      <td>2011-01-02</td>\n",
       "      <td>0.000000</td>\n",
       "      <td>0.000000</td>\n",
       "    </tr>\n",
       "    <tr>\n",
       "      <td>2011-01-03</td>\n",
       "      <td>2.740187</td>\n",
       "      <td>0.229546</td>\n",
       "    </tr>\n",
       "    <tr>\n",
       "      <td>2011-01-04</td>\n",
       "      <td>-2.429611</td>\n",
       "      <td>-2.431328</td>\n",
       "    </tr>\n",
       "    <tr>\n",
       "      <td>2011-01-05</td>\n",
       "      <td>1.643815</td>\n",
       "      <td>1.012864</td>\n",
       "    </tr>\n",
       "    <tr>\n",
       "      <td>2011-01-06</td>\n",
       "      <td>-0.126303</td>\n",
       "      <td>-2.160491</td>\n",
       "    </tr>\n",
       "    <tr>\n",
       "      <td>...</td>\n",
       "      <td>...</td>\n",
       "      <td>...</td>\n",
       "    </tr>\n",
       "    <tr>\n",
       "      <td>2014-12-27</td>\n",
       "      <td>0.000000</td>\n",
       "      <td>0.000000</td>\n",
       "    </tr>\n",
       "    <tr>\n",
       "      <td>2014-12-28</td>\n",
       "      <td>0.000000</td>\n",
       "      <td>0.000000</td>\n",
       "    </tr>\n",
       "    <tr>\n",
       "      <td>2014-12-29</td>\n",
       "      <td>-1.475408</td>\n",
       "      <td>-2.091701</td>\n",
       "    </tr>\n",
       "    <tr>\n",
       "      <td>2014-12-30</td>\n",
       "      <td>-3.984310</td>\n",
       "      <td>1.263957</td>\n",
       "    </tr>\n",
       "    <tr>\n",
       "      <td>2014-12-31</td>\n",
       "      <td>-0.595294</td>\n",
       "      <td>-1.282665</td>\n",
       "    </tr>\n",
       "  </tbody>\n",
       "</table>\n",
       "<p>1460 rows × 2 columns</p>\n",
       "</div>"
      ],
      "text/plain": [
       "            brentdiff   wtidiff\n",
       "Date                           \n",
       "2011-01-02   0.000000  0.000000\n",
       "2011-01-03   2.740187  0.229546\n",
       "2011-01-04  -2.429611 -2.431328\n",
       "2011-01-05   1.643815  1.012864\n",
       "2011-01-06  -0.126303 -2.160491\n",
       "...               ...       ...\n",
       "2014-12-27   0.000000  0.000000\n",
       "2014-12-28   0.000000  0.000000\n",
       "2014-12-29  -1.475408 -2.091701\n",
       "2014-12-30  -3.984310  1.263957\n",
       "2014-12-31  -0.595294 -1.282665\n",
       "\n",
       "[1460 rows x 2 columns]"
      ]
     },
     "execution_count": 50,
     "metadata": {},
     "output_type": "execute_result"
    }
   ],
   "source": [
    "price2= price1.iloc[:, 2:]\n",
    "price2"
   ]
  },
  {
   "cell_type": "code",
   "execution_count": 51,
   "metadata": {},
   "outputs": [
    {
     "name": "stderr",
     "output_type": "stream",
     "text": [
      "C:\\Users\\Sandhyana\\Anaconda3\\lib\\site-packages\\statsmodels\\tsa\\base\\tsa_model.py:162: ValueWarning: No frequency information was provided, so inferred frequency D will be used.\n",
      "  % freq, ValueWarning)\n"
     ]
    },
    {
     "data": {
      "text/plain": [
       "  Summary of Regression Results   \n",
       "==================================\n",
       "Model:                         VAR\n",
       "Method:                        OLS\n",
       "Date:           Thu, 13, Aug, 2020\n",
       "Time:                     22:21:40\n",
       "--------------------------------------------------------------------\n",
       "No. of Equations:         2.00000    BIC:                   0.471110\n",
       "Nobs:                     1458.00    HQIC:                  0.448386\n",
       "Log likelihood:          -4444.64    FPE:                    1.54475\n",
       "AIC:                     0.434863    Det(Omega_mle):         1.53421\n",
       "--------------------------------------------------------------------\n",
       "Results for equation brentdiff\n",
       "===============================================================================\n",
       "                  coefficient       std. error           t-stat            prob\n",
       "-------------------------------------------------------------------------------\n",
       "const               -0.033531         0.029834           -1.124           0.261\n",
       "L1.brentdiff        -0.147183         0.033722           -4.365           0.000\n",
       "L1.wtidiff           0.198753         0.027357            7.265           0.000\n",
       "L2.brentdiff         0.020557         0.033145            0.620           0.535\n",
       "L2.wtidiff           0.044012         0.027924            1.576           0.115\n",
       "===============================================================================\n",
       "\n",
       "Results for equation wtidiff\n",
       "===============================================================================\n",
       "                  coefficient       std. error           t-stat            prob\n",
       "-------------------------------------------------------------------------------\n",
       "const               -0.036861         0.036869           -1.000           0.317\n",
       "L1.brentdiff        -0.005458         0.041673           -0.131           0.896\n",
       "L1.wtidiff          -0.044831         0.033808           -1.326           0.185\n",
       "L2.brentdiff         0.080624         0.040961            1.968           0.049\n",
       "L2.wtidiff          -0.020567         0.034509           -0.596           0.551\n",
       "===============================================================================\n",
       "\n",
       "Correlation matrix of residuals\n",
       "             brentdiff   wtidiff\n",
       "brentdiff     1.000000  0.633432\n",
       "wtidiff       0.633432  1.000000\n",
       "\n"
      ]
     },
     "execution_count": 51,
     "metadata": {},
     "output_type": "execute_result"
    }
   ],
   "source": [
    "#Constructing the VAR model\n",
    "import statsmodels.tsa.api as smt\n",
    "model=smt.VAR(price2)\n",
    "res=model.fit(maxlags=2)\n",
    "res.summary()"
   ]
  },
  {
   "cell_type": "code",
   "execution_count": 52,
   "metadata": {},
   "outputs": [
    {
     "data": {
      "text/html": [
       "<table class=\"simpletable\">\n",
       "<caption>VAR Order Selection (* highlights the minimums)</caption>\n",
       "<tr>\n",
       "   <td></td>      <th>AIC</th>         <th>BIC</th>         <th>FPE</th>        <th>HQIC</th>    \n",
       "</tr>\n",
       "<tr>\n",
       "  <th>0</th>  <td>    0.5050</td>  <td>    0.5123</td>  <td>     1.657</td>  <td>    0.5077</td> \n",
       "</tr>\n",
       "<tr>\n",
       "  <th>1</th>  <td>    0.4390</td>  <td>    0.4608*</td> <td>     1.551</td>  <td>    0.4471*</td>\n",
       "</tr>\n",
       "<tr>\n",
       "  <th>2</th>  <td>    0.4364*</td> <td>    0.4728</td>  <td>     1.547*</td> <td>    0.4500</td> \n",
       "</tr>\n",
       "<tr>\n",
       "  <th>3</th>  <td>    0.4384</td>  <td>    0.4893</td>  <td>     1.550</td>  <td>    0.4574</td> \n",
       "</tr>\n",
       "<tr>\n",
       "  <th>4</th>  <td>    0.4401</td>  <td>    0.5057</td>  <td>     1.553</td>  <td>    0.4646</td> \n",
       "</tr>\n",
       "<tr>\n",
       "  <th>5</th>  <td>    0.4423</td>  <td>    0.5224</td>  <td>     1.556</td>  <td>    0.4722</td> \n",
       "</tr>\n",
       "<tr>\n",
       "  <th>6</th>  <td>    0.4467</td>  <td>    0.5414</td>  <td>     1.563</td>  <td>    0.4820</td> \n",
       "</tr>\n",
       "<tr>\n",
       "  <th>7</th>  <td>    0.4497</td>  <td>    0.5589</td>  <td>     1.568</td>  <td>    0.4905</td> \n",
       "</tr>\n",
       "<tr>\n",
       "  <th>8</th>  <td>    0.4520</td>  <td>    0.5758</td>  <td>     1.572</td>  <td>    0.4982</td> \n",
       "</tr>\n",
       "<tr>\n",
       "  <th>9</th>  <td>    0.4555</td>  <td>    0.5939</td>  <td>     1.577</td>  <td>    0.5072</td> \n",
       "</tr>\n",
       "<tr>\n",
       "  <th>10</th> <td>    0.4560</td>  <td>    0.6089</td>  <td>     1.578</td>  <td>    0.5131</td> \n",
       "</tr>\n",
       "</table>"
      ],
      "text/plain": [
       "<class 'statsmodels.iolib.table.SimpleTable'>"
      ]
     },
     "execution_count": 52,
     "metadata": {},
     "output_type": "execute_result"
    }
   ],
   "source": [
    "#first step in construction of any VAR model, is to determine\n",
    "#the appropriate lag length\n",
    "#we employ a multivariate information criteria \n",
    "res= model.select_order(maxlags=10)\n",
    "res.summary()"
   ]
  },
  {
   "cell_type": "code",
   "execution_count": 53,
   "metadata": {},
   "outputs": [
    {
     "name": "stderr",
     "output_type": "stream",
     "text": [
      "C:\\Users\\Sandhyana\\Anaconda3\\lib\\site-packages\\statsmodels\\tsa\\base\\tsa_model.py:162: ValueWarning: No frequency information was provided, so inferred frequency D will be used.\n",
      "  % freq, ValueWarning)\n"
     ]
    },
    {
     "data": {
      "text/html": [
       "<table class=\"simpletable\">\n",
       "<caption>Granger causality Wald-test. H_0: brentdiff does not Granger-cause wtidiff. Conclusion: fail to reject H_0 at 5% significance level.</caption>\n",
       "<tr>\n",
       "  <th>Test statistic</th> <th>Critical value</th> <th>p-value</th> <th>df</th>\n",
       "</tr>\n",
       "<tr>\n",
       "      <td>0.04585</td>         <td>3.841</td>      <td>0.830</td>   <td>1</td>\n",
       "</tr>\n",
       "</table>"
      ],
      "text/plain": [
       "<class 'statsmodels.iolib.table.SimpleTable'>"
      ]
     },
     "execution_count": 53,
     "metadata": {},
     "output_type": "execute_result"
    }
   ],
   "source": [
    "#Generally, we choose the lag length for which the values of most of these \n",
    "#lag length criteria are minimized\n",
    "#based on the BIC method, we determine the minimum lag order to be 2\n",
    "# we next run a Granger causality test\n",
    "model = smt.VAR(price2)\n",
    "res = model.fit(maxlags=1)\n",
    "res_causality=res.test_causality(causing=['brentdiff'],caused=['wtidiff'], kind='wald',signif=0.05)\n",
    "res_causality.summary()"
   ]
  },
  {
   "cell_type": "code",
   "execution_count": 54,
   "metadata": {},
   "outputs": [
    {
     "name": "stderr",
     "output_type": "stream",
     "text": [
      "C:\\Users\\Sandhyana\\Anaconda3\\lib\\site-packages\\statsmodels\\tsa\\base\\tsa_model.py:162: ValueWarning: No frequency information was provided, so inferred frequency D will be used.\n",
      "  % freq, ValueWarning)\n"
     ]
    },
    {
     "data": {
      "text/html": [
       "<table class=\"simpletable\">\n",
       "<caption>Granger causality Wald-test. H_0: wtidiff does not Granger-cause brentdiff. Conclusion: reject H_0 at 5% significance level.</caption>\n",
       "<tr>\n",
       "  <th>Test statistic</th> <th>Critical value</th> <th>p-value</th> <th>df</th>\n",
       "</tr>\n",
       "<tr>\n",
       "       <td>48.63</td>          <td>3.841</td>      <td>0.000</td>   <td>1</td>\n",
       "</tr>\n",
       "</table>"
      ],
      "text/plain": [
       "<class 'statsmodels.iolib.table.SimpleTable'>"
      ]
     },
     "execution_count": 54,
     "metadata": {},
     "output_type": "execute_result"
    }
   ],
   "source": [
    "model1 = smt.VAR(price2)\n",
    "res1 = model1.fit(maxlags=1)\n",
    "res_causality1=res1.test_causality(causing=['wtidiff'],caused=['brentdiff'], kind='wald',signif=0.05)\n",
    "res_causality1.summary()"
   ]
  },
  {
   "cell_type": "code",
   "execution_count": 55,
   "metadata": {},
   "outputs": [],
   "source": [
    "#we find that only WTI granger causes brent in the period 2000-2010, while we fail to reject "
   ]
  },
  {
   "cell_type": "markdown",
   "metadata": {},
   "source": [
    "Impulse response analysis is an important step in econometric analyes, which employ vector autoregressive models. Their main purpose is to describe the evolution of a model’s variables in reaction to a shock in one or more variables. This feature allows to trace the transmission of a single shock within an otherwise noisy system of equations and, thus, makes them very useful tools in the assessment of economic policies"
   ]
  },
  {
   "cell_type": "code",
   "execution_count": 56,
   "metadata": {},
   "outputs": [
    {
     "name": "stderr",
     "output_type": "stream",
     "text": [
      "C:\\Users\\Sandhyana\\Anaconda3\\lib\\site-packages\\statsmodels\\tsa\\base\\tsa_model.py:162: ValueWarning: No frequency information was provided, so inferred frequency D will be used.\n",
      "  % freq, ValueWarning)\n"
     ]
    },
    {
     "data": {
      "image/png": "[encoded data removed]",
      "text/plain": [
       "<Figure size 720x720 with 4 Axes>"
      ]
     },
     "execution_count": 56,
     "metadata": {},
     "output_type": "execute_result"
    },
    {
     "data": {
      "image/png": "[encoded data removed]",
      "text/plain": [
       "<Figure size 720x720 with 4 Axes>"
      ]
     },
     "metadata": {
      "needs_background": "light"
     },
     "output_type": "display_data"
    }
   ],
   "source": [
    "#to find the impact of changes in one variable on the other at different\n",
    "#horizons, we obtain the impulse responses for the estimated model\n",
    "#we re-define the dependent variables and select a VAR model with one lag\n",
    "#of each variable and an arbitrary period number of 20 is used\n",
    "\n",
    "model=smt.VAR(price2)\n",
    "res=model.fit(maxlags=1)\n",
    "\n",
    "#impulse response analysis\n",
    "irf=res1.irf(20)\n",
    "irf.plot()"
   ]
  },
  {
   "cell_type": "code",
   "execution_count": 57,
   "metadata": {},
   "outputs": [],
   "source": [
    "#we find that WTI Granger causes brent and vice versa\n",
    "# this implies that changes in WTI cause changes in brent and \n",
    "#similarly, lags of WTI should be significant in the equation for brent \n",
    "#same applies for brent-WTI\n",
    "#hence a bi-directional causality is detected"
   ]
  },
  {
   "cell_type": "markdown",
   "metadata": {},
   "source": [
    "The variance decompositions (also known as forecast error variance decompositions, or fevd in Python) can also be generated using the fevd function (forecast-error variance decompositions)"
   ]
  },
  {
   "cell_type": "code",
   "execution_count": 58,
   "metadata": {},
   "outputs": [
    {
     "data": {
      "image/png": "[encoded data removed]",
      "text/plain": [
       "<Figure size 720x720 with 2 Axes>"
      ]
     },
     "execution_count": 58,
     "metadata": {},
     "output_type": "execute_result"
    },
    {
     "data": {
      "image/png": "[encoded data removed]",
      "text/plain": [
       "<Figure size 720x720 with 2 Axes>"
      ]
     },
     "metadata": {
      "needs_background": "light"
     },
     "output_type": "display_data"
    }
   ],
   "source": [
    "fevd=res.fevd(20)\n",
    "fevd.plot()"
   ]
  },
  {
   "cell_type": "code",
   "execution_count": 59,
   "metadata": {},
   "outputs": [],
   "source": [
    "#the graph above shows that in the case of brent, the percentage of \n",
    "#the errors that is attributable to its own shocks is 100%, while\n",
    "#for WTI, the brent series explains around 40% of the variation "
   ]
  },
  {
   "cell_type": "code",
   "execution_count": 60,
   "metadata": {},
   "outputs": [
    {
     "data": {
      "text/html": [
       "<div>\n",
       "<style scoped>\n",
       "    .dataframe tbody tr th:only-of-type {\n",
       "        vertical-align: middle;\n",
       "    }\n",
       "\n",
       "    .dataframe tbody tr th {\n",
       "        vertical-align: top;\n",
       "    }\n",
       "\n",
       "    .dataframe thead th {\n",
       "        text-align: right;\n",
       "    }\n",
       "</style>\n",
       "<table border=\"1\" class=\"dataframe\">\n",
       "  <thead>\n",
       "    <tr style=\"text-align: right;\">\n",
       "      <th></th>\n",
       "      <th>wtidiff</th>\n",
       "      <th>brentdiff</th>\n",
       "    </tr>\n",
       "    <tr>\n",
       "      <th>Date</th>\n",
       "      <th></th>\n",
       "      <th></th>\n",
       "    </tr>\n",
       "  </thead>\n",
       "  <tbody>\n",
       "    <tr>\n",
       "      <td>2011-01-02</td>\n",
       "      <td>0.000000</td>\n",
       "      <td>0.000000</td>\n",
       "    </tr>\n",
       "    <tr>\n",
       "      <td>2011-01-03</td>\n",
       "      <td>0.229546</td>\n",
       "      <td>2.740187</td>\n",
       "    </tr>\n",
       "    <tr>\n",
       "      <td>2011-01-04</td>\n",
       "      <td>-2.431328</td>\n",
       "      <td>-2.429611</td>\n",
       "    </tr>\n",
       "    <tr>\n",
       "      <td>2011-01-05</td>\n",
       "      <td>1.012864</td>\n",
       "      <td>1.643815</td>\n",
       "    </tr>\n",
       "    <tr>\n",
       "      <td>2011-01-06</td>\n",
       "      <td>-2.160491</td>\n",
       "      <td>-0.126303</td>\n",
       "    </tr>\n",
       "    <tr>\n",
       "      <td>...</td>\n",
       "      <td>...</td>\n",
       "      <td>...</td>\n",
       "    </tr>\n",
       "    <tr>\n",
       "      <td>2014-12-27</td>\n",
       "      <td>0.000000</td>\n",
       "      <td>0.000000</td>\n",
       "    </tr>\n",
       "    <tr>\n",
       "      <td>2014-12-28</td>\n",
       "      <td>0.000000</td>\n",
       "      <td>0.000000</td>\n",
       "    </tr>\n",
       "    <tr>\n",
       "      <td>2014-12-29</td>\n",
       "      <td>-2.091701</td>\n",
       "      <td>-1.475408</td>\n",
       "    </tr>\n",
       "    <tr>\n",
       "      <td>2014-12-30</td>\n",
       "      <td>1.263957</td>\n",
       "      <td>-3.984310</td>\n",
       "    </tr>\n",
       "    <tr>\n",
       "      <td>2014-12-31</td>\n",
       "      <td>-1.282665</td>\n",
       "      <td>-0.595294</td>\n",
       "    </tr>\n",
       "  </tbody>\n",
       "</table>\n",
       "<p>1460 rows × 2 columns</p>\n",
       "</div>"
      ],
      "text/plain": [
       "             wtidiff  brentdiff\n",
       "Date                           \n",
       "2011-01-02  0.000000   0.000000\n",
       "2011-01-03  0.229546   2.740187\n",
       "2011-01-04 -2.431328  -2.429611\n",
       "2011-01-05  1.012864   1.643815\n",
       "2011-01-06 -2.160491  -0.126303\n",
       "...              ...        ...\n",
       "2014-12-27  0.000000   0.000000\n",
       "2014-12-28  0.000000   0.000000\n",
       "2014-12-29 -2.091701  -1.475408\n",
       "2014-12-30  1.263957  -3.984310\n",
       "2014-12-31 -1.282665  -0.595294\n",
       "\n",
       "[1460 rows x 2 columns]"
      ]
     },
     "execution_count": 60,
     "metadata": {},
     "output_type": "execute_result"
    }
   ],
   "source": [
    "#we reverse the columns to check for the effect of WTI on brent \n",
    "price3=price2[['wtidiff','brentdiff']]\n",
    "price3"
   ]
  },
  {
   "cell_type": "code",
   "execution_count": 61,
   "metadata": {},
   "outputs": [
    {
     "name": "stderr",
     "output_type": "stream",
     "text": [
      "C:\\Users\\Sandhyana\\Anaconda3\\lib\\site-packages\\statsmodels\\tsa\\base\\tsa_model.py:162: ValueWarning: No frequency information was provided, so inferred frequency D will be used.\n",
      "  % freq, ValueWarning)\n"
     ]
    },
    {
     "data": {
      "image/png": "[encoded data removed]",
      "text/plain": [
       "<Figure size 720x720 with 2 Axes>"
      ]
     },
     "execution_count": 61,
     "metadata": {},
     "output_type": "execute_result"
    },
    {
     "data": {
      "image/png": "[encoded data removed]",
      "text/plain": [
       "<Figure size 720x720 with 2 Axes>"
      ]
     },
     "metadata": {
      "needs_background": "light"
     },
     "output_type": "display_data"
    }
   ],
   "source": [
    "model=smt.VAR(price3)\n",
    "res=model.fit(maxlags=1)\n",
    "\n",
    "fevd=res.fevd(20)\n",
    "fevd.plot()"
   ]
  },
  {
   "cell_type": "code",
   "execution_count": 62,
   "metadata": {},
   "outputs": [],
   "source": [
    "# we highlight that the WTI series also explain around 40% of \n",
    "#the variation for the brent"
   ]
  },
  {
   "cell_type": "markdown",
   "metadata": {},
   "source": [
    "# Unit Root testing"
   ]
  },
  {
   "cell_type": "code",
   "execution_count": 63,
   "metadata": {},
   "outputs": [],
   "source": [
    "import pickle\n",
    "from arch.unitroot import DFGLS, ADF, KPSS, PhillipsPerron"
   ]
  },
  {
   "cell_type": "code",
   "execution_count": 64,
   "metadata": {},
   "outputs": [
    {
     "data": {
      "text/html": [
       "<div>\n",
       "<style scoped>\n",
       "    .dataframe tbody tr th:only-of-type {\n",
       "        vertical-align: middle;\n",
       "    }\n",
       "\n",
       "    .dataframe tbody tr th {\n",
       "        vertical-align: top;\n",
       "    }\n",
       "\n",
       "    .dataframe thead th {\n",
       "        text-align: right;\n",
       "    }\n",
       "</style>\n",
       "<table border=\"1\" class=\"dataframe\">\n",
       "  <thead>\n",
       "    <tr style=\"text-align: right;\">\n",
       "      <th></th>\n",
       "      <th>bp</th>\n",
       "      <th>wp</th>\n",
       "    </tr>\n",
       "    <tr>\n",
       "      <th>Date</th>\n",
       "      <th></th>\n",
       "      <th></th>\n",
       "    </tr>\n",
       "  </thead>\n",
       "  <tbody>\n",
       "    <tr>\n",
       "      <td>2011-01-01</td>\n",
       "      <td>93.23</td>\n",
       "      <td>91.38</td>\n",
       "    </tr>\n",
       "    <tr>\n",
       "      <td>2011-01-02</td>\n",
       "      <td>93.23</td>\n",
       "      <td>91.38</td>\n",
       "    </tr>\n",
       "    <tr>\n",
       "      <td>2011-01-03</td>\n",
       "      <td>95.82</td>\n",
       "      <td>91.59</td>\n",
       "    </tr>\n",
       "    <tr>\n",
       "      <td>2011-01-04</td>\n",
       "      <td>93.52</td>\n",
       "      <td>89.39</td>\n",
       "    </tr>\n",
       "    <tr>\n",
       "      <td>2011-01-05</td>\n",
       "      <td>95.07</td>\n",
       "      <td>90.30</td>\n",
       "    </tr>\n",
       "    <tr>\n",
       "      <td>...</td>\n",
       "      <td>...</td>\n",
       "      <td>...</td>\n",
       "    </tr>\n",
       "    <tr>\n",
       "      <td>2014-12-27</td>\n",
       "      <td>58.72</td>\n",
       "      <td>54.59</td>\n",
       "    </tr>\n",
       "    <tr>\n",
       "      <td>2014-12-28</td>\n",
       "      <td>58.72</td>\n",
       "      <td>54.59</td>\n",
       "    </tr>\n",
       "    <tr>\n",
       "      <td>2014-12-29</td>\n",
       "      <td>57.86</td>\n",
       "      <td>53.46</td>\n",
       "    </tr>\n",
       "    <tr>\n",
       "      <td>2014-12-30</td>\n",
       "      <td>55.60</td>\n",
       "      <td>54.14</td>\n",
       "    </tr>\n",
       "    <tr>\n",
       "      <td>2014-12-31</td>\n",
       "      <td>55.27</td>\n",
       "      <td>53.45</td>\n",
       "    </tr>\n",
       "  </tbody>\n",
       "</table>\n",
       "<p>1461 rows × 2 columns</p>\n",
       "</div>"
      ],
      "text/plain": [
       "               bp     wp\n",
       "Date                    \n",
       "2011-01-01  93.23  91.38\n",
       "2011-01-02  93.23  91.38\n",
       "2011-01-03  95.82  91.59\n",
       "2011-01-04  93.52  89.39\n",
       "2011-01-05  95.07  90.30\n",
       "...           ...    ...\n",
       "2014-12-27  58.72  54.59\n",
       "2014-12-28  58.72  54.59\n",
       "2014-12-29  57.86  53.46\n",
       "2014-12-30  55.60  54.14\n",
       "2014-12-31  55.27  53.45\n",
       "\n",
       "[1461 rows x 2 columns]"
      ]
     },
     "execution_count": 64,
     "metadata": {},
     "output_type": "execute_result"
    }
   ],
   "source": [
    "df1= price.iloc[:, :2]\n",
    "df1"
   ]
  },
  {
   "cell_type": "code",
   "execution_count": 65,
   "metadata": {},
   "outputs": [
    {
     "name": "stderr",
     "output_type": "stream",
     "text": [
      "C:\\Users\\Sandhyana\\Anaconda3\\lib\\site-packages\\ipykernel_launcher.py:2: SettingWithCopyWarning: \n",
      "A value is trying to be set on a copy of a slice from a DataFrame.\n",
      "Try using .loc[row_indexer,col_indexer] = value instead\n",
      "\n",
      "See the caveats in the documentation: http://pandas.pydata.org/pandas-docs/stable/user_guide/indexing.html#returning-a-view-versus-a-copy\n",
      "  \n"
     ]
    },
    {
     "data": {
      "text/html": [
       "<div>\n",
       "<style scoped>\n",
       "    .dataframe tbody tr th:only-of-type {\n",
       "        vertical-align: middle;\n",
       "    }\n",
       "\n",
       "    .dataframe tbody tr th {\n",
       "        vertical-align: top;\n",
       "    }\n",
       "\n",
       "    .dataframe thead th {\n",
       "        text-align: right;\n",
       "    }\n",
       "</style>\n",
       "<table border=\"1\" class=\"dataframe\">\n",
       "  <thead>\n",
       "    <tr style=\"text-align: right;\">\n",
       "      <th></th>\n",
       "      <th>bp</th>\n",
       "      <th>wp</th>\n",
       "      <th>bp_diff</th>\n",
       "      <th>wp_diff</th>\n",
       "    </tr>\n",
       "    <tr>\n",
       "      <th>Date</th>\n",
       "      <th></th>\n",
       "      <th></th>\n",
       "      <th></th>\n",
       "      <th></th>\n",
       "    </tr>\n",
       "  </thead>\n",
       "  <tbody>\n",
       "    <tr>\n",
       "      <td>2011-01-01</td>\n",
       "      <td>93.23</td>\n",
       "      <td>91.38</td>\n",
       "      <td>NaN</td>\n",
       "      <td>NaN</td>\n",
       "    </tr>\n",
       "    <tr>\n",
       "      <td>2011-01-02</td>\n",
       "      <td>93.23</td>\n",
       "      <td>91.38</td>\n",
       "      <td>0.00</td>\n",
       "      <td>0.00</td>\n",
       "    </tr>\n",
       "    <tr>\n",
       "      <td>2011-01-03</td>\n",
       "      <td>95.82</td>\n",
       "      <td>91.59</td>\n",
       "      <td>2.59</td>\n",
       "      <td>0.21</td>\n",
       "    </tr>\n",
       "    <tr>\n",
       "      <td>2011-01-04</td>\n",
       "      <td>93.52</td>\n",
       "      <td>89.39</td>\n",
       "      <td>-2.30</td>\n",
       "      <td>-2.20</td>\n",
       "    </tr>\n",
       "    <tr>\n",
       "      <td>2011-01-05</td>\n",
       "      <td>95.07</td>\n",
       "      <td>90.30</td>\n",
       "      <td>1.55</td>\n",
       "      <td>0.91</td>\n",
       "    </tr>\n",
       "    <tr>\n",
       "      <td>...</td>\n",
       "      <td>...</td>\n",
       "      <td>...</td>\n",
       "      <td>...</td>\n",
       "      <td>...</td>\n",
       "    </tr>\n",
       "    <tr>\n",
       "      <td>2014-12-27</td>\n",
       "      <td>58.72</td>\n",
       "      <td>54.59</td>\n",
       "      <td>0.00</td>\n",
       "      <td>0.00</td>\n",
       "    </tr>\n",
       "    <tr>\n",
       "      <td>2014-12-28</td>\n",
       "      <td>58.72</td>\n",
       "      <td>54.59</td>\n",
       "      <td>0.00</td>\n",
       "      <td>0.00</td>\n",
       "    </tr>\n",
       "    <tr>\n",
       "      <td>2014-12-29</td>\n",
       "      <td>57.86</td>\n",
       "      <td>53.46</td>\n",
       "      <td>-0.86</td>\n",
       "      <td>-1.13</td>\n",
       "    </tr>\n",
       "    <tr>\n",
       "      <td>2014-12-30</td>\n",
       "      <td>55.60</td>\n",
       "      <td>54.14</td>\n",
       "      <td>-2.26</td>\n",
       "      <td>0.68</td>\n",
       "    </tr>\n",
       "    <tr>\n",
       "      <td>2014-12-31</td>\n",
       "      <td>55.27</td>\n",
       "      <td>53.45</td>\n",
       "      <td>-0.33</td>\n",
       "      <td>-0.69</td>\n",
       "    </tr>\n",
       "  </tbody>\n",
       "</table>\n",
       "<p>1461 rows × 4 columns</p>\n",
       "</div>"
      ],
      "text/plain": [
       "               bp     wp  bp_diff  wp_diff\n",
       "Date                                      \n",
       "2011-01-01  93.23  91.38      NaN      NaN\n",
       "2011-01-02  93.23  91.38     0.00     0.00\n",
       "2011-01-03  95.82  91.59     2.59     0.21\n",
       "2011-01-04  93.52  89.39    -2.30    -2.20\n",
       "2011-01-05  95.07  90.30     1.55     0.91\n",
       "...           ...    ...      ...      ...\n",
       "2014-12-27  58.72  54.59     0.00     0.00\n",
       "2014-12-28  58.72  54.59     0.00     0.00\n",
       "2014-12-29  57.86  53.46    -0.86    -1.13\n",
       "2014-12-30  55.60  54.14    -2.26     0.68\n",
       "2014-12-31  55.27  53.45    -0.33    -0.69\n",
       "\n",
       "[1461 rows x 4 columns]"
      ]
     },
     "execution_count": 65,
     "metadata": {},
     "output_type": "execute_result"
    }
   ],
   "source": [
    "#we obtain the first difference for ADF test\n",
    "df1['bp_diff'] = df1['bp'].diff(periods=1)\n",
    "df1['wp_diff'] = df1['wp'].diff(periods=1)\n",
    "df1"
   ]
  },
  {
   "cell_type": "code",
   "execution_count": 66,
   "metadata": {},
   "outputs": [],
   "source": [
    "df2=df1.dropna()"
   ]
  },
  {
   "cell_type": "code",
   "execution_count": 67,
   "metadata": {},
   "outputs": [
    {
     "data": {
      "text/html": [
       "<table class=\"simpletable\">\n",
       "<caption>Augmented Dickey-Fuller Results</caption>\n",
       "<tr>\n",
       "  <td>Test Statistic</td>     <td>0.361</td>\n",
       "</tr>\n",
       "<tr>\n",
       "  <td>P-value</td>            <td>0.980</td>\n",
       "</tr>\n",
       "<tr>\n",
       "  <td>Lags</td>                   <td>1</td>\n",
       "</tr>\n",
       "</table><br/><br/>Trend: Constant<br/>Critical Values: -3.43 (1%), -2.86 (5%), -2.57 (10%)<br/>Null Hypothesis: The process contains a unit root.<br/>Alternative Hypothesis: The process is weakly stationary."
      ],
      "text/plain": [
       "<class 'statsmodels.iolib.summary.Summary'>\n",
       "\"\"\"\n",
       "   Augmented Dickey-Fuller Results   \n",
       "=====================================\n",
       "Test Statistic                  0.361\n",
       "P-value                         0.980\n",
       "Lags                                1\n",
       "-------------------------------------\n",
       "\n",
       "Trend: Constant\n",
       "Critical Values: -3.43 (1%), -2.86 (5%), -2.57 (10%)\n",
       "Null Hypothesis: The process contains a unit root.\n",
       "Alternative Hypothesis: The process is weakly stationary.\n",
       "\"\"\""
      ]
     },
     "execution_count": 67,
     "metadata": {},
     "output_type": "execute_result"
    }
   ],
   "source": [
    "#ADF test for brent\n",
    "res=ADF(df2['bp'],lags=1)\n",
    "res.summary()"
   ]
  },
  {
   "cell_type": "code",
   "execution_count": 68,
   "metadata": {},
   "outputs": [
    {
     "data": {
      "text/html": [
       "<table class=\"simpletable\">\n",
       "<caption>Augmented Dickey-Fuller Results</caption>\n",
       "<tr>\n",
       "  <td>Test Statistic</td>    <td>-0.601</td>\n",
       "</tr>\n",
       "<tr>\n",
       "  <td>P-value</td>            <td>0.871</td>\n",
       "</tr>\n",
       "<tr>\n",
       "  <td>Lags</td>                   <td>1</td>\n",
       "</tr>\n",
       "</table><br/><br/>Trend: Constant<br/>Critical Values: -3.43 (1%), -2.86 (5%), -2.57 (10%)<br/>Null Hypothesis: The process contains a unit root.<br/>Alternative Hypothesis: The process is weakly stationary."
      ],
      "text/plain": [
       "<class 'statsmodels.iolib.summary.Summary'>\n",
       "\"\"\"\n",
       "   Augmented Dickey-Fuller Results   \n",
       "=====================================\n",
       "Test Statistic                 -0.601\n",
       "P-value                         0.871\n",
       "Lags                                1\n",
       "-------------------------------------\n",
       "\n",
       "Trend: Constant\n",
       "Critical Values: -3.43 (1%), -2.86 (5%), -2.57 (10%)\n",
       "Null Hypothesis: The process contains a unit root.\n",
       "Alternative Hypothesis: The process is weakly stationary.\n",
       "\"\"\""
      ]
     },
     "execution_count": 68,
     "metadata": {},
     "output_type": "execute_result"
    }
   ],
   "source": [
    "#ADF test for WTI\n",
    "res=ADF(df2['wp'],lags=1)\n",
    "res.summary()"
   ]
  },
  {
   "cell_type": "code",
   "execution_count": 69,
   "metadata": {},
   "outputs": [
    {
     "data": {
      "text/html": [
       "<table class=\"simpletable\">\n",
       "<caption>Augmented Dickey-Fuller Results</caption>\n",
       "<tr>\n",
       "  <td>Test Statistic</td>   <td>-26.198</td>\n",
       "</tr>\n",
       "<tr>\n",
       "  <td>P-value</td>            <td>0.000</td>\n",
       "</tr>\n",
       "<tr>\n",
       "  <td>Lags</td>                   <td>1</td>\n",
       "</tr>\n",
       "</table><br/><br/>Trend: Constant<br/>Critical Values: -3.43 (1%), -2.86 (5%), -2.57 (10%)<br/>Null Hypothesis: The process contains a unit root.<br/>Alternative Hypothesis: The process is weakly stationary."
      ],
      "text/plain": [
       "<class 'statsmodels.iolib.summary.Summary'>\n",
       "\"\"\"\n",
       "   Augmented Dickey-Fuller Results   \n",
       "=====================================\n",
       "Test Statistic                -26.198\n",
       "P-value                         0.000\n",
       "Lags                                1\n",
       "-------------------------------------\n",
       "\n",
       "Trend: Constant\n",
       "Critical Values: -3.43 (1%), -2.86 (5%), -2.57 (10%)\n",
       "Null Hypothesis: The process contains a unit root.\n",
       "Alternative Hypothesis: The process is weakly stationary.\n",
       "\"\"\""
      ]
     },
     "execution_count": 69,
     "metadata": {},
     "output_type": "execute_result"
    }
   ],
   "source": [
    "#ADF test for brent after first difference \n",
    "res=ADF(df2['bp_diff'],lags=1)\n",
    "res.summary()"
   ]
  },
  {
   "cell_type": "code",
   "execution_count": 70,
   "metadata": {},
   "outputs": [
    {
     "data": {
      "text/html": [
       "<table class=\"simpletable\">\n",
       "<caption>Augmented Dickey-Fuller Results</caption>\n",
       "<tr>\n",
       "  <td>Test Statistic</td>   <td>-27.061</td>\n",
       "</tr>\n",
       "<tr>\n",
       "  <td>P-value</td>            <td>0.000</td>\n",
       "</tr>\n",
       "<tr>\n",
       "  <td>Lags</td>                   <td>1</td>\n",
       "</tr>\n",
       "</table><br/><br/>Trend: Constant<br/>Critical Values: -3.43 (1%), -2.86 (5%), -2.57 (10%)<br/>Null Hypothesis: The process contains a unit root.<br/>Alternative Hypothesis: The process is weakly stationary."
      ],
      "text/plain": [
       "<class 'statsmodels.iolib.summary.Summary'>\n",
       "\"\"\"\n",
       "   Augmented Dickey-Fuller Results   \n",
       "=====================================\n",
       "Test Statistic                -27.061\n",
       "P-value                         0.000\n",
       "Lags                                1\n",
       "-------------------------------------\n",
       "\n",
       "Trend: Constant\n",
       "Critical Values: -3.43 (1%), -2.86 (5%), -2.57 (10%)\n",
       "Null Hypothesis: The process contains a unit root.\n",
       "Alternative Hypothesis: The process is weakly stationary.\n",
       "\"\"\""
      ]
     },
     "execution_count": 70,
     "metadata": {},
     "output_type": "execute_result"
    }
   ],
   "source": [
    "#ADF test for WTI after first difference\n",
    "res=ADF(df2['wp_diff'],lags=1)\n",
    "res.summary()"
   ]
  },
  {
   "cell_type": "markdown",
   "metadata": {},
   "source": [
    "# KPSS tests of the first differences"
   ]
  },
  {
   "cell_type": "code",
   "execution_count": 71,
   "metadata": {},
   "outputs": [
    {
     "data": {
      "text/html": [
       "<table class=\"simpletable\">\n",
       "<caption>KPSS Stationarity Test Results</caption>\n",
       "<tr>\n",
       "  <td>Test Statistic</td>     <td>0.554</td>\n",
       "</tr>\n",
       "<tr>\n",
       "  <td>P-value</td>            <td>0.029</td>\n",
       "</tr>\n",
       "<tr>\n",
       "  <td>Lags</td>                   <td>1</td>\n",
       "</tr>\n",
       "</table><br/><br/>Trend: Constant<br/>Critical Values: 0.74 (1%), 0.46 (5%), 0.35 (10%)<br/>Null Hypothesis: The process is weakly stationary.<br/>Alternative Hypothesis: The process contains a unit root."
      ],
      "text/plain": [
       "<class 'statsmodels.iolib.summary.Summary'>\n",
       "\"\"\"\n",
       "    KPSS Stationarity Test Results   \n",
       "=====================================\n",
       "Test Statistic                  0.554\n",
       "P-value                         0.029\n",
       "Lags                                1\n",
       "-------------------------------------\n",
       "\n",
       "Trend: Constant\n",
       "Critical Values: 0.74 (1%), 0.46 (5%), 0.35 (10%)\n",
       "Null Hypothesis: The process is weakly stationary.\n",
       "Alternative Hypothesis: The process contains a unit root.\n",
       "\"\"\""
      ]
     },
     "execution_count": 71,
     "metadata": {},
     "output_type": "execute_result"
    }
   ],
   "source": [
    "res=KPSS(df2['bp_diff'],lags=1)\n",
    "res.summary()"
   ]
  },
  {
   "cell_type": "code",
   "execution_count": 72,
   "metadata": {},
   "outputs": [
    {
     "data": {
      "text/html": [
       "<table class=\"simpletable\">\n",
       "<caption>KPSS Stationarity Test Results</caption>\n",
       "<tr>\n",
       "  <td>Test Statistic</td>     <td>0.302</td>\n",
       "</tr>\n",
       "<tr>\n",
       "  <td>P-value</td>            <td>0.134</td>\n",
       "</tr>\n",
       "<tr>\n",
       "  <td>Lags</td>                   <td>1</td>\n",
       "</tr>\n",
       "</table><br/><br/>Trend: Constant<br/>Critical Values: 0.74 (1%), 0.46 (5%), 0.35 (10%)<br/>Null Hypothesis: The process is weakly stationary.<br/>Alternative Hypothesis: The process contains a unit root."
      ],
      "text/plain": [
       "<class 'statsmodels.iolib.summary.Summary'>\n",
       "\"\"\"\n",
       "    KPSS Stationarity Test Results   \n",
       "=====================================\n",
       "Test Statistic                  0.302\n",
       "P-value                         0.134\n",
       "Lags                                1\n",
       "-------------------------------------\n",
       "\n",
       "Trend: Constant\n",
       "Critical Values: 0.74 (1%), 0.46 (5%), 0.35 (10%)\n",
       "Null Hypothesis: The process is weakly stationary.\n",
       "Alternative Hypothesis: The process contains a unit root.\n",
       "\"\"\""
      ]
     },
     "execution_count": 72,
     "metadata": {},
     "output_type": "execute_result"
    }
   ],
   "source": [
    "res=KPSS(df2['wp_diff'],lags=1)\n",
    "res.summary()"
   ]
  },
  {
   "cell_type": "markdown",
   "metadata": {},
   "source": [
    "# Phillips Perron tests for the first differences"
   ]
  },
  {
   "cell_type": "code",
   "execution_count": 73,
   "metadata": {},
   "outputs": [
    {
     "data": {
      "text/html": [
       "<table class=\"simpletable\">\n",
       "<caption>Phillips-Perron Test (Z-tau)</caption>\n",
       "<tr>\n",
       "  <td>Test Statistic</td>   <td>-37.910</td>\n",
       "</tr>\n",
       "<tr>\n",
       "  <td>P-value</td>            <td>0.000</td>\n",
       "</tr>\n",
       "<tr>\n",
       "  <td>Lags</td>                   <td>1</td>\n",
       "</tr>\n",
       "</table><br/><br/>Trend: Constant<br/>Critical Values: -3.43 (1%), -2.86 (5%), -2.57 (10%)<br/>Null Hypothesis: The process contains a unit root.<br/>Alternative Hypothesis: The process is weakly stationary."
      ],
      "text/plain": [
       "<class 'statsmodels.iolib.summary.Summary'>\n",
       "\"\"\"\n",
       "     Phillips-Perron Test (Z-tau)    \n",
       "=====================================\n",
       "Test Statistic                -37.910\n",
       "P-value                         0.000\n",
       "Lags                                1\n",
       "-------------------------------------\n",
       "\n",
       "Trend: Constant\n",
       "Critical Values: -3.43 (1%), -2.86 (5%), -2.57 (10%)\n",
       "Null Hypothesis: The process contains a unit root.\n",
       "Alternative Hypothesis: The process is weakly stationary.\n",
       "\"\"\""
      ]
     },
     "execution_count": 73,
     "metadata": {},
     "output_type": "execute_result"
    }
   ],
   "source": [
    "res=PhillipsPerron(df2['bp_diff'],lags=1)\n",
    "res.summary()"
   ]
  },
  {
   "cell_type": "code",
   "execution_count": 74,
   "metadata": {},
   "outputs": [
    {
     "data": {
      "text/html": [
       "<table class=\"simpletable\">\n",
       "<caption>Phillips-Perron Test (Z-tau)</caption>\n",
       "<tr>\n",
       "  <td>Test Statistic</td>   <td>-39.328</td>\n",
       "</tr>\n",
       "<tr>\n",
       "  <td>P-value</td>            <td>0.000</td>\n",
       "</tr>\n",
       "<tr>\n",
       "  <td>Lags</td>                   <td>1</td>\n",
       "</tr>\n",
       "</table><br/><br/>Trend: Constant<br/>Critical Values: -3.43 (1%), -2.86 (5%), -2.57 (10%)<br/>Null Hypothesis: The process contains a unit root.<br/>Alternative Hypothesis: The process is weakly stationary."
      ],
      "text/plain": [
       "<class 'statsmodels.iolib.summary.Summary'>\n",
       "\"\"\"\n",
       "     Phillips-Perron Test (Z-tau)    \n",
       "=====================================\n",
       "Test Statistic                -39.328\n",
       "P-value                         0.000\n",
       "Lags                                1\n",
       "-------------------------------------\n",
       "\n",
       "Trend: Constant\n",
       "Critical Values: -3.43 (1%), -2.86 (5%), -2.57 (10%)\n",
       "Null Hypothesis: The process contains a unit root.\n",
       "Alternative Hypothesis: The process is weakly stationary.\n",
       "\"\"\""
      ]
     },
     "execution_count": 74,
     "metadata": {},
     "output_type": "execute_result"
    }
   ],
   "source": [
    "res=PhillipsPerron(df2['wp_diff'],lags=1)\n",
    "res.summary()"
   ]
  },
  {
   "cell_type": "markdown",
   "metadata": {},
   "source": [
    "# Cointegration tests"
   ]
  },
  {
   "cell_type": "code",
   "execution_count": 75,
   "metadata": {},
   "outputs": [],
   "source": [
    "import statsmodels.formula.api as smf\n",
    "import matplotlib.pyplot as plt\n",
    "from arch.unitroot import DFGLS\n",
    "\n"
   ]
  },
  {
   "cell_type": "code",
   "execution_count": 76,
   "metadata": {},
   "outputs": [],
   "source": [
    "df3= price.iloc[:, :2]\n"
   ]
  },
  {
   "cell_type": "code",
   "execution_count": 77,
   "metadata": {},
   "outputs": [
    {
     "name": "stderr",
     "output_type": "stream",
     "text": [
      "C:\\Users\\Sandhyana\\Anaconda3\\lib\\site-packages\\statsmodels\\tsa\\base\\tsa_model.py:162: ValueWarning: No frequency information was provided, so inferred frequency D will be used.\n",
      "  % freq, ValueWarning)\n",
      "C:\\Users\\Sandhyana\\Anaconda3\\lib\\site-packages\\statsmodels\\tsa\\base\\tsa_model.py:162: ValueWarning: No frequency information was provided, so inferred frequency D will be used.\n",
      "  % freq, ValueWarning)\n",
      "C:\\Users\\Sandhyana\\Anaconda3\\lib\\site-packages\\statsmodels\\tsa\\base\\tsa_model.py:162: ValueWarning: No frequency information was provided, so inferred frequency D will be used.\n",
      "  % freq, ValueWarning)\n",
      "C:\\Users\\Sandhyana\\Anaconda3\\lib\\site-packages\\statsmodels\\tsa\\base\\tsa_model.py:162: ValueWarning: No frequency information was provided, so inferred frequency D will be used.\n",
      "  % freq, ValueWarning)\n",
      "C:\\Users\\Sandhyana\\Anaconda3\\lib\\site-packages\\statsmodels\\tsa\\base\\tsa_model.py:162: ValueWarning: No frequency information was provided, so inferred frequency D will be used.\n",
      "  % freq, ValueWarning)\n",
      "C:\\Users\\Sandhyana\\Anaconda3\\lib\\site-packages\\statsmodels\\tsa\\base\\tsa_model.py:162: ValueWarning: No frequency information was provided, so inferred frequency D will be used.\n",
      "  % freq, ValueWarning)\n",
      "C:\\Users\\Sandhyana\\Anaconda3\\lib\\site-packages\\statsmodels\\tsa\\base\\tsa_model.py:162: ValueWarning: No frequency information was provided, so inferred frequency D will be used.\n",
      "  % freq, ValueWarning)\n",
      "C:\\Users\\Sandhyana\\Anaconda3\\lib\\site-packages\\statsmodels\\tsa\\base\\tsa_model.py:162: ValueWarning: No frequency information was provided, so inferred frequency D will be used.\n",
      "  % freq, ValueWarning)\n",
      "C:\\Users\\Sandhyana\\Anaconda3\\lib\\site-packages\\statsmodels\\tsa\\base\\tsa_model.py:162: ValueWarning: No frequency information was provided, so inferred frequency D will be used.\n",
      "  % freq, ValueWarning)\n",
      "C:\\Users\\Sandhyana\\Anaconda3\\lib\\site-packages\\statsmodels\\tsa\\base\\tsa_model.py:162: ValueWarning: No frequency information was provided, so inferred frequency D will be used.\n",
      "  % freq, ValueWarning)\n",
      "C:\\Users\\Sandhyana\\Anaconda3\\lib\\site-packages\\statsmodels\\tsa\\base\\tsa_model.py:162: ValueWarning: No frequency information was provided, so inferred frequency D will be used.\n",
      "  % freq, ValueWarning)\n",
      "C:\\Users\\Sandhyana\\Anaconda3\\lib\\site-packages\\statsmodels\\tsa\\base\\tsa_model.py:162: ValueWarning: No frequency information was provided, so inferred frequency D will be used.\n",
      "  % freq, ValueWarning)\n",
      "C:\\Users\\Sandhyana\\Anaconda3\\lib\\site-packages\\statsmodels\\tsa\\base\\tsa_model.py:162: ValueWarning: No frequency information was provided, so inferred frequency D will be used.\n",
      "  % freq, ValueWarning)\n"
     ]
    },
    {
     "data": {
      "text/html": [
       "<table class=\"simpletable\">\n",
       "<caption>VECM Order Selection (* highlights the minimums)</caption>\n",
       "<tr>\n",
       "   <td></td>      <th>AIC</th>         <th>BIC</th>         <th>FPE</th>        <th>HQIC</th>    \n",
       "</tr>\n",
       "<tr>\n",
       "  <th>0</th>  <td>    0.4357</td>  <td>    0.4576</td>  <td>     1.546</td>  <td>    0.4438</td> \n",
       "</tr>\n",
       "<tr>\n",
       "  <th>1</th>  <td>    0.3776</td>  <td>    0.4141*</td> <td>     1.459</td>  <td>    0.3912*</td>\n",
       "</tr>\n",
       "<tr>\n",
       "  <th>2</th>  <td>    0.3772*</td> <td>    0.4282</td>  <td>     1.458*</td> <td>    0.3962</td> \n",
       "</tr>\n",
       "<tr>\n",
       "  <th>3</th>  <td>    0.3791</td>  <td>    0.4448</td>  <td>     1.461</td>  <td>    0.4036</td> \n",
       "</tr>\n",
       "<tr>\n",
       "  <th>4</th>  <td>    0.3822</td>  <td>    0.4624</td>  <td>     1.466</td>  <td>    0.4121</td> \n",
       "</tr>\n",
       "<tr>\n",
       "  <th>5</th>  <td>    0.3822</td>  <td>    0.4770</td>  <td>     1.466</td>  <td>    0.4176</td> \n",
       "</tr>\n",
       "<tr>\n",
       "  <th>6</th>  <td>    0.3869</td>  <td>    0.4962</td>  <td>     1.472</td>  <td>    0.4277</td> \n",
       "</tr>\n",
       "<tr>\n",
       "  <th>7</th>  <td>    0.3902</td>  <td>    0.5142</td>  <td>     1.477</td>  <td>    0.4365</td> \n",
       "</tr>\n",
       "<tr>\n",
       "  <th>8</th>  <td>    0.3920</td>  <td>    0.5305</td>  <td>     1.480</td>  <td>    0.4437</td> \n",
       "</tr>\n",
       "<tr>\n",
       "  <th>9</th>  <td>    0.3962</td>  <td>    0.5493</td>  <td>     1.486</td>  <td>    0.4533</td> \n",
       "</tr>\n",
       "<tr>\n",
       "  <th>10</th> <td>    0.3984</td>  <td>    0.5660</td>  <td>     1.489</td>  <td>    0.4609</td> \n",
       "</tr>\n",
       "<tr>\n",
       "  <th>11</th> <td>    0.4024</td>  <td>    0.5847</td>  <td>     1.495</td>  <td>    0.4704</td> \n",
       "</tr>\n",
       "<tr>\n",
       "  <th>12</th> <td>    0.4055</td>  <td>    0.6023</td>  <td>     1.500</td>  <td>    0.4789</td> \n",
       "</tr>\n",
       "</table>"
      ],
      "text/plain": [
       "<class 'statsmodels.iolib.table.SimpleTable'>"
      ]
     },
     "execution_count": 77,
     "metadata": {},
     "output_type": "execute_result"
    }
   ],
   "source": [
    "# the johansen VAR framework is adopted\n",
    "# we need to ensure that variables are non stationary\n",
    "\n",
    "from statsmodels.tsa.vector_ar import vecm\n",
    "model=vecm.select_order(df3,maxlags=12)\n",
    "model.summary()"
   ]
  },
  {
   "cell_type": "code",
   "execution_count": 88,
   "metadata": {},
   "outputs": [
    {
     "data": {
      "text/html": [
       "<table class=\"simpletable\">\n",
       "<caption>Johansen cointegration test using trace test statistic with 1% significance level</caption>\n",
       "<tr>\n",
       "  <th>r_0</th> <th>r_1</th> <th>test statistic</th> <th>critical value</th>\n",
       "</tr>\n",
       "<tr>\n",
       "    <td>0</td>   <td>2</td>          <td>16.56</td>          <td>23.15</td>\n",
       "</tr>\n",
       "</table>"
      ],
      "text/plain": [
       "<class 'statsmodels.iolib.table.SimpleTable'>"
      ]
     },
     "execution_count": 88,
     "metadata": {},
     "output_type": "execute_result"
    }
   ],
   "source": [
    "vec_rank1=vecm.select_coint_rank(df3,det_order=1,k_ar_diff=1,method='trace',signif=0.01)\n",
    "vec_rank1.summary()"
   ]
  },
  {
   "cell_type": "code",
   "execution_count": 79,
   "metadata": {},
   "outputs": [],
   "source": [
    "#we obtain the train test statistic with 1% significance level with\n",
    "#critical values. "
   ]
  },
  {
   "cell_type": "markdown",
   "metadata": {},
   "source": [
    "The first row of the table tests the null hypothesis of at most one\n",
    "cointegrating vector, against the alternative hypothesis that the number of cointegrating equations is strictly larger than the number assumed under the null hypothesis, i.e., larger than one."
   ]
  },
  {
   "cell_type": "code",
   "execution_count": 80,
   "metadata": {},
   "outputs": [],
   "source": [
    "#we find that the test statistic of 27.29 exceeds the critical value \n",
    "#of 23.15 and hence, the null of at most one cointegrating\n",
    "#vector is rejected. Moving to the next row, however, the test\n",
    "#statistic of 2.752 is lower than the critical value of 6.635\n",
    "#and therefore, the null of at most two cointegrating vectors is\n",
    "#not rejected at the 1% significance level"
   ]
  },
  {
   "cell_type": "markdown",
   "metadata": {},
   "source": [
    "Besides the λtrace statistic, we can also employ an alternative statistic, the maximum-eigenvalue statistic (λmax). In contrast to the trace statistic, the maximum-eigenvalue statistic assumes a given number of r cointegrating relations under the null hypothesis and tests this against the alternative that there are r + 1 cointegrating equations"
   ]
  },
  {
   "cell_type": "code",
   "execution_count": 81,
   "metadata": {},
   "outputs": [
    {
     "data": {
      "text/html": [
       "<table class=\"simpletable\">\n",
       "<caption>Johansen cointegration test using maximum eigenvalue test statistic with 1% significance level</caption>\n",
       "<tr>\n",
       "  <th>r_0</th> <th>r_1</th> <th>test statistic</th> <th>critical value</th>\n",
       "</tr>\n",
       "<tr>\n",
       "    <td>0</td>   <td>1</td>          <td>16.30</td>          <td>21.75</td>\n",
       "</tr>\n",
       "</table>"
      ],
      "text/plain": [
       "<class 'statsmodels.iolib.table.SimpleTable'>"
      ]
     },
     "execution_count": 81,
     "metadata": {},
     "output_type": "execute_result"
    }
   ],
   "source": [
    "vec_rank2=vecm.select_coint_rank(df3,det_order=1,k_ar_diff=1,method='maxeig',signif=0.01)\n",
    "vec_rank2.summary()"
   ]
  },
  {
   "cell_type": "markdown",
   "metadata": {},
   "source": [
    "Now that we have determined the lag length, trend specification and the number of cointegrating relationships, we can fit the VECM model.\n",
    "\n",
    "To do so, we call the function VECM. In the VECM inputs, we first specify both prices as the dependent variables and then select 2 as the number of cointegrating equations (rank) and one again as the maximum lag to be included in the underlying VAR model. \n",
    "\n",
    "As in the previous input, we set the deterministic argument to ’co’, meaning that there is a constant inside the cointegrating relationship \n",
    "\n"
   ]
  },
  {
   "cell_type": "code",
   "execution_count": 83,
   "metadata": {},
   "outputs": [
    {
     "name": "stderr",
     "output_type": "stream",
     "text": [
      "C:\\Users\\Sandhyana\\Anaconda3\\lib\\site-packages\\statsmodels\\tsa\\base\\tsa_model.py:162: ValueWarning: No frequency information was provided, so inferred frequency D will be used.\n",
      "  % freq, ValueWarning)\n"
     ]
    },
    {
     "data": {
      "text/html": [
       "<table class=\"simpletable\">\n",
       "<caption>Det. terms outside the coint. relation & lagged endog. parameters for equation bp</caption>\n",
       "<tr>\n",
       "    <td></td>       <th>coef</th>     <th>std err</th>      <th>z</th>      <th>P>|z|</th>  <th>[0.025</th>    <th>0.975]</th>  \n",
       "</tr>\n",
       "<tr>\n",
       "  <th>const</th> <td>   -0.1029</td> <td>    0.345</td> <td>   -0.298</td> <td> 0.766</td> <td>   -0.780</td> <td>    0.574</td>\n",
       "</tr>\n",
       "<tr>\n",
       "  <th>L1.bp</th> <td>   -0.1395</td> <td>    0.033</td> <td>   -4.256</td> <td> 0.000</td> <td>   -0.204</td> <td>   -0.075</td>\n",
       "</tr>\n",
       "<tr>\n",
       "  <th>L1.wp</th> <td>    0.2285</td> <td>    0.032</td> <td>    7.231</td> <td> 0.000</td> <td>    0.167</td> <td>    0.290</td>\n",
       "</tr>\n",
       "</table>\n",
       "<table class=\"simpletable\">\n",
       "<caption>Det. terms outside the coint. relation & lagged endog. parameters for equation wp</caption>\n",
       "<tr>\n",
       "    <td></td>       <th>coef</th>     <th>std err</th>      <th>z</th>      <th>P>|z|</th>  <th>[0.025</th>    <th>0.975]</th>  \n",
       "</tr>\n",
       "<tr>\n",
       "  <th>const</th> <td>   -0.0700</td> <td>    0.364</td> <td>   -0.192</td> <td> 0.847</td> <td>   -0.783</td> <td>    0.643</td>\n",
       "</tr>\n",
       "<tr>\n",
       "  <th>L1.bp</th> <td>   -0.0262</td> <td>    0.035</td> <td>   -0.759</td> <td> 0.448</td> <td>   -0.094</td> <td>    0.041</td>\n",
       "</tr>\n",
       "<tr>\n",
       "  <th>L1.wp</th> <td>   -0.0125</td> <td>    0.033</td> <td>   -0.375</td> <td> 0.708</td> <td>   -0.078</td> <td>    0.053</td>\n",
       "</tr>\n",
       "</table>\n",
       "<table class=\"simpletable\">\n",
       "<caption>Loading coefficients (alpha) for equation bp</caption>\n",
       "<tr>\n",
       "   <td></td>      <th>coef</th>     <th>std err</th>      <th>z</th>      <th>P>|z|</th>  <th>[0.025</th>    <th>0.975]</th>  \n",
       "</tr>\n",
       "<tr>\n",
       "  <th>ec1</th> <td>   -0.0002</td> <td>    0.005</td> <td>   -0.042</td> <td> 0.967</td> <td>   -0.009</td> <td>    0.009</td>\n",
       "</tr>\n",
       "<tr>\n",
       "  <th>ec2</th> <td>    0.0011</td> <td>    0.005</td> <td>    0.195</td> <td> 0.845</td> <td>   -0.010</td> <td>    0.012</td>\n",
       "</tr>\n",
       "</table>\n",
       "<table class=\"simpletable\">\n",
       "<caption>Loading coefficients (alpha) for equation wp</caption>\n",
       "<tr>\n",
       "   <td></td>      <th>coef</th>     <th>std err</th>      <th>z</th>      <th>P>|z|</th>  <th>[0.025</th>    <th>0.975]</th>  \n",
       "</tr>\n",
       "<tr>\n",
       "  <th>ec1</th> <td>    0.0104</td> <td>    0.005</td> <td>    2.103</td> <td> 0.035</td> <td>    0.001</td> <td>    0.020</td>\n",
       "</tr>\n",
       "<tr>\n",
       "  <th>ec2</th> <td>   -0.0113</td> <td>    0.006</td> <td>   -1.993</td> <td> 0.046</td> <td>   -0.022</td> <td>   -0.000</td>\n",
       "</tr>\n",
       "</table>\n",
       "<table class=\"simpletable\">\n",
       "<caption>Cointegration relations for loading-coefficients-column 1</caption>\n",
       "<tr>\n",
       "     <td></td>       <th>coef</th>     <th>std err</th>      <th>z</th>      <th>P>|z|</th>  <th>[0.025</th>    <th>0.975]</th>  \n",
       "</tr>\n",
       "<tr>\n",
       "  <th>beta.1</th> <td>    1.0000</td> <td>        0</td> <td>        0</td> <td> 0.000</td> <td>    1.000</td> <td>    1.000</td>\n",
       "</tr>\n",
       "<tr>\n",
       "  <th>beta.2</th> <td>         0</td> <td>        0</td> <td>        0</td> <td> 0.000</td> <td>        0</td> <td>        0</td>\n",
       "</tr>\n",
       "</table>\n",
       "<table class=\"simpletable\">\n",
       "<caption>Cointegration relations for loading-coefficients-column 2</caption>\n",
       "<tr>\n",
       "     <td></td>       <th>coef</th>     <th>std err</th>      <th>z</th>      <th>P>|z|</th>  <th>[0.025</th>    <th>0.975]</th>  \n",
       "</tr>\n",
       "<tr>\n",
       "  <th>beta.1</th> <td> -1.11e-16</td> <td>        0</td> <td>        0</td> <td> 0.000</td> <td>-1.11e-16</td> <td>-1.11e-16</td>\n",
       "</tr>\n",
       "<tr>\n",
       "  <th>beta.2</th> <td>    1.0000</td> <td>        0</td> <td>        0</td> <td> 0.000</td> <td>    1.000</td> <td>    1.000</td>\n",
       "</tr>\n",
       "</table>"
      ],
      "text/plain": [
       "<class 'statsmodels.iolib.summary.Summary'>\n",
       "\"\"\"\n",
       "Det. terms outside the coint. relation & lagged endog. parameters for equation bp\n",
       "==============================================================================\n",
       "                 coef    std err          z      P>|z|      [0.025      0.975]\n",
       "------------------------------------------------------------------------------\n",
       "const         -0.1029      0.345     -0.298      0.766      -0.780       0.574\n",
       "L1.bp         -0.1395      0.033     -4.256      0.000      -0.204      -0.075\n",
       "L1.wp          0.2285      0.032      7.231      0.000       0.167       0.290\n",
       "Det. terms outside the coint. relation & lagged endog. parameters for equation wp\n",
       "==============================================================================\n",
       "                 coef    std err          z      P>|z|      [0.025      0.975]\n",
       "------------------------------------------------------------------------------\n",
       "const         -0.0700      0.364     -0.192      0.847      -0.783       0.643\n",
       "L1.bp         -0.0262      0.035     -0.759      0.448      -0.094       0.041\n",
       "L1.wp         -0.0125      0.033     -0.375      0.708      -0.078       0.053\n",
       "                 Loading coefficients (alpha) for equation bp                 \n",
       "==============================================================================\n",
       "                 coef    std err          z      P>|z|      [0.025      0.975]\n",
       "------------------------------------------------------------------------------\n",
       "ec1           -0.0002      0.005     -0.042      0.967      -0.009       0.009\n",
       "ec2            0.0011      0.005      0.195      0.845      -0.010       0.012\n",
       "                 Loading coefficients (alpha) for equation wp                 \n",
       "==============================================================================\n",
       "                 coef    std err          z      P>|z|      [0.025      0.975]\n",
       "------------------------------------------------------------------------------\n",
       "ec1            0.0104      0.005      2.103      0.035       0.001       0.020\n",
       "ec2           -0.0113      0.006     -1.993      0.046      -0.022      -0.000\n",
       "          Cointegration relations for loading-coefficients-column 1           \n",
       "==============================================================================\n",
       "                 coef    std err          z      P>|z|      [0.025      0.975]\n",
       "------------------------------------------------------------------------------\n",
       "beta.1         1.0000          0          0      0.000       1.000       1.000\n",
       "beta.2              0          0          0      0.000           0           0\n",
       "          Cointegration relations for loading-coefficients-column 2           \n",
       "==============================================================================\n",
       "                 coef    std err          z      P>|z|      [0.025      0.975]\n",
       "------------------------------------------------------------------------------\n",
       "beta.1      -1.11e-16          0          0      0.000   -1.11e-16   -1.11e-16\n",
       "beta.2         1.0000          0          0      0.000       1.000       1.000\n",
       "==============================================================================\n",
       "\"\"\""
      ]
     },
     "execution_count": 83,
     "metadata": {},
     "output_type": "execute_result"
    }
   ],
   "source": [
    "#VECM\n",
    "model=vecm.VECM(df3,k_ar_diff=1,coint_rank=2,deterministic='co')\n",
    "res=model.fit()\n",
    "res.summary()"
   ]
  },
  {
   "cell_type": "code",
   "execution_count": null,
   "metadata": {},
   "outputs": [],
   "source": []
  }
 ],
 "metadata": {
  "kernelspec": {
   "display_name": "Python 3",
   "language": "python",
   "name": "python3"
  },
  "language_info": {
   "codemirror_mode": {
    "name": "ipython",
    "version": 3
   },
   "file_extension": ".py",
   "mimetype": "text/x-python",
   "name": "python",
   "nbconvert_exporter": "python",
   "pygments_lexer": "ipython3",
   "version": "3.8.8"
  }
 },
 "nbformat": 4,
 "nbformat_minor": 4
}

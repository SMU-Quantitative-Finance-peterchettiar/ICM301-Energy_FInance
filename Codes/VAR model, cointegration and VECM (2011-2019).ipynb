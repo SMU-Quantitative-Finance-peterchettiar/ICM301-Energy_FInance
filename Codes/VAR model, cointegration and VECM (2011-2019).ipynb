{
 "cells": [
  {
   "cell_type": "code",
   "execution_count": 46,
   "metadata": {},
   "outputs": [],
   "source": [
    "import pandas as pd\n",
    "import numpy as np\n",
    "import matplotlib.pyplot as plt\n",
    "\n",
    "from statsmodels.tsa.api import VAR\n",
    "from statsmodels.tsa.stattools import adfuller\n",
    "from statsmodels.tools.eval_measures import rmse, aic\n",
    "import pickle"
   ]
  },
  {
   "cell_type": "code",
   "execution_count": 47,
   "metadata": {},
   "outputs": [],
   "source": [
    "brent = pd.read_excel(r'C:\\Users\\Sandhyana\\Desktop\\brentprice.xls', sheet_name='Data 1',index_col='Date')\n",
    "wti = pd.read_excel(r'C:\\Users\\Sandhyana\\Desktop\\wtiprice.xls', sheet_name='Data 1',index_col='Date')"
   ]
  },
  {
   "cell_type": "code",
   "execution_count": 48,
   "metadata": {},
   "outputs": [],
   "source": [
    "brent1 = brent.resample('D').ffill().reset_index()\n",
    "wti1 = wti.resample('D').ffill().reset_index()"
   ]
  },
  {
   "cell_type": "code",
   "execution_count": 60,
   "metadata": {},
   "outputs": [
    {
     "data": {
      "text/html": [
       "<div>\n",
       "<style scoped>\n",
       "    .dataframe tbody tr th:only-of-type {\n",
       "        vertical-align: middle;\n",
       "    }\n",
       "\n",
       "    .dataframe tbody tr th {\n",
       "        vertical-align: top;\n",
       "    }\n",
       "\n",
       "    .dataframe thead th {\n",
       "        text-align: right;\n",
       "    }\n",
       "</style>\n",
       "<table border=\"1\" class=\"dataframe\">\n",
       "  <thead>\n",
       "    <tr style=\"text-align: right;\">\n",
       "      <th></th>\n",
       "      <th>Date</th>\n",
       "      <th>bp</th>\n",
       "      <th>wp</th>\n",
       "    </tr>\n",
       "  </thead>\n",
       "  <tbody>\n",
       "    <tr>\n",
       "      <td>0</td>\n",
       "      <td>1987-05-20</td>\n",
       "      <td>18.63</td>\n",
       "      <td>19.75</td>\n",
       "    </tr>\n",
       "    <tr>\n",
       "      <td>1</td>\n",
       "      <td>1987-05-21</td>\n",
       "      <td>18.45</td>\n",
       "      <td>19.95</td>\n",
       "    </tr>\n",
       "    <tr>\n",
       "      <td>2</td>\n",
       "      <td>1987-05-22</td>\n",
       "      <td>18.55</td>\n",
       "      <td>19.68</td>\n",
       "    </tr>\n",
       "    <tr>\n",
       "      <td>3</td>\n",
       "      <td>1987-05-23</td>\n",
       "      <td>18.55</td>\n",
       "      <td>19.68</td>\n",
       "    </tr>\n",
       "    <tr>\n",
       "      <td>4</td>\n",
       "      <td>1987-05-24</td>\n",
       "      <td>18.55</td>\n",
       "      <td>19.68</td>\n",
       "    </tr>\n",
       "    <tr>\n",
       "      <td>...</td>\n",
       "      <td>...</td>\n",
       "      <td>...</td>\n",
       "      <td>...</td>\n",
       "    </tr>\n",
       "    <tr>\n",
       "      <td>12118</td>\n",
       "      <td>2020-07-23</td>\n",
       "      <td>42.96</td>\n",
       "      <td>40.99</td>\n",
       "    </tr>\n",
       "    <tr>\n",
       "      <td>12119</td>\n",
       "      <td>2020-07-24</td>\n",
       "      <td>43.29</td>\n",
       "      <td>41.23</td>\n",
       "    </tr>\n",
       "    <tr>\n",
       "      <td>12120</td>\n",
       "      <td>2020-07-25</td>\n",
       "      <td>43.29</td>\n",
       "      <td>41.23</td>\n",
       "    </tr>\n",
       "    <tr>\n",
       "      <td>12121</td>\n",
       "      <td>2020-07-26</td>\n",
       "      <td>43.29</td>\n",
       "      <td>41.23</td>\n",
       "    </tr>\n",
       "    <tr>\n",
       "      <td>12122</td>\n",
       "      <td>2020-07-27</td>\n",
       "      <td>43.39</td>\n",
       "      <td>41.46</td>\n",
       "    </tr>\n",
       "  </tbody>\n",
       "</table>\n",
       "<p>12123 rows × 3 columns</p>\n",
       "</div>"
      ],
      "text/plain": [
       "            Date     bp     wp\n",
       "0     1987-05-20  18.63  19.75\n",
       "1     1987-05-21  18.45  19.95\n",
       "2     1987-05-22  18.55  19.68\n",
       "3     1987-05-23  18.55  19.68\n",
       "4     1987-05-24  18.55  19.68\n",
       "...          ...    ...    ...\n",
       "12118 2020-07-23  42.96  40.99\n",
       "12119 2020-07-24  43.29  41.23\n",
       "12120 2020-07-25  43.29  41.23\n",
       "12121 2020-07-26  43.29  41.23\n",
       "12122 2020-07-27  43.39  41.46\n",
       "\n",
       "[12123 rows x 3 columns]"
      ]
     },
     "execution_count": 60,
     "metadata": {},
     "output_type": "execute_result"
    }
   ],
   "source": [
    "prices=[brent1['Date'],brent1['bp'],wti1['wp']]\n",
    "price=pd.concat(prices, axis=1)\n",
    "price"
   ]
  },
  {
   "cell_type": "code",
   "execution_count": 50,
   "metadata": {},
   "outputs": [
    {
     "data": {
      "text/html": [
       "<div>\n",
       "<style scoped>\n",
       "    .dataframe tbody tr th:only-of-type {\n",
       "        vertical-align: middle;\n",
       "    }\n",
       "\n",
       "    .dataframe tbody tr th {\n",
       "        vertical-align: top;\n",
       "    }\n",
       "\n",
       "    .dataframe thead th {\n",
       "        text-align: right;\n",
       "    }\n",
       "</style>\n",
       "<table border=\"1\" class=\"dataframe\">\n",
       "  <thead>\n",
       "    <tr style=\"text-align: right;\">\n",
       "      <th></th>\n",
       "      <th>Date</th>\n",
       "      <th>bp</th>\n",
       "      <th>wp</th>\n",
       "    </tr>\n",
       "  </thead>\n",
       "  <tbody>\n",
       "    <tr>\n",
       "      <td>8627</td>\n",
       "      <td>2011-01-01</td>\n",
       "      <td>93.23</td>\n",
       "      <td>91.38</td>\n",
       "    </tr>\n",
       "    <tr>\n",
       "      <td>8628</td>\n",
       "      <td>2011-01-02</td>\n",
       "      <td>93.23</td>\n",
       "      <td>91.38</td>\n",
       "    </tr>\n",
       "    <tr>\n",
       "      <td>8629</td>\n",
       "      <td>2011-01-03</td>\n",
       "      <td>95.82</td>\n",
       "      <td>91.59</td>\n",
       "    </tr>\n",
       "    <tr>\n",
       "      <td>8630</td>\n",
       "      <td>2011-01-04</td>\n",
       "      <td>93.52</td>\n",
       "      <td>89.39</td>\n",
       "    </tr>\n",
       "    <tr>\n",
       "      <td>8631</td>\n",
       "      <td>2011-01-05</td>\n",
       "      <td>95.07</td>\n",
       "      <td>90.30</td>\n",
       "    </tr>\n",
       "    <tr>\n",
       "      <td>...</td>\n",
       "      <td>...</td>\n",
       "      <td>...</td>\n",
       "      <td>...</td>\n",
       "    </tr>\n",
       "    <tr>\n",
       "      <td>11909</td>\n",
       "      <td>2019-12-27</td>\n",
       "      <td>68.91</td>\n",
       "      <td>61.76</td>\n",
       "    </tr>\n",
       "    <tr>\n",
       "      <td>11910</td>\n",
       "      <td>2019-12-28</td>\n",
       "      <td>68.91</td>\n",
       "      <td>61.76</td>\n",
       "    </tr>\n",
       "    <tr>\n",
       "      <td>11911</td>\n",
       "      <td>2019-12-29</td>\n",
       "      <td>68.91</td>\n",
       "      <td>61.76</td>\n",
       "    </tr>\n",
       "    <tr>\n",
       "      <td>11912</td>\n",
       "      <td>2019-12-30</td>\n",
       "      <td>68.30</td>\n",
       "      <td>61.66</td>\n",
       "    </tr>\n",
       "    <tr>\n",
       "      <td>11913</td>\n",
       "      <td>2019-12-31</td>\n",
       "      <td>67.77</td>\n",
       "      <td>61.14</td>\n",
       "    </tr>\n",
       "  </tbody>\n",
       "</table>\n",
       "<p>3287 rows × 3 columns</p>\n",
       "</div>"
      ],
      "text/plain": [
       "            Date     bp     wp\n",
       "8627  2011-01-01  93.23  91.38\n",
       "8628  2011-01-02  93.23  91.38\n",
       "8629  2011-01-03  95.82  91.59\n",
       "8630  2011-01-04  93.52  89.39\n",
       "8631  2011-01-05  95.07  90.30\n",
       "...          ...    ...    ...\n",
       "11909 2019-12-27  68.91  61.76\n",
       "11910 2019-12-28  68.91  61.76\n",
       "11911 2019-12-29  68.91  61.76\n",
       "11912 2019-12-30  68.30  61.66\n",
       "11913 2019-12-31  67.77  61.14\n",
       "\n",
       "[3287 rows x 3 columns]"
      ]
     },
     "execution_count": 50,
     "metadata": {},
     "output_type": "execute_result"
    }
   ],
   "source": [
    "price = price[(price['Date' ] > '2010-12-31') & (price['Date' ] <= '2019-12-31')]\n",
    "price"
   ]
  },
  {
   "cell_type": "code",
   "execution_count": 6,
   "metadata": {},
   "outputs": [],
   "source": [
    "price.set_index('Date', inplace=True)\n"
   ]
  },
  {
   "cell_type": "code",
   "execution_count": 7,
   "metadata": {},
   "outputs": [
    {
     "name": "stderr",
     "output_type": "stream",
     "text": [
      "C:\\Users\\Sandhyana\\Anaconda3\\lib\\site-packages\\ipykernel_launcher.py:1: SettingWithCopyWarning: \n",
      "A value is trying to be set on a copy of a slice from a DataFrame.\n",
      "Try using .loc[row_indexer,col_indexer] = value instead\n",
      "\n",
      "See the caveats in the documentation: http://pandas.pydata.org/pandas-docs/stable/user_guide/indexing.html#returning-a-view-versus-a-copy\n",
      "  \"\"\"Entry point for launching an IPython kernel.\n",
      "C:\\Users\\Sandhyana\\Anaconda3\\lib\\site-packages\\ipykernel_launcher.py:2: SettingWithCopyWarning: \n",
      "A value is trying to be set on a copy of a slice from a DataFrame.\n",
      "Try using .loc[row_indexer,col_indexer] = value instead\n",
      "\n",
      "See the caveats in the documentation: http://pandas.pydata.org/pandas-docs/stable/user_guide/indexing.html#returning-a-view-versus-a-copy\n",
      "  \n"
     ]
    },
    {
     "data": {
      "text/html": [
       "<div>\n",
       "<style scoped>\n",
       "    .dataframe tbody tr th:only-of-type {\n",
       "        vertical-align: middle;\n",
       "    }\n",
       "\n",
       "    .dataframe tbody tr th {\n",
       "        vertical-align: top;\n",
       "    }\n",
       "\n",
       "    .dataframe thead th {\n",
       "        text-align: right;\n",
       "    }\n",
       "</style>\n",
       "<table border=\"1\" class=\"dataframe\">\n",
       "  <thead>\n",
       "    <tr style=\"text-align: right;\">\n",
       "      <th></th>\n",
       "      <th>bp</th>\n",
       "      <th>wp</th>\n",
       "      <th>brentdiff</th>\n",
       "      <th>wtidiff</th>\n",
       "    </tr>\n",
       "    <tr>\n",
       "      <th>Date</th>\n",
       "      <th></th>\n",
       "      <th></th>\n",
       "      <th></th>\n",
       "      <th></th>\n",
       "    </tr>\n",
       "  </thead>\n",
       "  <tbody>\n",
       "    <tr>\n",
       "      <td>2011-01-01</td>\n",
       "      <td>93.23</td>\n",
       "      <td>91.38</td>\n",
       "      <td>NaN</td>\n",
       "      <td>NaN</td>\n",
       "    </tr>\n",
       "    <tr>\n",
       "      <td>2011-01-02</td>\n",
       "      <td>93.23</td>\n",
       "      <td>91.38</td>\n",
       "      <td>0.000000</td>\n",
       "      <td>0.000000</td>\n",
       "    </tr>\n",
       "    <tr>\n",
       "      <td>2011-01-03</td>\n",
       "      <td>95.82</td>\n",
       "      <td>91.59</td>\n",
       "      <td>2.740187</td>\n",
       "      <td>0.229546</td>\n",
       "    </tr>\n",
       "    <tr>\n",
       "      <td>2011-01-04</td>\n",
       "      <td>93.52</td>\n",
       "      <td>89.39</td>\n",
       "      <td>-2.429611</td>\n",
       "      <td>-2.431328</td>\n",
       "    </tr>\n",
       "    <tr>\n",
       "      <td>2011-01-05</td>\n",
       "      <td>95.07</td>\n",
       "      <td>90.30</td>\n",
       "      <td>1.643815</td>\n",
       "      <td>1.012864</td>\n",
       "    </tr>\n",
       "    <tr>\n",
       "      <td>...</td>\n",
       "      <td>...</td>\n",
       "      <td>...</td>\n",
       "      <td>...</td>\n",
       "      <td>...</td>\n",
       "    </tr>\n",
       "    <tr>\n",
       "      <td>2019-12-27</td>\n",
       "      <td>68.91</td>\n",
       "      <td>61.76</td>\n",
       "      <td>-0.506623</td>\n",
       "      <td>0.064788</td>\n",
       "    </tr>\n",
       "    <tr>\n",
       "      <td>2019-12-28</td>\n",
       "      <td>68.91</td>\n",
       "      <td>61.76</td>\n",
       "      <td>0.000000</td>\n",
       "      <td>0.000000</td>\n",
       "    </tr>\n",
       "    <tr>\n",
       "      <td>2019-12-29</td>\n",
       "      <td>68.91</td>\n",
       "      <td>61.76</td>\n",
       "      <td>0.000000</td>\n",
       "      <td>0.000000</td>\n",
       "    </tr>\n",
       "    <tr>\n",
       "      <td>2019-12-30</td>\n",
       "      <td>68.30</td>\n",
       "      <td>61.66</td>\n",
       "      <td>-0.889154</td>\n",
       "      <td>-0.162048</td>\n",
       "    </tr>\n",
       "    <tr>\n",
       "      <td>2019-12-31</td>\n",
       "      <td>67.77</td>\n",
       "      <td>61.14</td>\n",
       "      <td>-0.779015</td>\n",
       "      <td>-0.846911</td>\n",
       "    </tr>\n",
       "  </tbody>\n",
       "</table>\n",
       "<p>3287 rows × 4 columns</p>\n",
       "</div>"
      ],
      "text/plain": [
       "               bp     wp  brentdiff   wtidiff\n",
       "Date                                         \n",
       "2011-01-01  93.23  91.38        NaN       NaN\n",
       "2011-01-02  93.23  91.38   0.000000  0.000000\n",
       "2011-01-03  95.82  91.59   2.740187  0.229546\n",
       "2011-01-04  93.52  89.39  -2.429611 -2.431328\n",
       "2011-01-05  95.07  90.30   1.643815  1.012864\n",
       "...           ...    ...        ...       ...\n",
       "2019-12-27  68.91  61.76  -0.506623  0.064788\n",
       "2019-12-28  68.91  61.76   0.000000  0.000000\n",
       "2019-12-29  68.91  61.76   0.000000  0.000000\n",
       "2019-12-30  68.30  61.66  -0.889154 -0.162048\n",
       "2019-12-31  67.77  61.14  -0.779015 -0.846911\n",
       "\n",
       "[3287 rows x 4 columns]"
      ]
     },
     "execution_count": 7,
     "metadata": {},
     "output_type": "execute_result"
    }
   ],
   "source": [
    "price['brentdiff']=100*(np.log((price['bp'])/price['bp'].shift(1)))\n",
    "price['wtidiff']=100*(np.log((price['wp'])/price['wp'].shift(1)))\n",
    "price"
   ]
  },
  {
   "cell_type": "code",
   "execution_count": 8,
   "metadata": {},
   "outputs": [
    {
     "data": {
      "text/html": [
       "<div>\n",
       "<style scoped>\n",
       "    .dataframe tbody tr th:only-of-type {\n",
       "        vertical-align: middle;\n",
       "    }\n",
       "\n",
       "    .dataframe tbody tr th {\n",
       "        vertical-align: top;\n",
       "    }\n",
       "\n",
       "    .dataframe thead th {\n",
       "        text-align: right;\n",
       "    }\n",
       "</style>\n",
       "<table border=\"1\" class=\"dataframe\">\n",
       "  <thead>\n",
       "    <tr style=\"text-align: right;\">\n",
       "      <th></th>\n",
       "      <th>bp</th>\n",
       "      <th>wp</th>\n",
       "      <th>brentdiff</th>\n",
       "      <th>wtidiff</th>\n",
       "    </tr>\n",
       "    <tr>\n",
       "      <th>Date</th>\n",
       "      <th></th>\n",
       "      <th></th>\n",
       "      <th></th>\n",
       "      <th></th>\n",
       "    </tr>\n",
       "  </thead>\n",
       "  <tbody>\n",
       "    <tr>\n",
       "      <td>2011-01-02</td>\n",
       "      <td>93.23</td>\n",
       "      <td>91.38</td>\n",
       "      <td>0.000000</td>\n",
       "      <td>0.000000</td>\n",
       "    </tr>\n",
       "    <tr>\n",
       "      <td>2011-01-03</td>\n",
       "      <td>95.82</td>\n",
       "      <td>91.59</td>\n",
       "      <td>2.740187</td>\n",
       "      <td>0.229546</td>\n",
       "    </tr>\n",
       "    <tr>\n",
       "      <td>2011-01-04</td>\n",
       "      <td>93.52</td>\n",
       "      <td>89.39</td>\n",
       "      <td>-2.429611</td>\n",
       "      <td>-2.431328</td>\n",
       "    </tr>\n",
       "    <tr>\n",
       "      <td>2011-01-05</td>\n",
       "      <td>95.07</td>\n",
       "      <td>90.30</td>\n",
       "      <td>1.643815</td>\n",
       "      <td>1.012864</td>\n",
       "    </tr>\n",
       "    <tr>\n",
       "      <td>2011-01-06</td>\n",
       "      <td>94.95</td>\n",
       "      <td>88.37</td>\n",
       "      <td>-0.126303</td>\n",
       "      <td>-2.160491</td>\n",
       "    </tr>\n",
       "    <tr>\n",
       "      <td>...</td>\n",
       "      <td>...</td>\n",
       "      <td>...</td>\n",
       "      <td>...</td>\n",
       "      <td>...</td>\n",
       "    </tr>\n",
       "    <tr>\n",
       "      <td>2019-12-27</td>\n",
       "      <td>68.91</td>\n",
       "      <td>61.76</td>\n",
       "      <td>-0.506623</td>\n",
       "      <td>0.064788</td>\n",
       "    </tr>\n",
       "    <tr>\n",
       "      <td>2019-12-28</td>\n",
       "      <td>68.91</td>\n",
       "      <td>61.76</td>\n",
       "      <td>0.000000</td>\n",
       "      <td>0.000000</td>\n",
       "    </tr>\n",
       "    <tr>\n",
       "      <td>2019-12-29</td>\n",
       "      <td>68.91</td>\n",
       "      <td>61.76</td>\n",
       "      <td>0.000000</td>\n",
       "      <td>0.000000</td>\n",
       "    </tr>\n",
       "    <tr>\n",
       "      <td>2019-12-30</td>\n",
       "      <td>68.30</td>\n",
       "      <td>61.66</td>\n",
       "      <td>-0.889154</td>\n",
       "      <td>-0.162048</td>\n",
       "    </tr>\n",
       "    <tr>\n",
       "      <td>2019-12-31</td>\n",
       "      <td>67.77</td>\n",
       "      <td>61.14</td>\n",
       "      <td>-0.779015</td>\n",
       "      <td>-0.846911</td>\n",
       "    </tr>\n",
       "  </tbody>\n",
       "</table>\n",
       "<p>3286 rows × 4 columns</p>\n",
       "</div>"
      ],
      "text/plain": [
       "               bp     wp  brentdiff   wtidiff\n",
       "Date                                         \n",
       "2011-01-02  93.23  91.38   0.000000  0.000000\n",
       "2011-01-03  95.82  91.59   2.740187  0.229546\n",
       "2011-01-04  93.52  89.39  -2.429611 -2.431328\n",
       "2011-01-05  95.07  90.30   1.643815  1.012864\n",
       "2011-01-06  94.95  88.37  -0.126303 -2.160491\n",
       "...           ...    ...        ...       ...\n",
       "2019-12-27  68.91  61.76  -0.506623  0.064788\n",
       "2019-12-28  68.91  61.76   0.000000  0.000000\n",
       "2019-12-29  68.91  61.76   0.000000  0.000000\n",
       "2019-12-30  68.30  61.66  -0.889154 -0.162048\n",
       "2019-12-31  67.77  61.14  -0.779015 -0.846911\n",
       "\n",
       "[3286 rows x 4 columns]"
      ]
     },
     "execution_count": 8,
     "metadata": {},
     "output_type": "execute_result"
    }
   ],
   "source": [
    "price1=price.dropna()\n",
    "price1"
   ]
  },
  {
   "cell_type": "code",
   "execution_count": 9,
   "metadata": {},
   "outputs": [
    {
     "data": {
      "text/html": [
       "<div>\n",
       "<style scoped>\n",
       "    .dataframe tbody tr th:only-of-type {\n",
       "        vertical-align: middle;\n",
       "    }\n",
       "\n",
       "    .dataframe tbody tr th {\n",
       "        vertical-align: top;\n",
       "    }\n",
       "\n",
       "    .dataframe thead th {\n",
       "        text-align: right;\n",
       "    }\n",
       "</style>\n",
       "<table border=\"1\" class=\"dataframe\">\n",
       "  <thead>\n",
       "    <tr style=\"text-align: right;\">\n",
       "      <th></th>\n",
       "      <th>brentdiff</th>\n",
       "      <th>wtidiff</th>\n",
       "    </tr>\n",
       "    <tr>\n",
       "      <th>Date</th>\n",
       "      <th></th>\n",
       "      <th></th>\n",
       "    </tr>\n",
       "  </thead>\n",
       "  <tbody>\n",
       "    <tr>\n",
       "      <td>2011-01-02</td>\n",
       "      <td>0.000000</td>\n",
       "      <td>0.000000</td>\n",
       "    </tr>\n",
       "    <tr>\n",
       "      <td>2011-01-03</td>\n",
       "      <td>2.740187</td>\n",
       "      <td>0.229546</td>\n",
       "    </tr>\n",
       "    <tr>\n",
       "      <td>2011-01-04</td>\n",
       "      <td>-2.429611</td>\n",
       "      <td>-2.431328</td>\n",
       "    </tr>\n",
       "    <tr>\n",
       "      <td>2011-01-05</td>\n",
       "      <td>1.643815</td>\n",
       "      <td>1.012864</td>\n",
       "    </tr>\n",
       "    <tr>\n",
       "      <td>2011-01-06</td>\n",
       "      <td>-0.126303</td>\n",
       "      <td>-2.160491</td>\n",
       "    </tr>\n",
       "    <tr>\n",
       "      <td>...</td>\n",
       "      <td>...</td>\n",
       "      <td>...</td>\n",
       "    </tr>\n",
       "    <tr>\n",
       "      <td>2019-12-27</td>\n",
       "      <td>-0.506623</td>\n",
       "      <td>0.064788</td>\n",
       "    </tr>\n",
       "    <tr>\n",
       "      <td>2019-12-28</td>\n",
       "      <td>0.000000</td>\n",
       "      <td>0.000000</td>\n",
       "    </tr>\n",
       "    <tr>\n",
       "      <td>2019-12-29</td>\n",
       "      <td>0.000000</td>\n",
       "      <td>0.000000</td>\n",
       "    </tr>\n",
       "    <tr>\n",
       "      <td>2019-12-30</td>\n",
       "      <td>-0.889154</td>\n",
       "      <td>-0.162048</td>\n",
       "    </tr>\n",
       "    <tr>\n",
       "      <td>2019-12-31</td>\n",
       "      <td>-0.779015</td>\n",
       "      <td>-0.846911</td>\n",
       "    </tr>\n",
       "  </tbody>\n",
       "</table>\n",
       "<p>3286 rows × 2 columns</p>\n",
       "</div>"
      ],
      "text/plain": [
       "            brentdiff   wtidiff\n",
       "Date                           \n",
       "2011-01-02   0.000000  0.000000\n",
       "2011-01-03   2.740187  0.229546\n",
       "2011-01-04  -2.429611 -2.431328\n",
       "2011-01-05   1.643815  1.012864\n",
       "2011-01-06  -0.126303 -2.160491\n",
       "...               ...       ...\n",
       "2019-12-27  -0.506623  0.064788\n",
       "2019-12-28   0.000000  0.000000\n",
       "2019-12-29   0.000000  0.000000\n",
       "2019-12-30  -0.889154 -0.162048\n",
       "2019-12-31  -0.779015 -0.846911\n",
       "\n",
       "[3286 rows x 2 columns]"
      ]
     },
     "execution_count": 9,
     "metadata": {},
     "output_type": "execute_result"
    }
   ],
   "source": [
    "price2= price1.iloc[:, 2:]\n",
    "price2"
   ]
  },
  {
   "cell_type": "code",
   "execution_count": 10,
   "metadata": {},
   "outputs": [
    {
     "name": "stderr",
     "output_type": "stream",
     "text": [
      "C:\\Users\\Sandhyana\\Anaconda3\\lib\\site-packages\\statsmodels\\tsa\\base\\tsa_model.py:162: ValueWarning: No frequency information was provided, so inferred frequency D will be used.\n",
      "  % freq, ValueWarning)\n"
     ]
    },
    {
     "data": {
      "text/plain": [
       "  Summary of Regression Results   \n",
       "==================================\n",
       "Model:                         VAR\n",
       "Method:                        OLS\n",
       "Date:           Mon, 10, Aug, 2020\n",
       "Time:                     22:10:57\n",
       "--------------------------------------------------------------------\n",
       "No. of Equations:         2.00000    BIC:                    1.49301\n",
       "Nobs:                     3284.00    HQIC:                   1.48109\n",
       "Log likelihood:          -11730.6    FPE:                    4.36859\n",
       "AIC:                      1.47444    Det(Omega_mle):         4.35532\n",
       "--------------------------------------------------------------------\n",
       "Results for equation brentdiff\n",
       "===============================================================================\n",
       "                  coefficient       std. error           t-stat            prob\n",
       "-------------------------------------------------------------------------------\n",
       "const               -0.009056         0.027360           -0.331           0.741\n",
       "L1.brentdiff        -0.178292         0.022961           -7.765           0.000\n",
       "L1.wtidiff           0.242962         0.020474           11.867           0.000\n",
       "L2.brentdiff        -0.029756         0.022286           -1.335           0.182\n",
       "L2.wtidiff           0.045526         0.020894            2.179           0.029\n",
       "===============================================================================\n",
       "\n",
       "Results for equation wtidiff\n",
       "===============================================================================\n",
       "                  coefficient       std. error           t-stat            prob\n",
       "-------------------------------------------------------------------------------\n",
       "const               -0.013367         0.030686           -0.436           0.663\n",
       "L1.brentdiff         0.060262         0.025753            2.340           0.019\n",
       "L1.wtidiff          -0.094040         0.022963           -4.095           0.000\n",
       "L2.brentdiff         0.021078         0.024995            0.843           0.399\n",
       "L2.wtidiff          -0.058544         0.023434           -2.498           0.012\n",
       "===============================================================================\n",
       "\n",
       "Correlation matrix of residuals\n",
       "             brentdiff   wtidiff\n",
       "brentdiff     1.000000  0.653413\n",
       "wtidiff       0.653413  1.000000\n",
       "\n"
      ]
     },
     "execution_count": 10,
     "metadata": {},
     "output_type": "execute_result"
    }
   ],
   "source": [
    "#Constructing the VAR model\n",
    "import statsmodels.tsa.api as smt\n",
    "model=smt.VAR(price2)\n",
    "res=model.fit(maxlags=2)\n",
    "res.summary()"
   ]
  },
  {
   "cell_type": "code",
   "execution_count": 11,
   "metadata": {},
   "outputs": [
    {
     "data": {
      "text/html": [
       "<table class=\"simpletable\">\n",
       "<caption>VAR Order Selection (* highlights the minimums)</caption>\n",
       "<tr>\n",
       "   <td></td>      <th>AIC</th>         <th>BIC</th>         <th>FPE</th>        <th>HQIC</th>    \n",
       "</tr>\n",
       "<tr>\n",
       "  <th>0</th>  <td>     1.584</td>  <td>     1.588</td>  <td>     4.877</td>  <td>     1.586</td> \n",
       "</tr>\n",
       "<tr>\n",
       "  <th>1</th>  <td>     1.484</td>  <td>     1.496</td>  <td>     4.413</td>  <td>     1.488</td> \n",
       "</tr>\n",
       "<tr>\n",
       "  <th>2</th>  <td>     1.477</td>  <td>     1.495</td>  <td>     4.378</td>  <td>     1.483</td> \n",
       "</tr>\n",
       "<tr>\n",
       "  <th>3</th>  <td>     1.464</td>  <td>     1.490*</td> <td>     4.324</td>  <td>     1.474</td> \n",
       "</tr>\n",
       "<tr>\n",
       "  <th>4</th>  <td>     1.458</td>  <td>     1.492</td>  <td>     4.298</td>  <td>     1.470*</td>\n",
       "</tr>\n",
       "<tr>\n",
       "  <th>5</th>  <td>     1.458*</td> <td>     1.499</td>  <td>     4.298*</td> <td>     1.473</td> \n",
       "</tr>\n",
       "<tr>\n",
       "  <th>6</th>  <td>     1.458</td>  <td>     1.507</td>  <td>     4.299</td>  <td>     1.476</td> \n",
       "</tr>\n",
       "<tr>\n",
       "  <th>7</th>  <td>     1.459</td>  <td>     1.515</td>  <td>     4.302</td>  <td>     1.479</td> \n",
       "</tr>\n",
       "<tr>\n",
       "  <th>8</th>  <td>     1.460</td>  <td>     1.524</td>  <td>     4.307</td>  <td>     1.483</td> \n",
       "</tr>\n",
       "<tr>\n",
       "  <th>9</th>  <td>     1.462</td>  <td>     1.532</td>  <td>     4.313</td>  <td>     1.487</td> \n",
       "</tr>\n",
       "<tr>\n",
       "  <th>10</th> <td>     1.462</td>  <td>     1.540</td>  <td>     4.314</td>  <td>     1.490</td> \n",
       "</tr>\n",
       "</table>"
      ],
      "text/plain": [
       "<class 'statsmodels.iolib.table.SimpleTable'>"
      ]
     },
     "execution_count": 11,
     "metadata": {},
     "output_type": "execute_result"
    }
   ],
   "source": [
    "#first step in construction of any VAR model, is to determine\n",
    "#the appropriate lag length\n",
    "#we employ a multivariate information criteria \n",
    "res= model.select_order(maxlags=10)\n",
    "res.summary()"
   ]
  },
  {
   "cell_type": "code",
   "execution_count": 12,
   "metadata": {},
   "outputs": [
    {
     "name": "stderr",
     "output_type": "stream",
     "text": [
      "C:\\Users\\Sandhyana\\Anaconda3\\lib\\site-packages\\statsmodels\\tsa\\base\\tsa_model.py:162: ValueWarning: No frequency information was provided, so inferred frequency D will be used.\n",
      "  % freq, ValueWarning)\n"
     ]
    },
    {
     "data": {
      "text/html": [
       "<table class=\"simpletable\">\n",
       "<caption>Granger causality Wald-test. H_0: brentdiff does not Granger-cause wtidiff. Conclusion: reject H_0 at 5% significance level.</caption>\n",
       "<tr>\n",
       "  <th>Test statistic</th> <th>Critical value</th> <th>p-value</th> <th>df</th>\n",
       "</tr>\n",
       "<tr>\n",
       "       <td>11.58</td>          <td>7.815</td>      <td>0.009</td>   <td>3</td>\n",
       "</tr>\n",
       "</table>"
      ],
      "text/plain": [
       "<class 'statsmodels.iolib.table.SimpleTable'>"
      ]
     },
     "execution_count": 12,
     "metadata": {},
     "output_type": "execute_result"
    }
   ],
   "source": [
    "#Generally, we choose the lag length for which the values of most of these \n",
    "#lag length criteria are minimized\n",
    "#based on the BIC method, we determine the minimum lag order to be 3\n",
    "# we next run a Granger causality test\n",
    "model = smt.VAR(price2)\n",
    "res = model.fit(maxlags=3)\n",
    "res_causality=res.test_causality(causing=['brentdiff'],caused=['wtidiff'], kind='wald',signif=0.05)\n",
    "res_causality.summary()"
   ]
  },
  {
   "cell_type": "code",
   "execution_count": 13,
   "metadata": {},
   "outputs": [
    {
     "name": "stderr",
     "output_type": "stream",
     "text": [
      "C:\\Users\\Sandhyana\\Anaconda3\\lib\\site-packages\\statsmodels\\tsa\\base\\tsa_model.py:162: ValueWarning: No frequency information was provided, so inferred frequency D will be used.\n",
      "  % freq, ValueWarning)\n"
     ]
    },
    {
     "data": {
      "text/html": [
       "<table class=\"simpletable\">\n",
       "<caption>Granger causality Wald-test. H_0: wtidiff does not Granger-cause brentdiff. Conclusion: reject H_0 at 5% significance level.</caption>\n",
       "<tr>\n",
       "  <th>Test statistic</th> <th>Critical value</th> <th>p-value</th> <th>df</th>\n",
       "</tr>\n",
       "<tr>\n",
       "       <td>152.5</td>          <td>7.815</td>      <td>0.000</td>   <td>3</td>\n",
       "</tr>\n",
       "</table>"
      ],
      "text/plain": [
       "<class 'statsmodels.iolib.table.SimpleTable'>"
      ]
     },
     "execution_count": 13,
     "metadata": {},
     "output_type": "execute_result"
    }
   ],
   "source": [
    "model1 = smt.VAR(price2)\n",
    "res1 = model1.fit(maxlags=3)\n",
    "res_causality1=res1.test_causality(causing=['wtidiff'],caused=['brentdiff'], kind='wald',signif=0.05)\n",
    "res_causality1.summary()"
   ]
  },
  {
   "cell_type": "code",
   "execution_count": 14,
   "metadata": {},
   "outputs": [],
   "source": [
    "#we find that there is a bi directional causality relationship between brent and WTI"
   ]
  },
  {
   "cell_type": "markdown",
   "metadata": {},
   "source": [
    "Impulse response analysis is an important step in econometric analyes, which employ vector autoregressive models. Their main purpose is to describe the evolution of a model’s variables in reaction to a shock in one or more variables. This feature allows to trace the transmission of a single shock within an otherwise noisy system of equations and, thus, makes them very useful tools in the assessment of economic policies"
   ]
  },
  {
   "cell_type": "code",
   "execution_count": 15,
   "metadata": {},
   "outputs": [
    {
     "name": "stderr",
     "output_type": "stream",
     "text": [
      "C:\\Users\\Sandhyana\\Anaconda3\\lib\\site-packages\\statsmodels\\tsa\\base\\tsa_model.py:162: ValueWarning: No frequency information was provided, so inferred frequency D will be used.\n",
      "  % freq, ValueWarning)\n"
     ]
    },
    {
     "data": {
      "image/png": "[encoded data removed]",
      "text/plain": [
       "<Figure size 720x720 with 4 Axes>"
      ]
     },
     "execution_count": 15,
     "metadata": {},
     "output_type": "execute_result"
    },
    {
     "data": {
      "image/png": "[encoded data removed]",
      "text/plain": [
       "<Figure size 720x720 with 4 Axes>"
      ]
     },
     "metadata": {
      "needs_background": "light"
     },
     "output_type": "display_data"
    }
   ],
   "source": [
    "#to find the impact of changes in one variable on the other at different\n",
    "#horizons, we obtain the impulse responses for the estimated model\n",
    "#we re-define the dependent variables and select a VAR model with one lag\n",
    "#of each variable and an arbitrary period number of 20 is used\n",
    "\n",
    "model=smt.VAR(price2)\n",
    "res=model.fit(maxlags=3)\n",
    "\n",
    "#impulse response analysis\n",
    "irf=res1.irf(20)\n",
    "irf.plot()"
   ]
  },
  {
   "cell_type": "code",
   "execution_count": 16,
   "metadata": {},
   "outputs": [],
   "source": [
    "#we find that WTI Granger causes brent and vice versa\n",
    "# this implies that changes in WTI cause changes in brent and \n",
    "#similarly, lags of WTI should be significant in the equation for brent \n",
    "#same applies for brent-WTI\n",
    "#hence a bi-directional causality is detected"
   ]
  },
  {
   "cell_type": "markdown",
   "metadata": {},
   "source": [
    "The variance decompositions (also known as forecast error variance decompositions, or fevd in Python) can also be generated using the fevd function (forecast-error variance decompositions)"
   ]
  },
  {
   "cell_type": "code",
   "execution_count": 17,
   "metadata": {},
   "outputs": [
    {
     "data": {
      "image/png": "[encoded data removed]",
      "text/plain": [
       "<Figure size 720x720 with 2 Axes>"
      ]
     },
     "execution_count": 17,
     "metadata": {},
     "output_type": "execute_result"
    },
    {
     "data": {
      "image/png": "[encoded data removed]",
      "text/plain": [
       "<Figure size 720x720 with 2 Axes>"
      ]
     },
     "metadata": {
      "needs_background": "light"
     },
     "output_type": "display_data"
    }
   ],
   "source": [
    "fevd=res.fevd(20)\n",
    "fevd.plot()"
   ]
  },
  {
   "cell_type": "code",
   "execution_count": 18,
   "metadata": {},
   "outputs": [],
   "source": [
    "#the graph above shows that in the case of brent, the percentage of \n",
    "#the errors that is attributable to its own shocks is 100%, while\n",
    "#for WTI, the brent series explains around 40% of the variation "
   ]
  },
  {
   "cell_type": "code",
   "execution_count": 19,
   "metadata": {},
   "outputs": [
    {
     "data": {
      "text/html": [
       "<div>\n",
       "<style scoped>\n",
       "    .dataframe tbody tr th:only-of-type {\n",
       "        vertical-align: middle;\n",
       "    }\n",
       "\n",
       "    .dataframe tbody tr th {\n",
       "        vertical-align: top;\n",
       "    }\n",
       "\n",
       "    .dataframe thead th {\n",
       "        text-align: right;\n",
       "    }\n",
       "</style>\n",
       "<table border=\"1\" class=\"dataframe\">\n",
       "  <thead>\n",
       "    <tr style=\"text-align: right;\">\n",
       "      <th></th>\n",
       "      <th>wtidiff</th>\n",
       "      <th>brentdiff</th>\n",
       "    </tr>\n",
       "    <tr>\n",
       "      <th>Date</th>\n",
       "      <th></th>\n",
       "      <th></th>\n",
       "    </tr>\n",
       "  </thead>\n",
       "  <tbody>\n",
       "    <tr>\n",
       "      <td>2011-01-02</td>\n",
       "      <td>0.000000</td>\n",
       "      <td>0.000000</td>\n",
       "    </tr>\n",
       "    <tr>\n",
       "      <td>2011-01-03</td>\n",
       "      <td>0.229546</td>\n",
       "      <td>2.740187</td>\n",
       "    </tr>\n",
       "    <tr>\n",
       "      <td>2011-01-04</td>\n",
       "      <td>-2.431328</td>\n",
       "      <td>-2.429611</td>\n",
       "    </tr>\n",
       "    <tr>\n",
       "      <td>2011-01-05</td>\n",
       "      <td>1.012864</td>\n",
       "      <td>1.643815</td>\n",
       "    </tr>\n",
       "    <tr>\n",
       "      <td>2011-01-06</td>\n",
       "      <td>-2.160491</td>\n",
       "      <td>-0.126303</td>\n",
       "    </tr>\n",
       "    <tr>\n",
       "      <td>...</td>\n",
       "      <td>...</td>\n",
       "      <td>...</td>\n",
       "    </tr>\n",
       "    <tr>\n",
       "      <td>2019-12-27</td>\n",
       "      <td>0.064788</td>\n",
       "      <td>-0.506623</td>\n",
       "    </tr>\n",
       "    <tr>\n",
       "      <td>2019-12-28</td>\n",
       "      <td>0.000000</td>\n",
       "      <td>0.000000</td>\n",
       "    </tr>\n",
       "    <tr>\n",
       "      <td>2019-12-29</td>\n",
       "      <td>0.000000</td>\n",
       "      <td>0.000000</td>\n",
       "    </tr>\n",
       "    <tr>\n",
       "      <td>2019-12-30</td>\n",
       "      <td>-0.162048</td>\n",
       "      <td>-0.889154</td>\n",
       "    </tr>\n",
       "    <tr>\n",
       "      <td>2019-12-31</td>\n",
       "      <td>-0.846911</td>\n",
       "      <td>-0.779015</td>\n",
       "    </tr>\n",
       "  </tbody>\n",
       "</table>\n",
       "<p>3286 rows × 2 columns</p>\n",
       "</div>"
      ],
      "text/plain": [
       "             wtidiff  brentdiff\n",
       "Date                           \n",
       "2011-01-02  0.000000   0.000000\n",
       "2011-01-03  0.229546   2.740187\n",
       "2011-01-04 -2.431328  -2.429611\n",
       "2011-01-05  1.012864   1.643815\n",
       "2011-01-06 -2.160491  -0.126303\n",
       "...              ...        ...\n",
       "2019-12-27  0.064788  -0.506623\n",
       "2019-12-28  0.000000   0.000000\n",
       "2019-12-29  0.000000   0.000000\n",
       "2019-12-30 -0.162048  -0.889154\n",
       "2019-12-31 -0.846911  -0.779015\n",
       "\n",
       "[3286 rows x 2 columns]"
      ]
     },
     "execution_count": 19,
     "metadata": {},
     "output_type": "execute_result"
    }
   ],
   "source": [
    "#we reverse the columns to check for the effect of WTI on brent \n",
    "price3=price2[['wtidiff','brentdiff']]\n",
    "price3"
   ]
  },
  {
   "cell_type": "code",
   "execution_count": 20,
   "metadata": {},
   "outputs": [
    {
     "name": "stderr",
     "output_type": "stream",
     "text": [
      "C:\\Users\\Sandhyana\\Anaconda3\\lib\\site-packages\\statsmodels\\tsa\\base\\tsa_model.py:162: ValueWarning: No frequency information was provided, so inferred frequency D will be used.\n",
      "  % freq, ValueWarning)\n"
     ]
    },
    {
     "data": {
      "image/png": "[encoded data removed]",
      "text/plain": [
       "<Figure size 720x720 with 2 Axes>"
      ]
     },
     "execution_count": 20,
     "metadata": {},
     "output_type": "execute_result"
    },
    {
     "data": {
      "image/png": "[encoded data removed]",
      "text/plain": [
       "<Figure size 720x720 with 2 Axes>"
      ]
     },
     "metadata": {
      "needs_background": "light"
     },
     "output_type": "display_data"
    }
   ],
   "source": [
    "model=smt.VAR(price3)\n",
    "res=model.fit(maxlags=1)\n",
    "\n",
    "fevd=res.fevd(20)\n",
    "fevd.plot()"
   ]
  },
  {
   "cell_type": "code",
   "execution_count": 21,
   "metadata": {},
   "outputs": [],
   "source": [
    "# we highlight that the WTI series also explain around 40% of \n",
    "#the variation for the brent"
   ]
  },
  {
   "cell_type": "markdown",
   "metadata": {},
   "source": [
    "# Unit Root testing"
   ]
  },
  {
   "cell_type": "code",
   "execution_count": 22,
   "metadata": {},
   "outputs": [],
   "source": [
    "import pickle\n",
    "from arch.unitroot import DFGLS, ADF, KPSS, PhillipsPerron"
   ]
  },
  {
   "cell_type": "code",
   "execution_count": 23,
   "metadata": {},
   "outputs": [
    {
     "data": {
      "text/html": [
       "<div>\n",
       "<style scoped>\n",
       "    .dataframe tbody tr th:only-of-type {\n",
       "        vertical-align: middle;\n",
       "    }\n",
       "\n",
       "    .dataframe tbody tr th {\n",
       "        vertical-align: top;\n",
       "    }\n",
       "\n",
       "    .dataframe thead th {\n",
       "        text-align: right;\n",
       "    }\n",
       "</style>\n",
       "<table border=\"1\" class=\"dataframe\">\n",
       "  <thead>\n",
       "    <tr style=\"text-align: right;\">\n",
       "      <th></th>\n",
       "      <th>bp</th>\n",
       "      <th>wp</th>\n",
       "    </tr>\n",
       "    <tr>\n",
       "      <th>Date</th>\n",
       "      <th></th>\n",
       "      <th></th>\n",
       "    </tr>\n",
       "  </thead>\n",
       "  <tbody>\n",
       "    <tr>\n",
       "      <td>2011-01-01</td>\n",
       "      <td>93.23</td>\n",
       "      <td>91.38</td>\n",
       "    </tr>\n",
       "    <tr>\n",
       "      <td>2011-01-02</td>\n",
       "      <td>93.23</td>\n",
       "      <td>91.38</td>\n",
       "    </tr>\n",
       "    <tr>\n",
       "      <td>2011-01-03</td>\n",
       "      <td>95.82</td>\n",
       "      <td>91.59</td>\n",
       "    </tr>\n",
       "    <tr>\n",
       "      <td>2011-01-04</td>\n",
       "      <td>93.52</td>\n",
       "      <td>89.39</td>\n",
       "    </tr>\n",
       "    <tr>\n",
       "      <td>2011-01-05</td>\n",
       "      <td>95.07</td>\n",
       "      <td>90.30</td>\n",
       "    </tr>\n",
       "    <tr>\n",
       "      <td>...</td>\n",
       "      <td>...</td>\n",
       "      <td>...</td>\n",
       "    </tr>\n",
       "    <tr>\n",
       "      <td>2019-12-27</td>\n",
       "      <td>68.91</td>\n",
       "      <td>61.76</td>\n",
       "    </tr>\n",
       "    <tr>\n",
       "      <td>2019-12-28</td>\n",
       "      <td>68.91</td>\n",
       "      <td>61.76</td>\n",
       "    </tr>\n",
       "    <tr>\n",
       "      <td>2019-12-29</td>\n",
       "      <td>68.91</td>\n",
       "      <td>61.76</td>\n",
       "    </tr>\n",
       "    <tr>\n",
       "      <td>2019-12-30</td>\n",
       "      <td>68.30</td>\n",
       "      <td>61.66</td>\n",
       "    </tr>\n",
       "    <tr>\n",
       "      <td>2019-12-31</td>\n",
       "      <td>67.77</td>\n",
       "      <td>61.14</td>\n",
       "    </tr>\n",
       "  </tbody>\n",
       "</table>\n",
       "<p>3287 rows × 2 columns</p>\n",
       "</div>"
      ],
      "text/plain": [
       "               bp     wp\n",
       "Date                    \n",
       "2011-01-01  93.23  91.38\n",
       "2011-01-02  93.23  91.38\n",
       "2011-01-03  95.82  91.59\n",
       "2011-01-04  93.52  89.39\n",
       "2011-01-05  95.07  90.30\n",
       "...           ...    ...\n",
       "2019-12-27  68.91  61.76\n",
       "2019-12-28  68.91  61.76\n",
       "2019-12-29  68.91  61.76\n",
       "2019-12-30  68.30  61.66\n",
       "2019-12-31  67.77  61.14\n",
       "\n",
       "[3287 rows x 2 columns]"
      ]
     },
     "execution_count": 23,
     "metadata": {},
     "output_type": "execute_result"
    }
   ],
   "source": [
    "df1= price.iloc[:, :2]\n",
    "df1"
   ]
  },
  {
   "cell_type": "code",
   "execution_count": 24,
   "metadata": {},
   "outputs": [
    {
     "name": "stderr",
     "output_type": "stream",
     "text": [
      "C:\\Users\\Sandhyana\\Anaconda3\\lib\\site-packages\\ipykernel_launcher.py:2: SettingWithCopyWarning: \n",
      "A value is trying to be set on a copy of a slice from a DataFrame.\n",
      "Try using .loc[row_indexer,col_indexer] = value instead\n",
      "\n",
      "See the caveats in the documentation: http://pandas.pydata.org/pandas-docs/stable/user_guide/indexing.html#returning-a-view-versus-a-copy\n",
      "  \n"
     ]
    },
    {
     "data": {
      "text/html": [
       "<div>\n",
       "<style scoped>\n",
       "    .dataframe tbody tr th:only-of-type {\n",
       "        vertical-align: middle;\n",
       "    }\n",
       "\n",
       "    .dataframe tbody tr th {\n",
       "        vertical-align: top;\n",
       "    }\n",
       "\n",
       "    .dataframe thead th {\n",
       "        text-align: right;\n",
       "    }\n",
       "</style>\n",
       "<table border=\"1\" class=\"dataframe\">\n",
       "  <thead>\n",
       "    <tr style=\"text-align: right;\">\n",
       "      <th></th>\n",
       "      <th>bp</th>\n",
       "      <th>wp</th>\n",
       "      <th>bp_diff</th>\n",
       "      <th>wp_diff</th>\n",
       "    </tr>\n",
       "    <tr>\n",
       "      <th>Date</th>\n",
       "      <th></th>\n",
       "      <th></th>\n",
       "      <th></th>\n",
       "      <th></th>\n",
       "    </tr>\n",
       "  </thead>\n",
       "  <tbody>\n",
       "    <tr>\n",
       "      <td>2011-01-01</td>\n",
       "      <td>93.23</td>\n",
       "      <td>91.38</td>\n",
       "      <td>NaN</td>\n",
       "      <td>NaN</td>\n",
       "    </tr>\n",
       "    <tr>\n",
       "      <td>2011-01-02</td>\n",
       "      <td>93.23</td>\n",
       "      <td>91.38</td>\n",
       "      <td>0.00</td>\n",
       "      <td>0.00</td>\n",
       "    </tr>\n",
       "    <tr>\n",
       "      <td>2011-01-03</td>\n",
       "      <td>95.82</td>\n",
       "      <td>91.59</td>\n",
       "      <td>2.59</td>\n",
       "      <td>0.21</td>\n",
       "    </tr>\n",
       "    <tr>\n",
       "      <td>2011-01-04</td>\n",
       "      <td>93.52</td>\n",
       "      <td>89.39</td>\n",
       "      <td>-2.30</td>\n",
       "      <td>-2.20</td>\n",
       "    </tr>\n",
       "    <tr>\n",
       "      <td>2011-01-05</td>\n",
       "      <td>95.07</td>\n",
       "      <td>90.30</td>\n",
       "      <td>1.55</td>\n",
       "      <td>0.91</td>\n",
       "    </tr>\n",
       "    <tr>\n",
       "      <td>...</td>\n",
       "      <td>...</td>\n",
       "      <td>...</td>\n",
       "      <td>...</td>\n",
       "      <td>...</td>\n",
       "    </tr>\n",
       "    <tr>\n",
       "      <td>2019-12-27</td>\n",
       "      <td>68.91</td>\n",
       "      <td>61.76</td>\n",
       "      <td>-0.35</td>\n",
       "      <td>0.04</td>\n",
       "    </tr>\n",
       "    <tr>\n",
       "      <td>2019-12-28</td>\n",
       "      <td>68.91</td>\n",
       "      <td>61.76</td>\n",
       "      <td>0.00</td>\n",
       "      <td>0.00</td>\n",
       "    </tr>\n",
       "    <tr>\n",
       "      <td>2019-12-29</td>\n",
       "      <td>68.91</td>\n",
       "      <td>61.76</td>\n",
       "      <td>0.00</td>\n",
       "      <td>0.00</td>\n",
       "    </tr>\n",
       "    <tr>\n",
       "      <td>2019-12-30</td>\n",
       "      <td>68.30</td>\n",
       "      <td>61.66</td>\n",
       "      <td>-0.61</td>\n",
       "      <td>-0.10</td>\n",
       "    </tr>\n",
       "    <tr>\n",
       "      <td>2019-12-31</td>\n",
       "      <td>67.77</td>\n",
       "      <td>61.14</td>\n",
       "      <td>-0.53</td>\n",
       "      <td>-0.52</td>\n",
       "    </tr>\n",
       "  </tbody>\n",
       "</table>\n",
       "<p>3287 rows × 4 columns</p>\n",
       "</div>"
      ],
      "text/plain": [
       "               bp     wp  bp_diff  wp_diff\n",
       "Date                                      \n",
       "2011-01-01  93.23  91.38      NaN      NaN\n",
       "2011-01-02  93.23  91.38     0.00     0.00\n",
       "2011-01-03  95.82  91.59     2.59     0.21\n",
       "2011-01-04  93.52  89.39    -2.30    -2.20\n",
       "2011-01-05  95.07  90.30     1.55     0.91\n",
       "...           ...    ...      ...      ...\n",
       "2019-12-27  68.91  61.76    -0.35     0.04\n",
       "2019-12-28  68.91  61.76     0.00     0.00\n",
       "2019-12-29  68.91  61.76     0.00     0.00\n",
       "2019-12-30  68.30  61.66    -0.61    -0.10\n",
       "2019-12-31  67.77  61.14    -0.53    -0.52\n",
       "\n",
       "[3287 rows x 4 columns]"
      ]
     },
     "execution_count": 24,
     "metadata": {},
     "output_type": "execute_result"
    }
   ],
   "source": [
    "#we obtain the first difference for ADF test\n",
    "df1['bp_diff'] = df1['bp'].diff(periods=1)\n",
    "df1['wp_diff'] = df1['wp'].diff(periods=1)\n",
    "df1"
   ]
  },
  {
   "cell_type": "code",
   "execution_count": 25,
   "metadata": {},
   "outputs": [],
   "source": [
    "df2=df1.dropna()"
   ]
  },
  {
   "cell_type": "code",
   "execution_count": 26,
   "metadata": {},
   "outputs": [
    {
     "data": {
      "text/html": [
       "<table class=\"simpletable\">\n",
       "<caption>Augmented Dickey-Fuller Results</caption>\n",
       "<tr>\n",
       "  <td>Test Statistic</td>    <td>-1.175</td>\n",
       "</tr>\n",
       "<tr>\n",
       "  <td>P-value</td>            <td>0.684</td>\n",
       "</tr>\n",
       "<tr>\n",
       "  <td>Lags</td>                   <td>3</td>\n",
       "</tr>\n",
       "</table><br/><br/>Trend: Constant<br/>Critical Values: -3.43 (1%), -2.86 (5%), -2.57 (10%)<br/>Null Hypothesis: The process contains a unit root.<br/>Alternative Hypothesis: The process is weakly stationary."
      ],
      "text/plain": [
       "<class 'statsmodels.iolib.summary.Summary'>\n",
       "\"\"\"\n",
       "   Augmented Dickey-Fuller Results   \n",
       "=====================================\n",
       "Test Statistic                 -1.175\n",
       "P-value                         0.684\n",
       "Lags                                3\n",
       "-------------------------------------\n",
       "\n",
       "Trend: Constant\n",
       "Critical Values: -3.43 (1%), -2.86 (5%), -2.57 (10%)\n",
       "Null Hypothesis: The process contains a unit root.\n",
       "Alternative Hypothesis: The process is weakly stationary.\n",
       "\"\"\""
      ]
     },
     "execution_count": 26,
     "metadata": {},
     "output_type": "execute_result"
    }
   ],
   "source": [
    "#ADF test for brent\n",
    "res=ADF(df2['bp'],lags=3)\n",
    "res.summary()"
   ]
  },
  {
   "cell_type": "code",
   "execution_count": 27,
   "metadata": {},
   "outputs": [
    {
     "data": {
      "text/html": [
       "<table class=\"simpletable\">\n",
       "<caption>Augmented Dickey-Fuller Results</caption>\n",
       "<tr>\n",
       "  <td>Test Statistic</td>    <td>-1.399</td>\n",
       "</tr>\n",
       "<tr>\n",
       "  <td>P-value</td>            <td>0.583</td>\n",
       "</tr>\n",
       "<tr>\n",
       "  <td>Lags</td>                   <td>3</td>\n",
       "</tr>\n",
       "</table><br/><br/>Trend: Constant<br/>Critical Values: -3.43 (1%), -2.86 (5%), -2.57 (10%)<br/>Null Hypothesis: The process contains a unit root.<br/>Alternative Hypothesis: The process is weakly stationary."
      ],
      "text/plain": [
       "<class 'statsmodels.iolib.summary.Summary'>\n",
       "\"\"\"\n",
       "   Augmented Dickey-Fuller Results   \n",
       "=====================================\n",
       "Test Statistic                 -1.399\n",
       "P-value                         0.583\n",
       "Lags                                3\n",
       "-------------------------------------\n",
       "\n",
       "Trend: Constant\n",
       "Critical Values: -3.43 (1%), -2.86 (5%), -2.57 (10%)\n",
       "Null Hypothesis: The process contains a unit root.\n",
       "Alternative Hypothesis: The process is weakly stationary.\n",
       "\"\"\""
      ]
     },
     "execution_count": 27,
     "metadata": {},
     "output_type": "execute_result"
    }
   ],
   "source": [
    "#ADF test for WTI\n",
    "res=ADF(df2['wp'],lags=3)\n",
    "res.summary()"
   ]
  },
  {
   "cell_type": "code",
   "execution_count": 28,
   "metadata": {},
   "outputs": [
    {
     "data": {
      "text/html": [
       "<table class=\"simpletable\">\n",
       "<caption>Augmented Dickey-Fuller Results</caption>\n",
       "<tr>\n",
       "  <td>Test Statistic</td>   <td>-28.641</td>\n",
       "</tr>\n",
       "<tr>\n",
       "  <td>P-value</td>            <td>0.000</td>\n",
       "</tr>\n",
       "<tr>\n",
       "  <td>Lags</td>                   <td>3</td>\n",
       "</tr>\n",
       "</table><br/><br/>Trend: Constant<br/>Critical Values: -3.43 (1%), -2.86 (5%), -2.57 (10%)<br/>Null Hypothesis: The process contains a unit root.<br/>Alternative Hypothesis: The process is weakly stationary."
      ],
      "text/plain": [
       "<class 'statsmodels.iolib.summary.Summary'>\n",
       "\"\"\"\n",
       "   Augmented Dickey-Fuller Results   \n",
       "=====================================\n",
       "Test Statistic                -28.641\n",
       "P-value                         0.000\n",
       "Lags                                3\n",
       "-------------------------------------\n",
       "\n",
       "Trend: Constant\n",
       "Critical Values: -3.43 (1%), -2.86 (5%), -2.57 (10%)\n",
       "Null Hypothesis: The process contains a unit root.\n",
       "Alternative Hypothesis: The process is weakly stationary.\n",
       "\"\"\""
      ]
     },
     "execution_count": 28,
     "metadata": {},
     "output_type": "execute_result"
    }
   ],
   "source": [
    "#ADF test for brent after first difference \n",
    "res=ADF(df2['bp_diff'],lags=3)\n",
    "res.summary()"
   ]
  },
  {
   "cell_type": "code",
   "execution_count": 29,
   "metadata": {},
   "outputs": [
    {
     "data": {
      "text/html": [
       "<table class=\"simpletable\">\n",
       "<caption>Augmented Dickey-Fuller Results</caption>\n",
       "<tr>\n",
       "  <td>Test Statistic</td>   <td>-29.029</td>\n",
       "</tr>\n",
       "<tr>\n",
       "  <td>P-value</td>            <td>0.000</td>\n",
       "</tr>\n",
       "<tr>\n",
       "  <td>Lags</td>                   <td>3</td>\n",
       "</tr>\n",
       "</table><br/><br/>Trend: Constant<br/>Critical Values: -3.43 (1%), -2.86 (5%), -2.57 (10%)<br/>Null Hypothesis: The process contains a unit root.<br/>Alternative Hypothesis: The process is weakly stationary."
      ],
      "text/plain": [
       "<class 'statsmodels.iolib.summary.Summary'>\n",
       "\"\"\"\n",
       "   Augmented Dickey-Fuller Results   \n",
       "=====================================\n",
       "Test Statistic                -29.029\n",
       "P-value                         0.000\n",
       "Lags                                3\n",
       "-------------------------------------\n",
       "\n",
       "Trend: Constant\n",
       "Critical Values: -3.43 (1%), -2.86 (5%), -2.57 (10%)\n",
       "Null Hypothesis: The process contains a unit root.\n",
       "Alternative Hypothesis: The process is weakly stationary.\n",
       "\"\"\""
      ]
     },
     "execution_count": 29,
     "metadata": {},
     "output_type": "execute_result"
    }
   ],
   "source": [
    "#ADF test for WTI after first difference\n",
    "res=ADF(df2['wp_diff'],lags=3)\n",
    "res.summary()"
   ]
  },
  {
   "cell_type": "markdown",
   "metadata": {},
   "source": [
    "# KPSS tests of the first differences"
   ]
  },
  {
   "cell_type": "code",
   "execution_count": 30,
   "metadata": {},
   "outputs": [
    {
     "data": {
      "text/html": [
       "<table class=\"simpletable\">\n",
       "<caption>KPSS Stationarity Test Results</caption>\n",
       "<tr>\n",
       "  <td>Test Statistic</td>     <td>0.126</td>\n",
       "</tr>\n",
       "<tr>\n",
       "  <td>P-value</td>            <td>0.472</td>\n",
       "</tr>\n",
       "<tr>\n",
       "  <td>Lags</td>                   <td>3</td>\n",
       "</tr>\n",
       "</table><br/><br/>Trend: Constant<br/>Critical Values: 0.74 (1%), 0.46 (5%), 0.35 (10%)<br/>Null Hypothesis: The process is weakly stationary.<br/>Alternative Hypothesis: The process contains a unit root."
      ],
      "text/plain": [
       "<class 'statsmodels.iolib.summary.Summary'>\n",
       "\"\"\"\n",
       "    KPSS Stationarity Test Results   \n",
       "=====================================\n",
       "Test Statistic                  0.126\n",
       "P-value                         0.472\n",
       "Lags                                3\n",
       "-------------------------------------\n",
       "\n",
       "Trend: Constant\n",
       "Critical Values: 0.74 (1%), 0.46 (5%), 0.35 (10%)\n",
       "Null Hypothesis: The process is weakly stationary.\n",
       "Alternative Hypothesis: The process contains a unit root.\n",
       "\"\"\""
      ]
     },
     "execution_count": 30,
     "metadata": {},
     "output_type": "execute_result"
    }
   ],
   "source": [
    "res=KPSS(df2['bp_diff'],lags=3)\n",
    "res.summary()"
   ]
  },
  {
   "cell_type": "code",
   "execution_count": 31,
   "metadata": {},
   "outputs": [
    {
     "data": {
      "text/html": [
       "<table class=\"simpletable\">\n",
       "<caption>KPSS Stationarity Test Results</caption>\n",
       "<tr>\n",
       "  <td>Test Statistic</td>     <td>0.088</td>\n",
       "</tr>\n",
       "<tr>\n",
       "  <td>P-value</td>            <td>0.649</td>\n",
       "</tr>\n",
       "<tr>\n",
       "  <td>Lags</td>                   <td>3</td>\n",
       "</tr>\n",
       "</table><br/><br/>Trend: Constant<br/>Critical Values: 0.74 (1%), 0.46 (5%), 0.35 (10%)<br/>Null Hypothesis: The process is weakly stationary.<br/>Alternative Hypothesis: The process contains a unit root."
      ],
      "text/plain": [
       "<class 'statsmodels.iolib.summary.Summary'>\n",
       "\"\"\"\n",
       "    KPSS Stationarity Test Results   \n",
       "=====================================\n",
       "Test Statistic                  0.088\n",
       "P-value                         0.649\n",
       "Lags                                3\n",
       "-------------------------------------\n",
       "\n",
       "Trend: Constant\n",
       "Critical Values: 0.74 (1%), 0.46 (5%), 0.35 (10%)\n",
       "Null Hypothesis: The process is weakly stationary.\n",
       "Alternative Hypothesis: The process contains a unit root.\n",
       "\"\"\""
      ]
     },
     "execution_count": 31,
     "metadata": {},
     "output_type": "execute_result"
    }
   ],
   "source": [
    "res=KPSS(df2['wp_diff'],lags=3)\n",
    "res.summary()"
   ]
  },
  {
   "cell_type": "markdown",
   "metadata": {},
   "source": [
    "# Phillips Perron tests for the first differences"
   ]
  },
  {
   "cell_type": "code",
   "execution_count": 32,
   "metadata": {},
   "outputs": [
    {
     "data": {
      "text/html": [
       "<table class=\"simpletable\">\n",
       "<caption>Phillips-Perron Test (Z-tau)</caption>\n",
       "<tr>\n",
       "  <td>Test Statistic</td>   <td>-57.332</td>\n",
       "</tr>\n",
       "<tr>\n",
       "  <td>P-value</td>            <td>0.000</td>\n",
       "</tr>\n",
       "<tr>\n",
       "  <td>Lags</td>                   <td>3</td>\n",
       "</tr>\n",
       "</table><br/><br/>Trend: Constant<br/>Critical Values: -3.43 (1%), -2.86 (5%), -2.57 (10%)<br/>Null Hypothesis: The process contains a unit root.<br/>Alternative Hypothesis: The process is weakly stationary."
      ],
      "text/plain": [
       "<class 'statsmodels.iolib.summary.Summary'>\n",
       "\"\"\"\n",
       "     Phillips-Perron Test (Z-tau)    \n",
       "=====================================\n",
       "Test Statistic                -57.332\n",
       "P-value                         0.000\n",
       "Lags                                3\n",
       "-------------------------------------\n",
       "\n",
       "Trend: Constant\n",
       "Critical Values: -3.43 (1%), -2.86 (5%), -2.57 (10%)\n",
       "Null Hypothesis: The process contains a unit root.\n",
       "Alternative Hypothesis: The process is weakly stationary.\n",
       "\"\"\""
      ]
     },
     "execution_count": 32,
     "metadata": {},
     "output_type": "execute_result"
    }
   ],
   "source": [
    "res=PhillipsPerron(df2['bp_diff'],lags=3)\n",
    "res.summary()"
   ]
  },
  {
   "cell_type": "code",
   "execution_count": 33,
   "metadata": {},
   "outputs": [
    {
     "data": {
      "text/html": [
       "<table class=\"simpletable\">\n",
       "<caption>Phillips-Perron Test (Z-tau)</caption>\n",
       "<tr>\n",
       "  <td>Test Statistic</td>   <td>-59.931</td>\n",
       "</tr>\n",
       "<tr>\n",
       "  <td>P-value</td>            <td>0.000</td>\n",
       "</tr>\n",
       "<tr>\n",
       "  <td>Lags</td>                   <td>3</td>\n",
       "</tr>\n",
       "</table><br/><br/>Trend: Constant<br/>Critical Values: -3.43 (1%), -2.86 (5%), -2.57 (10%)<br/>Null Hypothesis: The process contains a unit root.<br/>Alternative Hypothesis: The process is weakly stationary."
      ],
      "text/plain": [
       "<class 'statsmodels.iolib.summary.Summary'>\n",
       "\"\"\"\n",
       "     Phillips-Perron Test (Z-tau)    \n",
       "=====================================\n",
       "Test Statistic                -59.931\n",
       "P-value                         0.000\n",
       "Lags                                3\n",
       "-------------------------------------\n",
       "\n",
       "Trend: Constant\n",
       "Critical Values: -3.43 (1%), -2.86 (5%), -2.57 (10%)\n",
       "Null Hypothesis: The process contains a unit root.\n",
       "Alternative Hypothesis: The process is weakly stationary.\n",
       "\"\"\""
      ]
     },
     "execution_count": 33,
     "metadata": {},
     "output_type": "execute_result"
    }
   ],
   "source": [
    "res=PhillipsPerron(df2['wp_diff'],lags=3)\n",
    "res.summary()"
   ]
  },
  {
   "cell_type": "markdown",
   "metadata": {},
   "source": [
    "# Cointegration tests"
   ]
  },
  {
   "cell_type": "code",
   "execution_count": 34,
   "metadata": {},
   "outputs": [],
   "source": [
    "import statsmodels.formula.api as smf\n",
    "import matplotlib.pyplot as plt\n",
    "from arch.unitroot import DFGLS\n",
    "\n"
   ]
  },
  {
   "cell_type": "code",
   "execution_count": 35,
   "metadata": {},
   "outputs": [],
   "source": [
    "df3= price.iloc[:, :2]\n"
   ]
  },
  {
   "cell_type": "code",
   "execution_count": 36,
   "metadata": {},
   "outputs": [
    {
     "name": "stderr",
     "output_type": "stream",
     "text": [
      "C:\\Users\\Sandhyana\\Anaconda3\\lib\\site-packages\\statsmodels\\tsa\\base\\tsa_model.py:162: ValueWarning: No frequency information was provided, so inferred frequency D will be used.\n",
      "  % freq, ValueWarning)\n",
      "C:\\Users\\Sandhyana\\Anaconda3\\lib\\site-packages\\statsmodels\\tsa\\base\\tsa_model.py:162: ValueWarning: No frequency information was provided, so inferred frequency D will be used.\n",
      "  % freq, ValueWarning)\n",
      "C:\\Users\\Sandhyana\\Anaconda3\\lib\\site-packages\\statsmodels\\tsa\\base\\tsa_model.py:162: ValueWarning: No frequency information was provided, so inferred frequency D will be used.\n",
      "  % freq, ValueWarning)\n",
      "C:\\Users\\Sandhyana\\Anaconda3\\lib\\site-packages\\statsmodels\\tsa\\base\\tsa_model.py:162: ValueWarning: No frequency information was provided, so inferred frequency D will be used.\n",
      "  % freq, ValueWarning)\n",
      "C:\\Users\\Sandhyana\\Anaconda3\\lib\\site-packages\\statsmodels\\tsa\\base\\tsa_model.py:162: ValueWarning: No frequency information was provided, so inferred frequency D will be used.\n",
      "  % freq, ValueWarning)\n",
      "C:\\Users\\Sandhyana\\Anaconda3\\lib\\site-packages\\statsmodels\\tsa\\base\\tsa_model.py:162: ValueWarning: No frequency information was provided, so inferred frequency D will be used.\n",
      "  % freq, ValueWarning)\n",
      "C:\\Users\\Sandhyana\\Anaconda3\\lib\\site-packages\\statsmodels\\tsa\\base\\tsa_model.py:162: ValueWarning: No frequency information was provided, so inferred frequency D will be used.\n",
      "  % freq, ValueWarning)\n",
      "C:\\Users\\Sandhyana\\Anaconda3\\lib\\site-packages\\statsmodels\\tsa\\base\\tsa_model.py:162: ValueWarning: No frequency information was provided, so inferred frequency D will be used.\n",
      "  % freq, ValueWarning)\n",
      "C:\\Users\\Sandhyana\\Anaconda3\\lib\\site-packages\\statsmodels\\tsa\\base\\tsa_model.py:162: ValueWarning: No frequency information was provided, so inferred frequency D will be used.\n",
      "  % freq, ValueWarning)\n",
      "C:\\Users\\Sandhyana\\Anaconda3\\lib\\site-packages\\statsmodels\\tsa\\base\\tsa_model.py:162: ValueWarning: No frequency information was provided, so inferred frequency D will be used.\n",
      "  % freq, ValueWarning)\n",
      "C:\\Users\\Sandhyana\\Anaconda3\\lib\\site-packages\\statsmodels\\tsa\\base\\tsa_model.py:162: ValueWarning: No frequency information was provided, so inferred frequency D will be used.\n",
      "  % freq, ValueWarning)\n",
      "C:\\Users\\Sandhyana\\Anaconda3\\lib\\site-packages\\statsmodels\\tsa\\base\\tsa_model.py:162: ValueWarning: No frequency information was provided, so inferred frequency D will be used.\n",
      "  % freq, ValueWarning)\n",
      "C:\\Users\\Sandhyana\\Anaconda3\\lib\\site-packages\\statsmodels\\tsa\\base\\tsa_model.py:162: ValueWarning: No frequency information was provided, so inferred frequency D will be used.\n",
      "  % freq, ValueWarning)\n"
     ]
    },
    {
     "data": {
      "text/html": [
       "<table class=\"simpletable\">\n",
       "<caption>VECM Order Selection (* highlights the minimums)</caption>\n",
       "<tr>\n",
       "   <td></td>      <th>AIC</th>         <th>BIC</th>         <th>FPE</th>        <th>HQIC</th>    \n",
       "</tr>\n",
       "<tr>\n",
       "  <th>0</th>  <td>  -0.02625</td>  <td>  -0.01508</td>  <td>    0.9741</td>  <td>  -0.02225</td> \n",
       "</tr>\n",
       "<tr>\n",
       "  <th>1</th>  <td>   -0.1060</td>  <td>  -0.08737*</td> <td>    0.8994</td>  <td>  -0.09932</td> \n",
       "</tr>\n",
       "<tr>\n",
       "  <th>2</th>  <td>   -0.1096</td>  <td>  -0.08350</td>  <td>    0.8962</td>  <td>   -0.1002</td> \n",
       "</tr>\n",
       "<tr>\n",
       "  <th>3</th>  <td>   -0.1148</td>  <td>  -0.08127</td>  <td>    0.8916</td>  <td>   -0.1028*</td>\n",
       "</tr>\n",
       "<tr>\n",
       "  <th>4</th>  <td>   -0.1168*</td> <td>  -0.07581</td>  <td>    0.8898*</td> <td>   -0.1021</td> \n",
       "</tr>\n",
       "<tr>\n",
       "  <th>5</th>  <td>   -0.1149</td>  <td>  -0.06655</td>  <td>    0.8914</td>  <td>  -0.09762</td> \n",
       "</tr>\n",
       "<tr>\n",
       "  <th>6</th>  <td>   -0.1137</td>  <td>  -0.05785</td>  <td>    0.8925</td>  <td>  -0.09369</td> \n",
       "</tr>\n",
       "<tr>\n",
       "  <th>7</th>  <td>   -0.1123</td>  <td>  -0.04905</td>  <td>    0.8937</td>  <td>  -0.08967</td> \n",
       "</tr>\n",
       "<tr>\n",
       "  <th>8</th>  <td>   -0.1119</td>  <td>  -0.04121</td>  <td>    0.8941</td>  <td>  -0.08661</td> \n",
       "</tr>\n",
       "<tr>\n",
       "  <th>9</th>  <td>   -0.1102</td>  <td>  -0.03207</td>  <td>    0.8956</td>  <td>  -0.08225</td> \n",
       "</tr>\n",
       "<tr>\n",
       "  <th>10</th> <td>   -0.1098</td>  <td>  -0.02417</td>  <td>    0.8960</td>  <td>  -0.07913</td> \n",
       "</tr>\n",
       "<tr>\n",
       "  <th>11</th> <td>   -0.1092</td>  <td>  -0.01610</td>  <td>    0.8966</td>  <td>  -0.07584</td> \n",
       "</tr>\n",
       "<tr>\n",
       "  <th>12</th> <td>   -0.1085</td>  <td> -0.008019</td>  <td>    0.8972</td>  <td>  -0.07254</td> \n",
       "</tr>\n",
       "</table>"
      ],
      "text/plain": [
       "<class 'statsmodels.iolib.table.SimpleTable'>"
      ]
     },
     "execution_count": 36,
     "metadata": {},
     "output_type": "execute_result"
    }
   ],
   "source": [
    "# the johansen VAR framework is adopted\n",
    "# we need to ensure that variables are non stationary\n",
    "\n",
    "from statsmodels.tsa.vector_ar import vecm\n",
    "model=vecm.select_order(df3,maxlags=12)\n",
    "model.summary()"
   ]
  },
  {
   "cell_type": "code",
   "execution_count": 1,
   "metadata": {},
   "outputs": [
    {
     "ename": "NameError",
     "evalue": "name 'vecm' is not defined",
     "output_type": "error",
     "traceback": [
      "\u001b[1;31m---------------------------------------------------------------------------\u001b[0m",
      "\u001b[1;31mNameError\u001b[0m                                 Traceback (most recent call last)",
      "\u001b[1;32m<ipython-input-1-8b2217b4155f>\u001b[0m in \u001b[0;36m<module>\u001b[1;34m\u001b[0m\n\u001b[1;32m----> 1\u001b[1;33m \u001b[0mvec_rank1\u001b[0m\u001b[1;33m=\u001b[0m\u001b[0mvecm\u001b[0m\u001b[1;33m.\u001b[0m\u001b[0mselect_coint_rank\u001b[0m\u001b[1;33m(\u001b[0m\u001b[0mdf3\u001b[0m\u001b[1;33m,\u001b[0m\u001b[0mdet_order\u001b[0m\u001b[1;33m=\u001b[0m\u001b[1;36m5\u001b[0m\u001b[1;33m,\u001b[0m\u001b[0mk_ar_diff\u001b[0m\u001b[1;33m=\u001b[0m\u001b[1;36m1\u001b[0m\u001b[1;33m,\u001b[0m\u001b[0mmethod\u001b[0m\u001b[1;33m=\u001b[0m\u001b[1;34m'trace'\u001b[0m\u001b[1;33m,\u001b[0m\u001b[0msignif\u001b[0m\u001b[1;33m=\u001b[0m\u001b[1;36m0.01\u001b[0m\u001b[1;33m)\u001b[0m\u001b[1;33m\u001b[0m\u001b[1;33m\u001b[0m\u001b[0m\n\u001b[0m\u001b[0;32m      2\u001b[0m \u001b[0mvec_rank1\u001b[0m\u001b[1;33m.\u001b[0m\u001b[0msummary\u001b[0m\u001b[1;33m(\u001b[0m\u001b[1;33m)\u001b[0m\u001b[1;33m\u001b[0m\u001b[1;33m\u001b[0m\u001b[0m\n",
      "\u001b[1;31mNameError\u001b[0m: name 'vecm' is not defined"
     ]
    }
   ],
   "source": [
    "vec_rank1=vecm.select_coint_rank(df3,det_order=5,k_ar_diff=1,method='trace',signif=0.01)\n",
    "vec_rank1.summary()"
   ]
  },
  {
   "cell_type": "code",
   "execution_count": 38,
   "metadata": {},
   "outputs": [],
   "source": [
    "#we obtain the train test statistic with 1% significance level with\n",
    "#critical values. "
   ]
  },
  {
   "cell_type": "markdown",
   "metadata": {},
   "source": [
    "The first row of the table tests the null hypothesis of at most one\n",
    "cointegrating vector, against the alternative hypothesis that the number of cointegrating equations is strictly larger than the number assumed under the null hypothesis, i.e., larger than one."
   ]
  },
  {
   "cell_type": "code",
   "execution_count": 39,
   "metadata": {},
   "outputs": [],
   "source": [
    "#we find that the test statistic of 27.29 exceeds the critical value \n",
    "#of 23.15 and hence, the null of at most one cointegrating\n",
    "#vector is rejected. Moving to the next row, however, the test\n",
    "#statistic of 2.752 is lower than the critical value of 6.635\n",
    "#and therefore, the null of at most two cointegrating vectors is\n",
    "#not rejected at the 1% significance level"
   ]
  },
  {
   "cell_type": "markdown",
   "metadata": {},
   "source": [
    "Besides the λtrace statistic, we can also employ an alternative statistic, the maximum-eigenvalue statistic (λmax). In contrast to the trace statistic, the maximum-eigenvalue statistic assumes a given number of r cointegrating relations under the null hypothesis and tests this against the alternative that there are r + 1 cointegrating equations"
   ]
  },
  {
   "cell_type": "code",
   "execution_count": 40,
   "metadata": {},
   "outputs": [
    {
     "data": {
      "text/html": [
       "<table class=\"simpletable\">\n",
       "<caption>Johansen cointegration test using maximum eigenvalue test statistic with 1% significance level</caption>\n",
       "<tr>\n",
       "  <th>r_0</th> <th>r_1</th> <th>test statistic</th> <th>critical value</th>\n",
       "</tr>\n",
       "<tr>\n",
       "    <td>0</td>   <td>1</td>          <td>24.54</td>          <td>21.75</td>\n",
       "</tr>\n",
       "<tr>\n",
       "    <td>1</td>   <td>2</td>          <td>2.752</td>          <td>6.635</td>\n",
       "</tr>\n",
       "</table>"
      ],
      "text/plain": [
       "<class 'statsmodels.iolib.table.SimpleTable'>"
      ]
     },
     "execution_count": 40,
     "metadata": {},
     "output_type": "execute_result"
    }
   ],
   "source": [
    "vec_rank2=vecm.select_coint_rank(df3,det_order=1,k_ar_diff=1,method='maxeig',signif=0.01)\n",
    "vec_rank2.summary()"
   ]
  },
  {
   "cell_type": "markdown",
   "metadata": {},
   "source": [
    "Now that we have determined the lag length, trend specification and the number of cointegrating relationships, we can fit the VECM model.\n",
    "\n",
    "To do so, we call the function VECM. In the VECM inputs, we first specify both prices as the dependent variables and then select 2 as the number of cointegrating equations (rank) and one again as the maximum lag to be included in the underlying VAR model. \n",
    "\n",
    "As in the previous input, we set the deterministic argument to ’co’, meaning that there is a constant inside the cointegrating relationship \n",
    "\n"
   ]
  },
  {
   "cell_type": "code",
   "execution_count": 41,
   "metadata": {},
   "outputs": [
    {
     "name": "stderr",
     "output_type": "stream",
     "text": [
      "C:\\Users\\Sandhyana\\Anaconda3\\lib\\site-packages\\statsmodels\\tsa\\base\\tsa_model.py:162: ValueWarning: No frequency information was provided, so inferred frequency D will be used.\n",
      "  % freq, ValueWarning)\n"
     ]
    },
    {
     "name": "stdout",
     "output_type": "stream",
     "text": [
      "Det. terms outside the coint. relation & lagged endog. parameters for equation bp\n",
      "==============================================================================\n",
      "                 coef    std err          z      P>|z|      [0.025      0.975]\n",
      "------------------------------------------------------------------------------\n",
      "const          0.0298      0.065      0.461      0.645      -0.097       0.157\n",
      "L1.bp         -0.1549      0.022     -7.143      0.000      -0.197      -0.112\n",
      "L1.wp          0.2497      0.021     11.626      0.000       0.208       0.292\n",
      "Det. terms outside the coint. relation & lagged endog. parameters for equation wp\n",
      "==============================================================================\n",
      "                 coef    std err          z      P>|z|      [0.025      0.975]\n",
      "------------------------------------------------------------------------------\n",
      "const          0.1301      0.067      1.950      0.051      -0.001       0.261\n",
      "L1.bp         -0.0003      0.022     -0.013      0.990      -0.044       0.044\n",
      "L1.wp         -0.0402      0.022     -1.815      0.070      -0.084       0.003\n",
      "                 Loading coefficients (alpha) for equation bp                 \n",
      "==============================================================================\n",
      "                 coef    std err          z      P>|z|      [0.025      0.975]\n",
      "------------------------------------------------------------------------------\n",
      "ec1           -0.0042      0.004     -1.162      0.245      -0.011       0.003\n",
      "ec2            0.0041      0.004      0.958      0.338      -0.004       0.013\n",
      "                 Loading coefficients (alpha) for equation wp                 \n",
      "==============================================================================\n",
      "                 coef    std err          z      P>|z|      [0.025      0.975]\n",
      "------------------------------------------------------------------------------\n",
      "ec1            0.0107      0.004      2.874      0.004       0.003       0.018\n",
      "ec2           -0.0138      0.004     -3.099      0.002      -0.023      -0.005\n",
      "          Cointegration relations for loading-coefficients-column 1           \n",
      "==============================================================================\n",
      "                 coef    std err          z      P>|z|      [0.025      0.975]\n",
      "------------------------------------------------------------------------------\n",
      "beta.1         1.0000          0          0      0.000       1.000       1.000\n",
      "beta.2              0          0          0      0.000           0           0\n",
      "          Cointegration relations for loading-coefficients-column 2           \n",
      "==============================================================================\n",
      "                 coef    std err          z      P>|z|      [0.025      0.975]\n",
      "------------------------------------------------------------------------------\n",
      "beta.1              0          0          0      0.000           0           0\n",
      "beta.2         1.0000          0          0      0.000       1.000       1.000\n",
      "==============================================================================\n"
     ]
    }
   ],
   "source": [
    "#VECM\n",
    "model=vecm.VECM(df3,k_ar_diff=1,coint_rank=2,deterministic='co')\n",
    "res=model.fit()\n",
    "print(res.summary())"
   ]
  },
  {
   "cell_type": "code",
   "execution_count": null,
   "metadata": {},
   "outputs": [],
   "source": []
  }
 ],
 "metadata": {
  "kernelspec": {
   "display_name": "Python 3",
   "language": "python",
   "name": "python3"
  },
  "language_info": {
   "codemirror_mode": {
    "name": "ipython",
    "version": 3
   },
   "file_extension": ".py",
   "mimetype": "text/x-python",
   "name": "python",
   "nbconvert_exporter": "python",
   "pygments_lexer": "ipython3",
   "version": "3.8.8"
  }
 },
 "nbformat": 4,
 "nbformat_minor": 4
}

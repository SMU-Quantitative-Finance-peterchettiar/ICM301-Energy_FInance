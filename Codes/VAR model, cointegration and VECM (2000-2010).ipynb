{
 "cells": [
  {
   "cell_type": "code",
   "execution_count": 1,
   "metadata": {},
   "outputs": [],
   "source": [
    "import pandas as pd\n",
    "import numpy as np\n",
    "import matplotlib.pyplot as plt\n",
    "\n",
    "from statsmodels.tsa.api import VAR\n",
    "from statsmodels.tsa.stattools import adfuller\n",
    "from statsmodels.tools.eval_measures import rmse, aic\n",
    "import pickle"
   ]
  },
  {
   "cell_type": "code",
   "execution_count": 2,
   "metadata": {},
   "outputs": [],
   "source": [
    "brent = pd.read_excel(r'C:\\Users\\Sandhyana\\Desktop\\brentprice.xls', sheet_name='Data 1',index_col='Date')\n",
    "wti = pd.read_excel(r'C:\\Users\\Sandhyana\\Desktop\\wtiprice.xls', sheet_name='Data 1',index_col='Date')"
   ]
  },
  {
   "cell_type": "code",
   "execution_count": 3,
   "metadata": {},
   "outputs": [],
   "source": [
    "brent1 = brent.resample('D').ffill().reset_index()\n",
    "wti1 = wti.resample('D').ffill().reset_index()"
   ]
  },
  {
   "cell_type": "code",
   "execution_count": 4,
   "metadata": {},
   "outputs": [
    {
     "data": {
      "text/html": [
       "<div>\n",
       "<style scoped>\n",
       "    .dataframe tbody tr th:only-of-type {\n",
       "        vertical-align: middle;\n",
       "    }\n",
       "\n",
       "    .dataframe tbody tr th {\n",
       "        vertical-align: top;\n",
       "    }\n",
       "\n",
       "    .dataframe thead th {\n",
       "        text-align: right;\n",
       "    }\n",
       "</style>\n",
       "<table border=\"1\" class=\"dataframe\">\n",
       "  <thead>\n",
       "    <tr style=\"text-align: right;\">\n",
       "      <th></th>\n",
       "      <th>Date</th>\n",
       "      <th>bp</th>\n",
       "      <th>wp</th>\n",
       "    </tr>\n",
       "  </thead>\n",
       "  <tbody>\n",
       "    <tr>\n",
       "      <td>0</td>\n",
       "      <td>1987-05-20</td>\n",
       "      <td>18.63</td>\n",
       "      <td>19.75</td>\n",
       "    </tr>\n",
       "    <tr>\n",
       "      <td>1</td>\n",
       "      <td>1987-05-21</td>\n",
       "      <td>18.45</td>\n",
       "      <td>19.95</td>\n",
       "    </tr>\n",
       "    <tr>\n",
       "      <td>2</td>\n",
       "      <td>1987-05-22</td>\n",
       "      <td>18.55</td>\n",
       "      <td>19.68</td>\n",
       "    </tr>\n",
       "    <tr>\n",
       "      <td>3</td>\n",
       "      <td>1987-05-23</td>\n",
       "      <td>18.55</td>\n",
       "      <td>19.68</td>\n",
       "    </tr>\n",
       "    <tr>\n",
       "      <td>4</td>\n",
       "      <td>1987-05-24</td>\n",
       "      <td>18.55</td>\n",
       "      <td>19.68</td>\n",
       "    </tr>\n",
       "    <tr>\n",
       "      <td>...</td>\n",
       "      <td>...</td>\n",
       "      <td>...</td>\n",
       "      <td>...</td>\n",
       "    </tr>\n",
       "    <tr>\n",
       "      <td>12118</td>\n",
       "      <td>2020-07-23</td>\n",
       "      <td>42.96</td>\n",
       "      <td>40.99</td>\n",
       "    </tr>\n",
       "    <tr>\n",
       "      <td>12119</td>\n",
       "      <td>2020-07-24</td>\n",
       "      <td>43.29</td>\n",
       "      <td>41.23</td>\n",
       "    </tr>\n",
       "    <tr>\n",
       "      <td>12120</td>\n",
       "      <td>2020-07-25</td>\n",
       "      <td>43.29</td>\n",
       "      <td>41.23</td>\n",
       "    </tr>\n",
       "    <tr>\n",
       "      <td>12121</td>\n",
       "      <td>2020-07-26</td>\n",
       "      <td>43.29</td>\n",
       "      <td>41.23</td>\n",
       "    </tr>\n",
       "    <tr>\n",
       "      <td>12122</td>\n",
       "      <td>2020-07-27</td>\n",
       "      <td>43.39</td>\n",
       "      <td>41.46</td>\n",
       "    </tr>\n",
       "  </tbody>\n",
       "</table>\n",
       "<p>12123 rows × 3 columns</p>\n",
       "</div>"
      ],
      "text/plain": [
       "            Date     bp     wp\n",
       "0     1987-05-20  18.63  19.75\n",
       "1     1987-05-21  18.45  19.95\n",
       "2     1987-05-22  18.55  19.68\n",
       "3     1987-05-23  18.55  19.68\n",
       "4     1987-05-24  18.55  19.68\n",
       "...          ...    ...    ...\n",
       "12118 2020-07-23  42.96  40.99\n",
       "12119 2020-07-24  43.29  41.23\n",
       "12120 2020-07-25  43.29  41.23\n",
       "12121 2020-07-26  43.29  41.23\n",
       "12122 2020-07-27  43.39  41.46\n",
       "\n",
       "[12123 rows x 3 columns]"
      ]
     },
     "execution_count": 4,
     "metadata": {},
     "output_type": "execute_result"
    }
   ],
   "source": [
    "prices=[brent1['Date'],brent1['bp'],wti1['wp']]\n",
    "price=pd.concat(prices, axis=1)\n",
    "price"
   ]
  },
  {
   "cell_type": "code",
   "execution_count": 5,
   "metadata": {},
   "outputs": [
    {
     "data": {
      "text/html": [
       "<div>\n",
       "<style scoped>\n",
       "    .dataframe tbody tr th:only-of-type {\n",
       "        vertical-align: middle;\n",
       "    }\n",
       "\n",
       "    .dataframe tbody tr th {\n",
       "        vertical-align: top;\n",
       "    }\n",
       "\n",
       "    .dataframe thead th {\n",
       "        text-align: right;\n",
       "    }\n",
       "</style>\n",
       "<table border=\"1\" class=\"dataframe\">\n",
       "  <thead>\n",
       "    <tr style=\"text-align: right;\">\n",
       "      <th></th>\n",
       "      <th>Date</th>\n",
       "      <th>bp</th>\n",
       "      <th>wp</th>\n",
       "    </tr>\n",
       "  </thead>\n",
       "  <tbody>\n",
       "    <tr>\n",
       "      <td>4609</td>\n",
       "      <td>2000-01-01</td>\n",
       "      <td>24.93</td>\n",
       "      <td>25.76</td>\n",
       "    </tr>\n",
       "    <tr>\n",
       "      <td>4610</td>\n",
       "      <td>2000-01-02</td>\n",
       "      <td>24.93</td>\n",
       "      <td>25.76</td>\n",
       "    </tr>\n",
       "    <tr>\n",
       "      <td>4611</td>\n",
       "      <td>2000-01-03</td>\n",
       "      <td>24.93</td>\n",
       "      <td>25.76</td>\n",
       "    </tr>\n",
       "    <tr>\n",
       "      <td>4612</td>\n",
       "      <td>2000-01-04</td>\n",
       "      <td>23.95</td>\n",
       "      <td>25.56</td>\n",
       "    </tr>\n",
       "    <tr>\n",
       "      <td>4613</td>\n",
       "      <td>2000-01-05</td>\n",
       "      <td>23.72</td>\n",
       "      <td>24.65</td>\n",
       "    </tr>\n",
       "    <tr>\n",
       "      <td>...</td>\n",
       "      <td>...</td>\n",
       "      <td>...</td>\n",
       "      <td>...</td>\n",
       "    </tr>\n",
       "    <tr>\n",
       "      <td>8622</td>\n",
       "      <td>2010-12-27</td>\n",
       "      <td>93.08</td>\n",
       "      <td>90.99</td>\n",
       "    </tr>\n",
       "    <tr>\n",
       "      <td>8623</td>\n",
       "      <td>2010-12-28</td>\n",
       "      <td>93.52</td>\n",
       "      <td>91.48</td>\n",
       "    </tr>\n",
       "    <tr>\n",
       "      <td>8624</td>\n",
       "      <td>2010-12-29</td>\n",
       "      <td>93.52</td>\n",
       "      <td>91.13</td>\n",
       "    </tr>\n",
       "    <tr>\n",
       "      <td>8625</td>\n",
       "      <td>2010-12-30</td>\n",
       "      <td>92.50</td>\n",
       "      <td>89.85</td>\n",
       "    </tr>\n",
       "    <tr>\n",
       "      <td>8626</td>\n",
       "      <td>2010-12-31</td>\n",
       "      <td>93.23</td>\n",
       "      <td>91.38</td>\n",
       "    </tr>\n",
       "  </tbody>\n",
       "</table>\n",
       "<p>4018 rows × 3 columns</p>\n",
       "</div>"
      ],
      "text/plain": [
       "           Date     bp     wp\n",
       "4609 2000-01-01  24.93  25.76\n",
       "4610 2000-01-02  24.93  25.76\n",
       "4611 2000-01-03  24.93  25.76\n",
       "4612 2000-01-04  23.95  25.56\n",
       "4613 2000-01-05  23.72  24.65\n",
       "...         ...    ...    ...\n",
       "8622 2010-12-27  93.08  90.99\n",
       "8623 2010-12-28  93.52  91.48\n",
       "8624 2010-12-29  93.52  91.13\n",
       "8625 2010-12-30  92.50  89.85\n",
       "8626 2010-12-31  93.23  91.38\n",
       "\n",
       "[4018 rows x 3 columns]"
      ]
     },
     "execution_count": 5,
     "metadata": {},
     "output_type": "execute_result"
    }
   ],
   "source": [
    "price = price[(price['Date' ] > '1999-12-31') & (price['Date' ] <= '2010-12-31')]\n",
    "price"
   ]
  },
  {
   "cell_type": "code",
   "execution_count": 6,
   "metadata": {},
   "outputs": [],
   "source": [
    "price.set_index('Date', inplace=True)\n"
   ]
  },
  {
   "cell_type": "code",
   "execution_count": 7,
   "metadata": {},
   "outputs": [
    {
     "name": "stderr",
     "output_type": "stream",
     "text": [
      "C:\\Users\\Sandhyana\\Anaconda3\\lib\\site-packages\\ipykernel_launcher.py:1: SettingWithCopyWarning: \n",
      "A value is trying to be set on a copy of a slice from a DataFrame.\n",
      "Try using .loc[row_indexer,col_indexer] = value instead\n",
      "\n",
      "See the caveats in the documentation: http://pandas.pydata.org/pandas-docs/stable/user_guide/indexing.html#returning-a-view-versus-a-copy\n",
      "  \"\"\"Entry point for launching an IPython kernel.\n",
      "C:\\Users\\Sandhyana\\Anaconda3\\lib\\site-packages\\ipykernel_launcher.py:2: SettingWithCopyWarning: \n",
      "A value is trying to be set on a copy of a slice from a DataFrame.\n",
      "Try using .loc[row_indexer,col_indexer] = value instead\n",
      "\n",
      "See the caveats in the documentation: http://pandas.pydata.org/pandas-docs/stable/user_guide/indexing.html#returning-a-view-versus-a-copy\n",
      "  \n"
     ]
    },
    {
     "data": {
      "text/html": [
       "<div>\n",
       "<style scoped>\n",
       "    .dataframe tbody tr th:only-of-type {\n",
       "        vertical-align: middle;\n",
       "    }\n",
       "\n",
       "    .dataframe tbody tr th {\n",
       "        vertical-align: top;\n",
       "    }\n",
       "\n",
       "    .dataframe thead th {\n",
       "        text-align: right;\n",
       "    }\n",
       "</style>\n",
       "<table border=\"1\" class=\"dataframe\">\n",
       "  <thead>\n",
       "    <tr style=\"text-align: right;\">\n",
       "      <th></th>\n",
       "      <th>bp</th>\n",
       "      <th>wp</th>\n",
       "      <th>brentdiff</th>\n",
       "      <th>wtidiff</th>\n",
       "    </tr>\n",
       "    <tr>\n",
       "      <th>Date</th>\n",
       "      <th></th>\n",
       "      <th></th>\n",
       "      <th></th>\n",
       "      <th></th>\n",
       "    </tr>\n",
       "  </thead>\n",
       "  <tbody>\n",
       "    <tr>\n",
       "      <td>2000-01-01</td>\n",
       "      <td>24.93</td>\n",
       "      <td>25.76</td>\n",
       "      <td>NaN</td>\n",
       "      <td>NaN</td>\n",
       "    </tr>\n",
       "    <tr>\n",
       "      <td>2000-01-02</td>\n",
       "      <td>24.93</td>\n",
       "      <td>25.76</td>\n",
       "      <td>0.000000</td>\n",
       "      <td>0.000000</td>\n",
       "    </tr>\n",
       "    <tr>\n",
       "      <td>2000-01-03</td>\n",
       "      <td>24.93</td>\n",
       "      <td>25.76</td>\n",
       "      <td>0.000000</td>\n",
       "      <td>0.000000</td>\n",
       "    </tr>\n",
       "    <tr>\n",
       "      <td>2000-01-04</td>\n",
       "      <td>23.95</td>\n",
       "      <td>25.56</td>\n",
       "      <td>-4.010357</td>\n",
       "      <td>-0.779427</td>\n",
       "    </tr>\n",
       "    <tr>\n",
       "      <td>2000-01-05</td>\n",
       "      <td>23.72</td>\n",
       "      <td>24.65</td>\n",
       "      <td>-0.964975</td>\n",
       "      <td>-3.625173</td>\n",
       "    </tr>\n",
       "    <tr>\n",
       "      <td>...</td>\n",
       "      <td>...</td>\n",
       "      <td>...</td>\n",
       "      <td>...</td>\n",
       "      <td>...</td>\n",
       "    </tr>\n",
       "    <tr>\n",
       "      <td>2010-12-27</td>\n",
       "      <td>93.08</td>\n",
       "      <td>90.99</td>\n",
       "      <td>-0.589151</td>\n",
       "      <td>0.164989</td>\n",
       "    </tr>\n",
       "    <tr>\n",
       "      <td>2010-12-28</td>\n",
       "      <td>93.52</td>\n",
       "      <td>91.48</td>\n",
       "      <td>0.471598</td>\n",
       "      <td>0.537076</td>\n",
       "    </tr>\n",
       "    <tr>\n",
       "      <td>2010-12-29</td>\n",
       "      <td>93.52</td>\n",
       "      <td>91.13</td>\n",
       "      <td>0.000000</td>\n",
       "      <td>-0.383331</td>\n",
       "    </tr>\n",
       "    <tr>\n",
       "      <td>2010-12-30</td>\n",
       "      <td>92.50</td>\n",
       "      <td>89.85</td>\n",
       "      <td>-1.096667</td>\n",
       "      <td>-1.414545</td>\n",
       "    </tr>\n",
       "    <tr>\n",
       "      <td>2010-12-31</td>\n",
       "      <td>93.23</td>\n",
       "      <td>91.38</td>\n",
       "      <td>0.786091</td>\n",
       "      <td>1.688502</td>\n",
       "    </tr>\n",
       "  </tbody>\n",
       "</table>\n",
       "<p>4018 rows × 4 columns</p>\n",
       "</div>"
      ],
      "text/plain": [
       "               bp     wp  brentdiff   wtidiff\n",
       "Date                                         \n",
       "2000-01-01  24.93  25.76        NaN       NaN\n",
       "2000-01-02  24.93  25.76   0.000000  0.000000\n",
       "2000-01-03  24.93  25.76   0.000000  0.000000\n",
       "2000-01-04  23.95  25.56  -4.010357 -0.779427\n",
       "2000-01-05  23.72  24.65  -0.964975 -3.625173\n",
       "...           ...    ...        ...       ...\n",
       "2010-12-27  93.08  90.99  -0.589151  0.164989\n",
       "2010-12-28  93.52  91.48   0.471598  0.537076\n",
       "2010-12-29  93.52  91.13   0.000000 -0.383331\n",
       "2010-12-30  92.50  89.85  -1.096667 -1.414545\n",
       "2010-12-31  93.23  91.38   0.786091  1.688502\n",
       "\n",
       "[4018 rows x 4 columns]"
      ]
     },
     "execution_count": 7,
     "metadata": {},
     "output_type": "execute_result"
    }
   ],
   "source": [
    "price['brentdiff']=100*(np.log((price['bp'])/price['bp'].shift(1)))\n",
    "price['wtidiff']=100*(np.log((price['wp'])/price['wp'].shift(1)))\n",
    "price"
   ]
  },
  {
   "cell_type": "code",
   "execution_count": 8,
   "metadata": {},
   "outputs": [
    {
     "data": {
      "text/html": [
       "<div>\n",
       "<style scoped>\n",
       "    .dataframe tbody tr th:only-of-type {\n",
       "        vertical-align: middle;\n",
       "    }\n",
       "\n",
       "    .dataframe tbody tr th {\n",
       "        vertical-align: top;\n",
       "    }\n",
       "\n",
       "    .dataframe thead th {\n",
       "        text-align: right;\n",
       "    }\n",
       "</style>\n",
       "<table border=\"1\" class=\"dataframe\">\n",
       "  <thead>\n",
       "    <tr style=\"text-align: right;\">\n",
       "      <th></th>\n",
       "      <th>bp</th>\n",
       "      <th>wp</th>\n",
       "      <th>brentdiff</th>\n",
       "      <th>wtidiff</th>\n",
       "    </tr>\n",
       "    <tr>\n",
       "      <th>Date</th>\n",
       "      <th></th>\n",
       "      <th></th>\n",
       "      <th></th>\n",
       "      <th></th>\n",
       "    </tr>\n",
       "  </thead>\n",
       "  <tbody>\n",
       "    <tr>\n",
       "      <td>2000-01-02</td>\n",
       "      <td>24.93</td>\n",
       "      <td>25.76</td>\n",
       "      <td>0.000000</td>\n",
       "      <td>0.000000</td>\n",
       "    </tr>\n",
       "    <tr>\n",
       "      <td>2000-01-03</td>\n",
       "      <td>24.93</td>\n",
       "      <td>25.76</td>\n",
       "      <td>0.000000</td>\n",
       "      <td>0.000000</td>\n",
       "    </tr>\n",
       "    <tr>\n",
       "      <td>2000-01-04</td>\n",
       "      <td>23.95</td>\n",
       "      <td>25.56</td>\n",
       "      <td>-4.010357</td>\n",
       "      <td>-0.779427</td>\n",
       "    </tr>\n",
       "    <tr>\n",
       "      <td>2000-01-05</td>\n",
       "      <td>23.72</td>\n",
       "      <td>24.65</td>\n",
       "      <td>-0.964975</td>\n",
       "      <td>-3.625173</td>\n",
       "    </tr>\n",
       "    <tr>\n",
       "      <td>2000-01-06</td>\n",
       "      <td>23.55</td>\n",
       "      <td>24.79</td>\n",
       "      <td>-0.719275</td>\n",
       "      <td>0.566345</td>\n",
       "    </tr>\n",
       "    <tr>\n",
       "      <td>...</td>\n",
       "      <td>...</td>\n",
       "      <td>...</td>\n",
       "      <td>...</td>\n",
       "      <td>...</td>\n",
       "    </tr>\n",
       "    <tr>\n",
       "      <td>2010-12-27</td>\n",
       "      <td>93.08</td>\n",
       "      <td>90.99</td>\n",
       "      <td>-0.589151</td>\n",
       "      <td>0.164989</td>\n",
       "    </tr>\n",
       "    <tr>\n",
       "      <td>2010-12-28</td>\n",
       "      <td>93.52</td>\n",
       "      <td>91.48</td>\n",
       "      <td>0.471598</td>\n",
       "      <td>0.537076</td>\n",
       "    </tr>\n",
       "    <tr>\n",
       "      <td>2010-12-29</td>\n",
       "      <td>93.52</td>\n",
       "      <td>91.13</td>\n",
       "      <td>0.000000</td>\n",
       "      <td>-0.383331</td>\n",
       "    </tr>\n",
       "    <tr>\n",
       "      <td>2010-12-30</td>\n",
       "      <td>92.50</td>\n",
       "      <td>89.85</td>\n",
       "      <td>-1.096667</td>\n",
       "      <td>-1.414545</td>\n",
       "    </tr>\n",
       "    <tr>\n",
       "      <td>2010-12-31</td>\n",
       "      <td>93.23</td>\n",
       "      <td>91.38</td>\n",
       "      <td>0.786091</td>\n",
       "      <td>1.688502</td>\n",
       "    </tr>\n",
       "  </tbody>\n",
       "</table>\n",
       "<p>4017 rows × 4 columns</p>\n",
       "</div>"
      ],
      "text/plain": [
       "               bp     wp  brentdiff   wtidiff\n",
       "Date                                         \n",
       "2000-01-02  24.93  25.76   0.000000  0.000000\n",
       "2000-01-03  24.93  25.76   0.000000  0.000000\n",
       "2000-01-04  23.95  25.56  -4.010357 -0.779427\n",
       "2000-01-05  23.72  24.65  -0.964975 -3.625173\n",
       "2000-01-06  23.55  24.79  -0.719275  0.566345\n",
       "...           ...    ...        ...       ...\n",
       "2010-12-27  93.08  90.99  -0.589151  0.164989\n",
       "2010-12-28  93.52  91.48   0.471598  0.537076\n",
       "2010-12-29  93.52  91.13   0.000000 -0.383331\n",
       "2010-12-30  92.50  89.85  -1.096667 -1.414545\n",
       "2010-12-31  93.23  91.38   0.786091  1.688502\n",
       "\n",
       "[4017 rows x 4 columns]"
      ]
     },
     "execution_count": 8,
     "metadata": {},
     "output_type": "execute_result"
    }
   ],
   "source": [
    "price1=price.dropna()\n",
    "price1"
   ]
  },
  {
   "cell_type": "code",
   "execution_count": 9,
   "metadata": {},
   "outputs": [
    {
     "data": {
      "text/html": [
       "<div>\n",
       "<style scoped>\n",
       "    .dataframe tbody tr th:only-of-type {\n",
       "        vertical-align: middle;\n",
       "    }\n",
       "\n",
       "    .dataframe tbody tr th {\n",
       "        vertical-align: top;\n",
       "    }\n",
       "\n",
       "    .dataframe thead th {\n",
       "        text-align: right;\n",
       "    }\n",
       "</style>\n",
       "<table border=\"1\" class=\"dataframe\">\n",
       "  <thead>\n",
       "    <tr style=\"text-align: right;\">\n",
       "      <th></th>\n",
       "      <th>brentdiff</th>\n",
       "      <th>wtidiff</th>\n",
       "    </tr>\n",
       "    <tr>\n",
       "      <th>Date</th>\n",
       "      <th></th>\n",
       "      <th></th>\n",
       "    </tr>\n",
       "  </thead>\n",
       "  <tbody>\n",
       "    <tr>\n",
       "      <td>2000-01-02</td>\n",
       "      <td>0.000000</td>\n",
       "      <td>0.000000</td>\n",
       "    </tr>\n",
       "    <tr>\n",
       "      <td>2000-01-03</td>\n",
       "      <td>0.000000</td>\n",
       "      <td>0.000000</td>\n",
       "    </tr>\n",
       "    <tr>\n",
       "      <td>2000-01-04</td>\n",
       "      <td>-4.010357</td>\n",
       "      <td>-0.779427</td>\n",
       "    </tr>\n",
       "    <tr>\n",
       "      <td>2000-01-05</td>\n",
       "      <td>-0.964975</td>\n",
       "      <td>-3.625173</td>\n",
       "    </tr>\n",
       "    <tr>\n",
       "      <td>2000-01-06</td>\n",
       "      <td>-0.719275</td>\n",
       "      <td>0.566345</td>\n",
       "    </tr>\n",
       "    <tr>\n",
       "      <td>...</td>\n",
       "      <td>...</td>\n",
       "      <td>...</td>\n",
       "    </tr>\n",
       "    <tr>\n",
       "      <td>2010-12-27</td>\n",
       "      <td>-0.589151</td>\n",
       "      <td>0.164989</td>\n",
       "    </tr>\n",
       "    <tr>\n",
       "      <td>2010-12-28</td>\n",
       "      <td>0.471598</td>\n",
       "      <td>0.537076</td>\n",
       "    </tr>\n",
       "    <tr>\n",
       "      <td>2010-12-29</td>\n",
       "      <td>0.000000</td>\n",
       "      <td>-0.383331</td>\n",
       "    </tr>\n",
       "    <tr>\n",
       "      <td>2010-12-30</td>\n",
       "      <td>-1.096667</td>\n",
       "      <td>-1.414545</td>\n",
       "    </tr>\n",
       "    <tr>\n",
       "      <td>2010-12-31</td>\n",
       "      <td>0.786091</td>\n",
       "      <td>1.688502</td>\n",
       "    </tr>\n",
       "  </tbody>\n",
       "</table>\n",
       "<p>4017 rows × 2 columns</p>\n",
       "</div>"
      ],
      "text/plain": [
       "            brentdiff   wtidiff\n",
       "Date                           \n",
       "2000-01-02   0.000000  0.000000\n",
       "2000-01-03   0.000000  0.000000\n",
       "2000-01-04  -4.010357 -0.779427\n",
       "2000-01-05  -0.964975 -3.625173\n",
       "2000-01-06  -0.719275  0.566345\n",
       "...               ...       ...\n",
       "2010-12-27  -0.589151  0.164989\n",
       "2010-12-28   0.471598  0.537076\n",
       "2010-12-29   0.000000 -0.383331\n",
       "2010-12-30  -1.096667 -1.414545\n",
       "2010-12-31   0.786091  1.688502\n",
       "\n",
       "[4017 rows x 2 columns]"
      ]
     },
     "execution_count": 9,
     "metadata": {},
     "output_type": "execute_result"
    }
   ],
   "source": [
    "price2= price1.iloc[:, 2:]\n",
    "price2"
   ]
  },
  {
   "cell_type": "code",
   "execution_count": 10,
   "metadata": {},
   "outputs": [
    {
     "name": "stderr",
     "output_type": "stream",
     "text": [
      "C:\\Users\\Sandhyana\\Anaconda3\\lib\\site-packages\\statsmodels\\tsa\\base\\tsa_model.py:162: ValueWarning: No frequency information was provided, so inferred frequency D will be used.\n",
      "  % freq, ValueWarning)\n"
     ]
    },
    {
     "data": {
      "text/plain": [
       "  Summary of Regression Results   \n",
       "==================================\n",
       "Model:                         VAR\n",
       "Method:                        OLS\n",
       "Date:           Tue, 11, Aug, 2020\n",
       "Time:                     16:33:55\n",
       "--------------------------------------------------------------------\n",
       "No. of Equations:         2.00000    BIC:                    2.52510\n",
       "Nobs:                     4015.00    HQIC:                   2.51498\n",
       "Log likelihood:          -16421.7    FPE:                    12.2978\n",
       "AIC:                      2.50942    Det(Omega_mle):         12.2672\n",
       "--------------------------------------------------------------------\n",
       "Results for equation brentdiff\n",
       "===============================================================================\n",
       "                  coefficient       std. error           t-stat            prob\n",
       "-------------------------------------------------------------------------------\n",
       "const                0.028968         0.031153            0.930           0.352\n",
       "L1.brentdiff        -0.210034         0.019439          -10.805           0.000\n",
       "L1.wtidiff           0.320682         0.017537           18.286           0.000\n",
       "L2.brentdiff        -0.061125         0.018578           -3.290           0.001\n",
       "L2.wtidiff           0.088253         0.018201            4.849           0.000\n",
       "===============================================================================\n",
       "\n",
       "Results for equation wtidiff\n",
       "===============================================================================\n",
       "                  coefficient       std. error           t-stat            prob\n",
       "-------------------------------------------------------------------------------\n",
       "const                0.032574         0.034635            0.940           0.347\n",
       "L1.brentdiff         0.014332         0.021612            0.663           0.507\n",
       "L1.wtidiff          -0.046510         0.019498           -2.385           0.017\n",
       "L2.brentdiff        -0.007551         0.020655           -0.366           0.715\n",
       "L2.wtidiff           0.006060         0.020235            0.299           0.765\n",
       "===============================================================================\n",
       "\n",
       "Correlation matrix of residuals\n",
       "             brentdiff   wtidiff\n",
       "brentdiff     1.000000  0.587864\n",
       "wtidiff       0.587864  1.000000\n",
       "\n"
      ]
     },
     "execution_count": 10,
     "metadata": {},
     "output_type": "execute_result"
    }
   ],
   "source": [
    "#Constructing the VAR model\n",
    "import statsmodels.tsa.api as smt\n",
    "model=smt.VAR(price2)\n",
    "res=model.fit(maxlags=2)\n",
    "res.summary()"
   ]
  },
  {
   "cell_type": "code",
   "execution_count": 11,
   "metadata": {},
   "outputs": [
    {
     "data": {
      "text/html": [
       "<table class=\"simpletable\">\n",
       "<caption>VAR Order Selection (* highlights the minimums)</caption>\n",
       "<tr>\n",
       "   <td></td>      <th>AIC</th>         <th>BIC</th>         <th>FPE</th>        <th>HQIC</th>    \n",
       "</tr>\n",
       "<tr>\n",
       "  <th>0</th>  <td>     2.645</td>  <td>     2.648</td>  <td>     14.08</td>  <td>     2.646</td> \n",
       "</tr>\n",
       "<tr>\n",
       "  <th>1</th>  <td>     2.516</td>  <td>     2.525</td>  <td>     12.38</td>  <td>     2.519</td> \n",
       "</tr>\n",
       "<tr>\n",
       "  <th>2</th>  <td>     2.509</td>  <td>     2.525*</td> <td>     12.30</td>  <td>     2.515</td> \n",
       "</tr>\n",
       "<tr>\n",
       "  <th>3</th>  <td>     2.503</td>  <td>     2.525</td>  <td>     12.22</td>  <td>     2.511*</td>\n",
       "</tr>\n",
       "<tr>\n",
       "  <th>4</th>  <td>     2.501</td>  <td>     2.530</td>  <td>     12.20</td>  <td>     2.511</td> \n",
       "</tr>\n",
       "<tr>\n",
       "  <th>5</th>  <td>     2.501</td>  <td>     2.536</td>  <td>     12.20</td>  <td>     2.513</td> \n",
       "</tr>\n",
       "<tr>\n",
       "  <th>6</th>  <td>     2.500</td>  <td>     2.541</td>  <td>     12.19</td>  <td>     2.515</td> \n",
       "</tr>\n",
       "<tr>\n",
       "  <th>7</th>  <td>     2.496</td>  <td>     2.543</td>  <td>     12.13</td>  <td>     2.512</td> \n",
       "</tr>\n",
       "<tr>\n",
       "  <th>8</th>  <td>     2.496</td>  <td>     2.550</td>  <td>     12.14</td>  <td>     2.515</td> \n",
       "</tr>\n",
       "<tr>\n",
       "  <th>9</th>  <td>     2.494</td>  <td>     2.553</td>  <td>     12.11</td>  <td>     2.515</td> \n",
       "</tr>\n",
       "<tr>\n",
       "  <th>10</th> <td>     2.493*</td> <td>     2.559</td>  <td>     12.10*</td> <td>     2.516</td> \n",
       "</tr>\n",
       "</table>"
      ],
      "text/plain": [
       "<class 'statsmodels.iolib.table.SimpleTable'>"
      ]
     },
     "execution_count": 11,
     "metadata": {},
     "output_type": "execute_result"
    }
   ],
   "source": [
    "#first step in construction of any VAR model, is to determine\n",
    "#the appropriate lag length\n",
    "#we employ a multivariate information criteria \n",
    "res= model.select_order(maxlags=10)\n",
    "res.summary()"
   ]
  },
  {
   "cell_type": "code",
   "execution_count": 12,
   "metadata": {},
   "outputs": [
    {
     "name": "stderr",
     "output_type": "stream",
     "text": [
      "C:\\Users\\Sandhyana\\Anaconda3\\lib\\site-packages\\statsmodels\\tsa\\base\\tsa_model.py:162: ValueWarning: No frequency information was provided, so inferred frequency D will be used.\n",
      "  % freq, ValueWarning)\n"
     ]
    },
    {
     "data": {
      "text/html": [
       "<table class=\"simpletable\">\n",
       "<caption>Granger causality Wald-test. H_0: brentdiff does not Granger-cause wtidiff. Conclusion: fail to reject H_0 at 5% significance level.</caption>\n",
       "<tr>\n",
       "  <th>Test statistic</th> <th>Critical value</th> <th>p-value</th> <th>df</th>\n",
       "</tr>\n",
       "<tr>\n",
       "      <td>0.6941</td>          <td>5.991</td>      <td>0.707</td>   <td>2</td>\n",
       "</tr>\n",
       "</table>"
      ],
      "text/plain": [
       "<class 'statsmodels.iolib.table.SimpleTable'>"
      ]
     },
     "execution_count": 12,
     "metadata": {},
     "output_type": "execute_result"
    }
   ],
   "source": [
    "#Generally, we choose the lag length for which the values of most of these \n",
    "#lag length criteria are minimized\n",
    "#based on the BIC method, we determine the minimum lag order to be 2\n",
    "# we next run a Granger causality test\n",
    "model = smt.VAR(price2)\n",
    "res = model.fit(maxlags=2)\n",
    "res_causality=res.test_causality(causing=['brentdiff'],caused=['wtidiff'], kind='wald',signif=0.05)\n",
    "res_causality.summary()"
   ]
  },
  {
   "cell_type": "code",
   "execution_count": 14,
   "metadata": {},
   "outputs": [
    {
     "name": "stderr",
     "output_type": "stream",
     "text": [
      "C:\\Users\\Sandhyana\\Anaconda3\\lib\\site-packages\\statsmodels\\tsa\\base\\tsa_model.py:162: ValueWarning: No frequency information was provided, so inferred frequency D will be used.\n",
      "  % freq, ValueWarning)\n"
     ]
    },
    {
     "data": {
      "text/html": [
       "<table class=\"simpletable\">\n",
       "<caption>Granger causality Wald-test. H_0: wtidiff does not Granger-cause brentdiff. Conclusion: reject H_0 at 5% significance level.</caption>\n",
       "<tr>\n",
       "  <th>Test statistic</th> <th>Critical value</th> <th>p-value</th> <th>df</th>\n",
       "</tr>\n",
       "<tr>\n",
       "       <td>334.7</td>          <td>5.991</td>      <td>0.000</td>   <td>2</td>\n",
       "</tr>\n",
       "</table>"
      ],
      "text/plain": [
       "<class 'statsmodels.iolib.table.SimpleTable'>"
      ]
     },
     "execution_count": 14,
     "metadata": {},
     "output_type": "execute_result"
    }
   ],
   "source": [
    "model1 = smt.VAR(price2)\n",
    "res1 = model1.fit(maxlags=2)\n",
    "res_causality1=res1.test_causality(causing=['wtidiff'],caused=['brentdiff'], kind='wald',signif=0.05)\n",
    "res_causality1.summary()"
   ]
  },
  {
   "cell_type": "code",
   "execution_count": 15,
   "metadata": {},
   "outputs": [],
   "source": [
    "#we find that only WTI granger causes brent in the period 2000-2010, while we fail to reject "
   ]
  },
  {
   "cell_type": "markdown",
   "metadata": {},
   "source": [
    "Impulse response analysis is an important step in econometric analyes, which employ vector autoregressive models. Their main purpose is to describe the evolution of a model’s variables in reaction to a shock in one or more variables. This feature allows to trace the transmission of a single shock within an otherwise noisy system of equations and, thus, makes them very useful tools in the assessment of economic policies"
   ]
  },
  {
   "cell_type": "code",
   "execution_count": 16,
   "metadata": {},
   "outputs": [
    {
     "name": "stderr",
     "output_type": "stream",
     "text": [
      "C:\\Users\\Sandhyana\\Anaconda3\\lib\\site-packages\\statsmodels\\tsa\\base\\tsa_model.py:162: ValueWarning: No frequency information was provided, so inferred frequency D will be used.\n",
      "  % freq, ValueWarning)\n"
     ]
    },
    {
     "data": {
      "image/png": "[encoded data removed]",
      "text/plain": [
       "<Figure size 720x720 with 4 Axes>"
      ]
     },
     "execution_count": 16,
     "metadata": {},
     "output_type": "execute_result"
    },
    {
     "data": {
      "image/png": "[encoded data removed]",
      "text/plain": [
       "<Figure size 720x720 with 4 Axes>"
      ]
     },
     "metadata": {
      "needs_background": "light"
     },
     "output_type": "display_data"
    }
   ],
   "source": [
    "#to find the impact of changes in one variable on the other at different\n",
    "#horizons, we obtain the impulse responses for the estimated model\n",
    "#we re-define the dependent variables and select a VAR model with one lag\n",
    "#of each variable and an arbitrary period number of 20 is used\n",
    "\n",
    "model=smt.VAR(price2)\n",
    "res=model.fit(maxlags=2)\n",
    "\n",
    "#impulse response analysis\n",
    "irf=res1.irf(20)\n",
    "irf.plot()"
   ]
  },
  {
   "cell_type": "code",
   "execution_count": 17,
   "metadata": {},
   "outputs": [],
   "source": [
    "#we find that WTI Granger causes brent and vice versa\n",
    "# this implies that changes in WTI cause changes in brent and \n",
    "#similarly, lags of WTI should be significant in the equation for brent \n",
    "#same applies for brent-WTI\n",
    "#hence a bi-directional causality is detected"
   ]
  },
  {
   "cell_type": "markdown",
   "metadata": {},
   "source": [
    "The variance decompositions (also known as forecast error variance decompositions, or fevd in Python) can also be generated using the fevd function (forecast-error variance decompositions)"
   ]
  },
  {
   "cell_type": "code",
   "execution_count": 18,
   "metadata": {},
   "outputs": [
    {
     "data": {
      "image/png": "[encoded data removed]",
      "text/plain": [
       "<Figure size 720x720 with 2 Axes>"
      ]
     },
     "execution_count": 18,
     "metadata": {},
     "output_type": "execute_result"
    },
    {
     "data": {
      "image/png": "[encoded data removed]",
      "text/plain": [
       "<Figure size 720x720 with 2 Axes>"
      ]
     },
     "metadata": {
      "needs_background": "light"
     },
     "output_type": "display_data"
    }
   ],
   "source": [
    "fevd=res.fevd(20)\n",
    "fevd.plot()"
   ]
  },
  {
   "cell_type": "code",
   "execution_count": 19,
   "metadata": {},
   "outputs": [],
   "source": [
    "#the graph above shows that in the case of brent, the percentage of \n",
    "#the errors that is attributable to its own shocks is 100%, while\n",
    "#for WTI, the brent series explains around 40% of the variation "
   ]
  },
  {
   "cell_type": "code",
   "execution_count": 20,
   "metadata": {},
   "outputs": [
    {
     "data": {
      "text/html": [
       "<div>\n",
       "<style scoped>\n",
       "    .dataframe tbody tr th:only-of-type {\n",
       "        vertical-align: middle;\n",
       "    }\n",
       "\n",
       "    .dataframe tbody tr th {\n",
       "        vertical-align: top;\n",
       "    }\n",
       "\n",
       "    .dataframe thead th {\n",
       "        text-align: right;\n",
       "    }\n",
       "</style>\n",
       "<table border=\"1\" class=\"dataframe\">\n",
       "  <thead>\n",
       "    <tr style=\"text-align: right;\">\n",
       "      <th></th>\n",
       "      <th>wtidiff</th>\n",
       "      <th>brentdiff</th>\n",
       "    </tr>\n",
       "    <tr>\n",
       "      <th>Date</th>\n",
       "      <th></th>\n",
       "      <th></th>\n",
       "    </tr>\n",
       "  </thead>\n",
       "  <tbody>\n",
       "    <tr>\n",
       "      <td>2000-01-02</td>\n",
       "      <td>0.000000</td>\n",
       "      <td>0.000000</td>\n",
       "    </tr>\n",
       "    <tr>\n",
       "      <td>2000-01-03</td>\n",
       "      <td>0.000000</td>\n",
       "      <td>0.000000</td>\n",
       "    </tr>\n",
       "    <tr>\n",
       "      <td>2000-01-04</td>\n",
       "      <td>-0.779427</td>\n",
       "      <td>-4.010357</td>\n",
       "    </tr>\n",
       "    <tr>\n",
       "      <td>2000-01-05</td>\n",
       "      <td>-3.625173</td>\n",
       "      <td>-0.964975</td>\n",
       "    </tr>\n",
       "    <tr>\n",
       "      <td>2000-01-06</td>\n",
       "      <td>0.566345</td>\n",
       "      <td>-0.719275</td>\n",
       "    </tr>\n",
       "    <tr>\n",
       "      <td>...</td>\n",
       "      <td>...</td>\n",
       "      <td>...</td>\n",
       "    </tr>\n",
       "    <tr>\n",
       "      <td>2010-12-27</td>\n",
       "      <td>0.164989</td>\n",
       "      <td>-0.589151</td>\n",
       "    </tr>\n",
       "    <tr>\n",
       "      <td>2010-12-28</td>\n",
       "      <td>0.537076</td>\n",
       "      <td>0.471598</td>\n",
       "    </tr>\n",
       "    <tr>\n",
       "      <td>2010-12-29</td>\n",
       "      <td>-0.383331</td>\n",
       "      <td>0.000000</td>\n",
       "    </tr>\n",
       "    <tr>\n",
       "      <td>2010-12-30</td>\n",
       "      <td>-1.414545</td>\n",
       "      <td>-1.096667</td>\n",
       "    </tr>\n",
       "    <tr>\n",
       "      <td>2010-12-31</td>\n",
       "      <td>1.688502</td>\n",
       "      <td>0.786091</td>\n",
       "    </tr>\n",
       "  </tbody>\n",
       "</table>\n",
       "<p>4017 rows × 2 columns</p>\n",
       "</div>"
      ],
      "text/plain": [
       "             wtidiff  brentdiff\n",
       "Date                           \n",
       "2000-01-02  0.000000   0.000000\n",
       "2000-01-03  0.000000   0.000000\n",
       "2000-01-04 -0.779427  -4.010357\n",
       "2000-01-05 -3.625173  -0.964975\n",
       "2000-01-06  0.566345  -0.719275\n",
       "...              ...        ...\n",
       "2010-12-27  0.164989  -0.589151\n",
       "2010-12-28  0.537076   0.471598\n",
       "2010-12-29 -0.383331   0.000000\n",
       "2010-12-30 -1.414545  -1.096667\n",
       "2010-12-31  1.688502   0.786091\n",
       "\n",
       "[4017 rows x 2 columns]"
      ]
     },
     "execution_count": 20,
     "metadata": {},
     "output_type": "execute_result"
    }
   ],
   "source": [
    "#we reverse the columns to check for the effect of WTI on brent \n",
    "price3=price2[['wtidiff','brentdiff']]\n",
    "price3"
   ]
  },
  {
   "cell_type": "code",
   "execution_count": 21,
   "metadata": {},
   "outputs": [
    {
     "name": "stderr",
     "output_type": "stream",
     "text": [
      "C:\\Users\\Sandhyana\\Anaconda3\\lib\\site-packages\\statsmodels\\tsa\\base\\tsa_model.py:162: ValueWarning: No frequency information was provided, so inferred frequency D will be used.\n",
      "  % freq, ValueWarning)\n"
     ]
    },
    {
     "data": {
      "image/png": "[encoded data removed]",
      "text/plain": [
       "<Figure size 720x720 with 2 Axes>"
      ]
     },
     "execution_count": 21,
     "metadata": {},
     "output_type": "execute_result"
    },
    {
     "data": {
      "image/png": "[encoded data removed]",
      "text/plain": [
       "<Figure size 720x720 with 2 Axes>"
      ]
     },
     "metadata": {
      "needs_background": "light"
     },
     "output_type": "display_data"
    }
   ],
   "source": [
    "model=smt.VAR(price3)\n",
    "res=model.fit(maxlags=1)\n",
    "\n",
    "fevd=res.fevd(20)\n",
    "fevd.plot()"
   ]
  },
  {
   "cell_type": "code",
   "execution_count": 22,
   "metadata": {},
   "outputs": [],
   "source": [
    "# we highlight that the WTI series also explain around 40% of \n",
    "#the variation for the brent"
   ]
  },
  {
   "cell_type": "markdown",
   "metadata": {},
   "source": [
    "# Unit Root testing"
   ]
  },
  {
   "cell_type": "code",
   "execution_count": 23,
   "metadata": {},
   "outputs": [],
   "source": [
    "import pickle\n",
    "from arch.unitroot import DFGLS, ADF, KPSS, PhillipsPerron"
   ]
  },
  {
   "cell_type": "code",
   "execution_count": 24,
   "metadata": {},
   "outputs": [
    {
     "data": {
      "text/html": [
       "<div>\n",
       "<style scoped>\n",
       "    .dataframe tbody tr th:only-of-type {\n",
       "        vertical-align: middle;\n",
       "    }\n",
       "\n",
       "    .dataframe tbody tr th {\n",
       "        vertical-align: top;\n",
       "    }\n",
       "\n",
       "    .dataframe thead th {\n",
       "        text-align: right;\n",
       "    }\n",
       "</style>\n",
       "<table border=\"1\" class=\"dataframe\">\n",
       "  <thead>\n",
       "    <tr style=\"text-align: right;\">\n",
       "      <th></th>\n",
       "      <th>bp</th>\n",
       "      <th>wp</th>\n",
       "    </tr>\n",
       "    <tr>\n",
       "      <th>Date</th>\n",
       "      <th></th>\n",
       "      <th></th>\n",
       "    </tr>\n",
       "  </thead>\n",
       "  <tbody>\n",
       "    <tr>\n",
       "      <td>2000-01-01</td>\n",
       "      <td>24.93</td>\n",
       "      <td>25.76</td>\n",
       "    </tr>\n",
       "    <tr>\n",
       "      <td>2000-01-02</td>\n",
       "      <td>24.93</td>\n",
       "      <td>25.76</td>\n",
       "    </tr>\n",
       "    <tr>\n",
       "      <td>2000-01-03</td>\n",
       "      <td>24.93</td>\n",
       "      <td>25.76</td>\n",
       "    </tr>\n",
       "    <tr>\n",
       "      <td>2000-01-04</td>\n",
       "      <td>23.95</td>\n",
       "      <td>25.56</td>\n",
       "    </tr>\n",
       "    <tr>\n",
       "      <td>2000-01-05</td>\n",
       "      <td>23.72</td>\n",
       "      <td>24.65</td>\n",
       "    </tr>\n",
       "    <tr>\n",
       "      <td>...</td>\n",
       "      <td>...</td>\n",
       "      <td>...</td>\n",
       "    </tr>\n",
       "    <tr>\n",
       "      <td>2010-12-27</td>\n",
       "      <td>93.08</td>\n",
       "      <td>90.99</td>\n",
       "    </tr>\n",
       "    <tr>\n",
       "      <td>2010-12-28</td>\n",
       "      <td>93.52</td>\n",
       "      <td>91.48</td>\n",
       "    </tr>\n",
       "    <tr>\n",
       "      <td>2010-12-29</td>\n",
       "      <td>93.52</td>\n",
       "      <td>91.13</td>\n",
       "    </tr>\n",
       "    <tr>\n",
       "      <td>2010-12-30</td>\n",
       "      <td>92.50</td>\n",
       "      <td>89.85</td>\n",
       "    </tr>\n",
       "    <tr>\n",
       "      <td>2010-12-31</td>\n",
       "      <td>93.23</td>\n",
       "      <td>91.38</td>\n",
       "    </tr>\n",
       "  </tbody>\n",
       "</table>\n",
       "<p>4018 rows × 2 columns</p>\n",
       "</div>"
      ],
      "text/plain": [
       "               bp     wp\n",
       "Date                    \n",
       "2000-01-01  24.93  25.76\n",
       "2000-01-02  24.93  25.76\n",
       "2000-01-03  24.93  25.76\n",
       "2000-01-04  23.95  25.56\n",
       "2000-01-05  23.72  24.65\n",
       "...           ...    ...\n",
       "2010-12-27  93.08  90.99\n",
       "2010-12-28  93.52  91.48\n",
       "2010-12-29  93.52  91.13\n",
       "2010-12-30  92.50  89.85\n",
       "2010-12-31  93.23  91.38\n",
       "\n",
       "[4018 rows x 2 columns]"
      ]
     },
     "execution_count": 24,
     "metadata": {},
     "output_type": "execute_result"
    }
   ],
   "source": [
    "df1= price.iloc[:, :2]\n",
    "df1"
   ]
  },
  {
   "cell_type": "code",
   "execution_count": 25,
   "metadata": {},
   "outputs": [
    {
     "name": "stderr",
     "output_type": "stream",
     "text": [
      "C:\\Users\\Sandhyana\\Anaconda3\\lib\\site-packages\\ipykernel_launcher.py:2: SettingWithCopyWarning: \n",
      "A value is trying to be set on a copy of a slice from a DataFrame.\n",
      "Try using .loc[row_indexer,col_indexer] = value instead\n",
      "\n",
      "See the caveats in the documentation: http://pandas.pydata.org/pandas-docs/stable/user_guide/indexing.html#returning-a-view-versus-a-copy\n",
      "  \n"
     ]
    },
    {
     "data": {
      "text/html": [
       "<div>\n",
       "<style scoped>\n",
       "    .dataframe tbody tr th:only-of-type {\n",
       "        vertical-align: middle;\n",
       "    }\n",
       "\n",
       "    .dataframe tbody tr th {\n",
       "        vertical-align: top;\n",
       "    }\n",
       "\n",
       "    .dataframe thead th {\n",
       "        text-align: right;\n",
       "    }\n",
       "</style>\n",
       "<table border=\"1\" class=\"dataframe\">\n",
       "  <thead>\n",
       "    <tr style=\"text-align: right;\">\n",
       "      <th></th>\n",
       "      <th>bp</th>\n",
       "      <th>wp</th>\n",
       "      <th>bp_diff</th>\n",
       "      <th>wp_diff</th>\n",
       "    </tr>\n",
       "    <tr>\n",
       "      <th>Date</th>\n",
       "      <th></th>\n",
       "      <th></th>\n",
       "      <th></th>\n",
       "      <th></th>\n",
       "    </tr>\n",
       "  </thead>\n",
       "  <tbody>\n",
       "    <tr>\n",
       "      <td>2000-01-01</td>\n",
       "      <td>24.93</td>\n",
       "      <td>25.76</td>\n",
       "      <td>NaN</td>\n",
       "      <td>NaN</td>\n",
       "    </tr>\n",
       "    <tr>\n",
       "      <td>2000-01-02</td>\n",
       "      <td>24.93</td>\n",
       "      <td>25.76</td>\n",
       "      <td>0.00</td>\n",
       "      <td>0.00</td>\n",
       "    </tr>\n",
       "    <tr>\n",
       "      <td>2000-01-03</td>\n",
       "      <td>24.93</td>\n",
       "      <td>25.76</td>\n",
       "      <td>0.00</td>\n",
       "      <td>0.00</td>\n",
       "    </tr>\n",
       "    <tr>\n",
       "      <td>2000-01-04</td>\n",
       "      <td>23.95</td>\n",
       "      <td>25.56</td>\n",
       "      <td>-0.98</td>\n",
       "      <td>-0.20</td>\n",
       "    </tr>\n",
       "    <tr>\n",
       "      <td>2000-01-05</td>\n",
       "      <td>23.72</td>\n",
       "      <td>24.65</td>\n",
       "      <td>-0.23</td>\n",
       "      <td>-0.91</td>\n",
       "    </tr>\n",
       "    <tr>\n",
       "      <td>...</td>\n",
       "      <td>...</td>\n",
       "      <td>...</td>\n",
       "      <td>...</td>\n",
       "      <td>...</td>\n",
       "    </tr>\n",
       "    <tr>\n",
       "      <td>2010-12-27</td>\n",
       "      <td>93.08</td>\n",
       "      <td>90.99</td>\n",
       "      <td>-0.55</td>\n",
       "      <td>0.15</td>\n",
       "    </tr>\n",
       "    <tr>\n",
       "      <td>2010-12-28</td>\n",
       "      <td>93.52</td>\n",
       "      <td>91.48</td>\n",
       "      <td>0.44</td>\n",
       "      <td>0.49</td>\n",
       "    </tr>\n",
       "    <tr>\n",
       "      <td>2010-12-29</td>\n",
       "      <td>93.52</td>\n",
       "      <td>91.13</td>\n",
       "      <td>0.00</td>\n",
       "      <td>-0.35</td>\n",
       "    </tr>\n",
       "    <tr>\n",
       "      <td>2010-12-30</td>\n",
       "      <td>92.50</td>\n",
       "      <td>89.85</td>\n",
       "      <td>-1.02</td>\n",
       "      <td>-1.28</td>\n",
       "    </tr>\n",
       "    <tr>\n",
       "      <td>2010-12-31</td>\n",
       "      <td>93.23</td>\n",
       "      <td>91.38</td>\n",
       "      <td>0.73</td>\n",
       "      <td>1.53</td>\n",
       "    </tr>\n",
       "  </tbody>\n",
       "</table>\n",
       "<p>4018 rows × 4 columns</p>\n",
       "</div>"
      ],
      "text/plain": [
       "               bp     wp  bp_diff  wp_diff\n",
       "Date                                      \n",
       "2000-01-01  24.93  25.76      NaN      NaN\n",
       "2000-01-02  24.93  25.76     0.00     0.00\n",
       "2000-01-03  24.93  25.76     0.00     0.00\n",
       "2000-01-04  23.95  25.56    -0.98    -0.20\n",
       "2000-01-05  23.72  24.65    -0.23    -0.91\n",
       "...           ...    ...      ...      ...\n",
       "2010-12-27  93.08  90.99    -0.55     0.15\n",
       "2010-12-28  93.52  91.48     0.44     0.49\n",
       "2010-12-29  93.52  91.13     0.00    -0.35\n",
       "2010-12-30  92.50  89.85    -1.02    -1.28\n",
       "2010-12-31  93.23  91.38     0.73     1.53\n",
       "\n",
       "[4018 rows x 4 columns]"
      ]
     },
     "execution_count": 25,
     "metadata": {},
     "output_type": "execute_result"
    }
   ],
   "source": [
    "#we obtain the first difference for ADF test\n",
    "df1['bp_diff'] = df1['bp'].diff(periods=1)\n",
    "df1['wp_diff'] = df1['wp'].diff(periods=1)\n",
    "df1"
   ]
  },
  {
   "cell_type": "code",
   "execution_count": 26,
   "metadata": {},
   "outputs": [],
   "source": [
    "df2=df1.dropna()"
   ]
  },
  {
   "cell_type": "code",
   "execution_count": 27,
   "metadata": {},
   "outputs": [
    {
     "data": {
      "text/html": [
       "<table class=\"simpletable\">\n",
       "<caption>Augmented Dickey-Fuller Results</caption>\n",
       "<tr>\n",
       "  <td>Test Statistic</td>    <td>-1.068</td>\n",
       "</tr>\n",
       "<tr>\n",
       "  <td>P-value</td>            <td>0.728</td>\n",
       "</tr>\n",
       "<tr>\n",
       "  <td>Lags</td>                   <td>2</td>\n",
       "</tr>\n",
       "</table><br/><br/>Trend: Constant<br/>Critical Values: -3.43 (1%), -2.86 (5%), -2.57 (10%)<br/>Null Hypothesis: The process contains a unit root.<br/>Alternative Hypothesis: The process is weakly stationary."
      ],
      "text/plain": [
       "<class 'statsmodels.iolib.summary.Summary'>\n",
       "\"\"\"\n",
       "   Augmented Dickey-Fuller Results   \n",
       "=====================================\n",
       "Test Statistic                 -1.068\n",
       "P-value                         0.728\n",
       "Lags                                2\n",
       "-------------------------------------\n",
       "\n",
       "Trend: Constant\n",
       "Critical Values: -3.43 (1%), -2.86 (5%), -2.57 (10%)\n",
       "Null Hypothesis: The process contains a unit root.\n",
       "Alternative Hypothesis: The process is weakly stationary.\n",
       "\"\"\""
      ]
     },
     "execution_count": 27,
     "metadata": {},
     "output_type": "execute_result"
    }
   ],
   "source": [
    "#ADF test for brent\n",
    "res=ADF(df2['bp'],lags=2)\n",
    "res.summary()"
   ]
  },
  {
   "cell_type": "code",
   "execution_count": 28,
   "metadata": {},
   "outputs": [
    {
     "data": {
      "text/html": [
       "<table class=\"simpletable\">\n",
       "<caption>Augmented Dickey-Fuller Results</caption>\n",
       "<tr>\n",
       "  <td>Test Statistic</td>    <td>-1.234</td>\n",
       "</tr>\n",
       "<tr>\n",
       "  <td>P-value</td>            <td>0.659</td>\n",
       "</tr>\n",
       "<tr>\n",
       "  <td>Lags</td>                   <td>2</td>\n",
       "</tr>\n",
       "</table><br/><br/>Trend: Constant<br/>Critical Values: -3.43 (1%), -2.86 (5%), -2.57 (10%)<br/>Null Hypothesis: The process contains a unit root.<br/>Alternative Hypothesis: The process is weakly stationary."
      ],
      "text/plain": [
       "<class 'statsmodels.iolib.summary.Summary'>\n",
       "\"\"\"\n",
       "   Augmented Dickey-Fuller Results   \n",
       "=====================================\n",
       "Test Statistic                 -1.234\n",
       "P-value                         0.659\n",
       "Lags                                2\n",
       "-------------------------------------\n",
       "\n",
       "Trend: Constant\n",
       "Critical Values: -3.43 (1%), -2.86 (5%), -2.57 (10%)\n",
       "Null Hypothesis: The process contains a unit root.\n",
       "Alternative Hypothesis: The process is weakly stationary.\n",
       "\"\"\""
      ]
     },
     "execution_count": 28,
     "metadata": {},
     "output_type": "execute_result"
    }
   ],
   "source": [
    "#ADF test for WTI\n",
    "res=ADF(df2['wp'],lags=2)\n",
    "res.summary()"
   ]
  },
  {
   "cell_type": "code",
   "execution_count": 29,
   "metadata": {},
   "outputs": [
    {
     "data": {
      "text/html": [
       "<table class=\"simpletable\">\n",
       "<caption>Augmented Dickey-Fuller Results</caption>\n",
       "<tr>\n",
       "  <td>Test Statistic</td>   <td>-36.018</td>\n",
       "</tr>\n",
       "<tr>\n",
       "  <td>P-value</td>            <td>0.000</td>\n",
       "</tr>\n",
       "<tr>\n",
       "  <td>Lags</td>                   <td>2</td>\n",
       "</tr>\n",
       "</table><br/><br/>Trend: Constant<br/>Critical Values: -3.43 (1%), -2.86 (5%), -2.57 (10%)<br/>Null Hypothesis: The process contains a unit root.<br/>Alternative Hypothesis: The process is weakly stationary."
      ],
      "text/plain": [
       "<class 'statsmodels.iolib.summary.Summary'>\n",
       "\"\"\"\n",
       "   Augmented Dickey-Fuller Results   \n",
       "=====================================\n",
       "Test Statistic                -36.018\n",
       "P-value                         0.000\n",
       "Lags                                2\n",
       "-------------------------------------\n",
       "\n",
       "Trend: Constant\n",
       "Critical Values: -3.43 (1%), -2.86 (5%), -2.57 (10%)\n",
       "Null Hypothesis: The process contains a unit root.\n",
       "Alternative Hypothesis: The process is weakly stationary.\n",
       "\"\"\""
      ]
     },
     "execution_count": 29,
     "metadata": {},
     "output_type": "execute_result"
    }
   ],
   "source": [
    "#ADF test for brent after first difference \n",
    "res=ADF(df2['bp_diff'],lags=2)\n",
    "res.summary()"
   ]
  },
  {
   "cell_type": "code",
   "execution_count": 30,
   "metadata": {},
   "outputs": [
    {
     "data": {
      "text/html": [
       "<table class=\"simpletable\">\n",
       "<caption>Augmented Dickey-Fuller Results</caption>\n",
       "<tr>\n",
       "  <td>Test Statistic</td>   <td>-35.525</td>\n",
       "</tr>\n",
       "<tr>\n",
       "  <td>P-value</td>            <td>0.000</td>\n",
       "</tr>\n",
       "<tr>\n",
       "  <td>Lags</td>                   <td>2</td>\n",
       "</tr>\n",
       "</table><br/><br/>Trend: Constant<br/>Critical Values: -3.43 (1%), -2.86 (5%), -2.57 (10%)<br/>Null Hypothesis: The process contains a unit root.<br/>Alternative Hypothesis: The process is weakly stationary."
      ],
      "text/plain": [
       "<class 'statsmodels.iolib.summary.Summary'>\n",
       "\"\"\"\n",
       "   Augmented Dickey-Fuller Results   \n",
       "=====================================\n",
       "Test Statistic                -35.525\n",
       "P-value                         0.000\n",
       "Lags                                2\n",
       "-------------------------------------\n",
       "\n",
       "Trend: Constant\n",
       "Critical Values: -3.43 (1%), -2.86 (5%), -2.57 (10%)\n",
       "Null Hypothesis: The process contains a unit root.\n",
       "Alternative Hypothesis: The process is weakly stationary.\n",
       "\"\"\""
      ]
     },
     "execution_count": 30,
     "metadata": {},
     "output_type": "execute_result"
    }
   ],
   "source": [
    "#ADF test for WTI after first difference\n",
    "res=ADF(df2['wp_diff'],lags=2)\n",
    "res.summary()"
   ]
  },
  {
   "cell_type": "markdown",
   "metadata": {},
   "source": [
    "# KPSS tests of the first differences"
   ]
  },
  {
   "cell_type": "code",
   "execution_count": 31,
   "metadata": {},
   "outputs": [
    {
     "data": {
      "text/html": [
       "<table class=\"simpletable\">\n",
       "<caption>KPSS Stationarity Test Results</caption>\n",
       "<tr>\n",
       "  <td>Test Statistic</td>     <td>0.060</td>\n",
       "</tr>\n",
       "<tr>\n",
       "  <td>P-value</td>            <td>0.816</td>\n",
       "</tr>\n",
       "<tr>\n",
       "  <td>Lags</td>                   <td>2</td>\n",
       "</tr>\n",
       "</table><br/><br/>Trend: Constant<br/>Critical Values: 0.74 (1%), 0.46 (5%), 0.35 (10%)<br/>Null Hypothesis: The process is weakly stationary.<br/>Alternative Hypothesis: The process contains a unit root."
      ],
      "text/plain": [
       "<class 'statsmodels.iolib.summary.Summary'>\n",
       "\"\"\"\n",
       "    KPSS Stationarity Test Results   \n",
       "=====================================\n",
       "Test Statistic                  0.060\n",
       "P-value                         0.816\n",
       "Lags                                2\n",
       "-------------------------------------\n",
       "\n",
       "Trend: Constant\n",
       "Critical Values: 0.74 (1%), 0.46 (5%), 0.35 (10%)\n",
       "Null Hypothesis: The process is weakly stationary.\n",
       "Alternative Hypothesis: The process contains a unit root.\n",
       "\"\"\""
      ]
     },
     "execution_count": 31,
     "metadata": {},
     "output_type": "execute_result"
    }
   ],
   "source": [
    "res=KPSS(df2['bp_diff'],lags=2)\n",
    "res.summary()"
   ]
  },
  {
   "cell_type": "code",
   "execution_count": 32,
   "metadata": {},
   "outputs": [
    {
     "data": {
      "text/html": [
       "<table class=\"simpletable\">\n",
       "<caption>KPSS Stationarity Test Results</caption>\n",
       "<tr>\n",
       "  <td>Test Statistic</td>     <td>0.049</td>\n",
       "</tr>\n",
       "<tr>\n",
       "  <td>P-value</td>            <td>0.880</td>\n",
       "</tr>\n",
       "<tr>\n",
       "  <td>Lags</td>                   <td>2</td>\n",
       "</tr>\n",
       "</table><br/><br/>Trend: Constant<br/>Critical Values: 0.74 (1%), 0.46 (5%), 0.35 (10%)<br/>Null Hypothesis: The process is weakly stationary.<br/>Alternative Hypothesis: The process contains a unit root."
      ],
      "text/plain": [
       "<class 'statsmodels.iolib.summary.Summary'>\n",
       "\"\"\"\n",
       "    KPSS Stationarity Test Results   \n",
       "=====================================\n",
       "Test Statistic                  0.049\n",
       "P-value                         0.880\n",
       "Lags                                2\n",
       "-------------------------------------\n",
       "\n",
       "Trend: Constant\n",
       "Critical Values: 0.74 (1%), 0.46 (5%), 0.35 (10%)\n",
       "Null Hypothesis: The process is weakly stationary.\n",
       "Alternative Hypothesis: The process contains a unit root.\n",
       "\"\"\""
      ]
     },
     "execution_count": 32,
     "metadata": {},
     "output_type": "execute_result"
    }
   ],
   "source": [
    "res=KPSS(df2['wp_diff'],lags=2)\n",
    "res.summary()"
   ]
  },
  {
   "cell_type": "markdown",
   "metadata": {},
   "source": [
    "# Phillips Perron tests for the first differences"
   ]
  },
  {
   "cell_type": "code",
   "execution_count": 33,
   "metadata": {},
   "outputs": [
    {
     "data": {
      "text/html": [
       "<table class=\"simpletable\">\n",
       "<caption>Phillips-Perron Test (Z-tau)</caption>\n",
       "<tr>\n",
       "  <td>Test Statistic</td>   <td>-62.100</td>\n",
       "</tr>\n",
       "<tr>\n",
       "  <td>P-value</td>            <td>0.000</td>\n",
       "</tr>\n",
       "<tr>\n",
       "  <td>Lags</td>                   <td>2</td>\n",
       "</tr>\n",
       "</table><br/><br/>Trend: Constant<br/>Critical Values: -3.43 (1%), -2.86 (5%), -2.57 (10%)<br/>Null Hypothesis: The process contains a unit root.<br/>Alternative Hypothesis: The process is weakly stationary."
      ],
      "text/plain": [
       "<class 'statsmodels.iolib.summary.Summary'>\n",
       "\"\"\"\n",
       "     Phillips-Perron Test (Z-tau)    \n",
       "=====================================\n",
       "Test Statistic                -62.100\n",
       "P-value                         0.000\n",
       "Lags                                2\n",
       "-------------------------------------\n",
       "\n",
       "Trend: Constant\n",
       "Critical Values: -3.43 (1%), -2.86 (5%), -2.57 (10%)\n",
       "Null Hypothesis: The process contains a unit root.\n",
       "Alternative Hypothesis: The process is weakly stationary.\n",
       "\"\"\""
      ]
     },
     "execution_count": 33,
     "metadata": {},
     "output_type": "execute_result"
    }
   ],
   "source": [
    "res=PhillipsPerron(df2['bp_diff'],lags=2)\n",
    "res.summary()"
   ]
  },
  {
   "cell_type": "code",
   "execution_count": 34,
   "metadata": {},
   "outputs": [
    {
     "data": {
      "text/html": [
       "<table class=\"simpletable\">\n",
       "<caption>Phillips-Perron Test (Z-tau)</caption>\n",
       "<tr>\n",
       "  <td>Test Statistic</td>   <td>-68.075</td>\n",
       "</tr>\n",
       "<tr>\n",
       "  <td>P-value</td>            <td>0.000</td>\n",
       "</tr>\n",
       "<tr>\n",
       "  <td>Lags</td>                   <td>2</td>\n",
       "</tr>\n",
       "</table><br/><br/>Trend: Constant<br/>Critical Values: -3.43 (1%), -2.86 (5%), -2.57 (10%)<br/>Null Hypothesis: The process contains a unit root.<br/>Alternative Hypothesis: The process is weakly stationary."
      ],
      "text/plain": [
       "<class 'statsmodels.iolib.summary.Summary'>\n",
       "\"\"\"\n",
       "     Phillips-Perron Test (Z-tau)    \n",
       "=====================================\n",
       "Test Statistic                -68.075\n",
       "P-value                         0.000\n",
       "Lags                                2\n",
       "-------------------------------------\n",
       "\n",
       "Trend: Constant\n",
       "Critical Values: -3.43 (1%), -2.86 (5%), -2.57 (10%)\n",
       "Null Hypothesis: The process contains a unit root.\n",
       "Alternative Hypothesis: The process is weakly stationary.\n",
       "\"\"\""
      ]
     },
     "execution_count": 34,
     "metadata": {},
     "output_type": "execute_result"
    }
   ],
   "source": [
    "res=PhillipsPerron(df2['wp_diff'],lags=2)\n",
    "res.summary()"
   ]
  },
  {
   "cell_type": "markdown",
   "metadata": {},
   "source": [
    "# Cointegration tests"
   ]
  },
  {
   "cell_type": "code",
   "execution_count": 35,
   "metadata": {},
   "outputs": [],
   "source": [
    "import statsmodels.formula.api as smf\n",
    "import matplotlib.pyplot as plt\n",
    "from arch.unitroot import DFGLS\n",
    "\n"
   ]
  },
  {
   "cell_type": "code",
   "execution_count": 36,
   "metadata": {},
   "outputs": [],
   "source": [
    "df3= price.iloc[:, :2]\n"
   ]
  },
  {
   "cell_type": "code",
   "execution_count": 37,
   "metadata": {},
   "outputs": [
    {
     "name": "stderr",
     "output_type": "stream",
     "text": [
      "C:\\Users\\Sandhyana\\Anaconda3\\lib\\site-packages\\statsmodels\\tsa\\base\\tsa_model.py:162: ValueWarning: No frequency information was provided, so inferred frequency D will be used.\n",
      "  % freq, ValueWarning)\n",
      "C:\\Users\\Sandhyana\\Anaconda3\\lib\\site-packages\\statsmodels\\tsa\\base\\tsa_model.py:162: ValueWarning: No frequency information was provided, so inferred frequency D will be used.\n",
      "  % freq, ValueWarning)\n",
      "C:\\Users\\Sandhyana\\Anaconda3\\lib\\site-packages\\statsmodels\\tsa\\base\\tsa_model.py:162: ValueWarning: No frequency information was provided, so inferred frequency D will be used.\n",
      "  % freq, ValueWarning)\n",
      "C:\\Users\\Sandhyana\\Anaconda3\\lib\\site-packages\\statsmodels\\tsa\\base\\tsa_model.py:162: ValueWarning: No frequency information was provided, so inferred frequency D will be used.\n",
      "  % freq, ValueWarning)\n",
      "C:\\Users\\Sandhyana\\Anaconda3\\lib\\site-packages\\statsmodels\\tsa\\base\\tsa_model.py:162: ValueWarning: No frequency information was provided, so inferred frequency D will be used.\n",
      "  % freq, ValueWarning)\n",
      "C:\\Users\\Sandhyana\\Anaconda3\\lib\\site-packages\\statsmodels\\tsa\\base\\tsa_model.py:162: ValueWarning: No frequency information was provided, so inferred frequency D will be used.\n",
      "  % freq, ValueWarning)\n",
      "C:\\Users\\Sandhyana\\Anaconda3\\lib\\site-packages\\statsmodels\\tsa\\base\\tsa_model.py:162: ValueWarning: No frequency information was provided, so inferred frequency D will be used.\n",
      "  % freq, ValueWarning)\n",
      "C:\\Users\\Sandhyana\\Anaconda3\\lib\\site-packages\\statsmodels\\tsa\\base\\tsa_model.py:162: ValueWarning: No frequency information was provided, so inferred frequency D will be used.\n",
      "  % freq, ValueWarning)\n",
      "C:\\Users\\Sandhyana\\Anaconda3\\lib\\site-packages\\statsmodels\\tsa\\base\\tsa_model.py:162: ValueWarning: No frequency information was provided, so inferred frequency D will be used.\n",
      "  % freq, ValueWarning)\n",
      "C:\\Users\\Sandhyana\\Anaconda3\\lib\\site-packages\\statsmodels\\tsa\\base\\tsa_model.py:162: ValueWarning: No frequency information was provided, so inferred frequency D will be used.\n",
      "  % freq, ValueWarning)\n",
      "C:\\Users\\Sandhyana\\Anaconda3\\lib\\site-packages\\statsmodels\\tsa\\base\\tsa_model.py:162: ValueWarning: No frequency information was provided, so inferred frequency D will be used.\n",
      "  % freq, ValueWarning)\n",
      "C:\\Users\\Sandhyana\\Anaconda3\\lib\\site-packages\\statsmodels\\tsa\\base\\tsa_model.py:162: ValueWarning: No frequency information was provided, so inferred frequency D will be used.\n",
      "  % freq, ValueWarning)\n",
      "C:\\Users\\Sandhyana\\Anaconda3\\lib\\site-packages\\statsmodels\\tsa\\base\\tsa_model.py:162: ValueWarning: No frequency information was provided, so inferred frequency D will be used.\n",
      "  % freq, ValueWarning)\n"
     ]
    },
    {
     "data": {
      "text/html": [
       "<table class=\"simpletable\">\n",
       "<caption>VECM Order Selection (* highlights the minimums)</caption>\n",
       "<tr>\n",
       "   <td></td>      <th>AIC</th>         <th>BIC</th>         <th>FPE</th>        <th>HQIC</th>    \n",
       "</tr>\n",
       "<tr>\n",
       "  <th>0</th>  <td>    0.1099</td>  <td>    0.1194</td>  <td>     1.116</td>  <td>    0.1133</td> \n",
       "</tr>\n",
       "<tr>\n",
       "  <th>1</th>  <td>  -0.01080</td>  <td>  0.004919</td>  <td>    0.9893</td>  <td> -0.005228</td> \n",
       "</tr>\n",
       "<tr>\n",
       "  <th>2</th>  <td>  -0.02493</td>  <td> -0.002927</td>  <td>    0.9754</td>  <td>  -0.01713</td> \n",
       "</tr>\n",
       "<tr>\n",
       "  <th>3</th>  <td>  -0.03452</td>  <td> -0.006229*</td> <td>    0.9661</td>  <td>  -0.02449</td> \n",
       "</tr>\n",
       "<tr>\n",
       "  <th>4</th>  <td>  -0.04011</td>  <td> -0.005531</td>  <td>    0.9607</td>  <td>  -0.02785</td> \n",
       "</tr>\n",
       "<tr>\n",
       "  <th>5</th>  <td>  -0.04555</td>  <td> -0.004683</td>  <td>    0.9555</td>  <td>  -0.03107</td> \n",
       "</tr>\n",
       "<tr>\n",
       "  <th>6</th>  <td>  -0.05299</td>  <td> -0.005835</td>  <td>    0.9484</td>  <td>  -0.03628</td> \n",
       "</tr>\n",
       "<tr>\n",
       "  <th>7</th>  <td>  -0.05700*</td> <td> -0.003558</td>  <td>    0.9446*</td> <td>  -0.03806*</td>\n",
       "</tr>\n",
       "<tr>\n",
       "  <th>8</th>  <td>  -0.05601</td>  <td>  0.003720</td>  <td>    0.9455</td>  <td>  -0.03484</td> \n",
       "</tr>\n",
       "<tr>\n",
       "  <th>9</th>  <td>  -0.05556</td>  <td>   0.01046</td>  <td>    0.9460</td>  <td>  -0.03216</td> \n",
       "</tr>\n",
       "<tr>\n",
       "  <th>10</th> <td>  -0.05416</td>  <td>   0.01815</td>  <td>    0.9473</td>  <td>  -0.02853</td> \n",
       "</tr>\n",
       "<tr>\n",
       "  <th>11</th> <td>  -0.05403</td>  <td>   0.02456</td>  <td>    0.9474</td>  <td>  -0.02617</td> \n",
       "</tr>\n",
       "<tr>\n",
       "  <th>12</th> <td>  -0.05336</td>  <td>   0.03152</td>  <td>    0.9480</td>  <td>  -0.02328</td> \n",
       "</tr>\n",
       "</table>"
      ],
      "text/plain": [
       "<class 'statsmodels.iolib.table.SimpleTable'>"
      ]
     },
     "execution_count": 37,
     "metadata": {},
     "output_type": "execute_result"
    }
   ],
   "source": [
    "# the johansen VAR framework is adopted\n",
    "# we need to ensure that variables are non stationary\n",
    "\n",
    "from statsmodels.tsa.vector_ar import vecm\n",
    "model=vecm.select_order(df3,maxlags=12)\n",
    "model.summary()"
   ]
  },
  {
   "cell_type": "code",
   "execution_count": 38,
   "metadata": {},
   "outputs": [
    {
     "data": {
      "text/html": [
       "<table class=\"simpletable\">\n",
       "<caption>Johansen cointegration test using trace test statistic with 1% significance level</caption>\n",
       "<tr>\n",
       "  <th>r_0</th> <th>r_1</th> <th>test statistic</th> <th>critical value</th>\n",
       "</tr>\n",
       "<tr>\n",
       "    <td>0</td>   <td>2</td>          <td>143.9</td>          <td>23.15</td>\n",
       "</tr>\n",
       "<tr>\n",
       "    <td>1</td>   <td>2</td>          <td>4.821</td>          <td>6.635</td>\n",
       "</tr>\n",
       "</table>"
      ],
      "text/plain": [
       "<class 'statsmodels.iolib.table.SimpleTable'>"
      ]
     },
     "execution_count": 38,
     "metadata": {},
     "output_type": "execute_result"
    }
   ],
   "source": [
    "vec_rank1=vecm.select_coint_rank(df3,det_order=1,k_ar_diff=1,method='trace',signif=0.01)\n",
    "vec_rank1.summary()"
   ]
  },
  {
   "cell_type": "code",
   "execution_count": 39,
   "metadata": {},
   "outputs": [],
   "source": [
    "#we obtain the train test statistic with 1% significance level with\n",
    "#critical values. "
   ]
  },
  {
   "cell_type": "markdown",
   "metadata": {},
   "source": [
    "The first row of the table tests the null hypothesis of at most one\n",
    "cointegrating vector, against the alternative hypothesis that the number of cointegrating equations is strictly larger than the number assumed under the null hypothesis, i.e., larger than one."
   ]
  },
  {
   "cell_type": "code",
   "execution_count": 40,
   "metadata": {},
   "outputs": [],
   "source": [
    "#we find that the test statistic of 27.29 exceeds the critical value \n",
    "#of 23.15 and hence, the null of at most one cointegrating\n",
    "#vector is rejected. Moving to the next row, however, the test\n",
    "#statistic of 2.752 is lower than the critical value of 6.635\n",
    "#and therefore, the null of at most two cointegrating vectors is\n",
    "#not rejected at the 1% significance level"
   ]
  },
  {
   "cell_type": "markdown",
   "metadata": {},
   "source": [
    "Besides the λtrace statistic, we can also employ an alternative statistic, the maximum-eigenvalue statistic (λmax). In contrast to the trace statistic, the maximum-eigenvalue statistic assumes a given number of r cointegrating relations under the null hypothesis and tests this against the alternative that there are r + 1 cointegrating equations"
   ]
  },
  {
   "cell_type": "code",
   "execution_count": 41,
   "metadata": {},
   "outputs": [
    {
     "data": {
      "text/html": [
       "<table class=\"simpletable\">\n",
       "<caption>Johansen cointegration test using maximum eigenvalue test statistic with 1% significance level</caption>\n",
       "<tr>\n",
       "  <th>r_0</th> <th>r_1</th> <th>test statistic</th> <th>critical value</th>\n",
       "</tr>\n",
       "<tr>\n",
       "    <td>0</td>   <td>1</td>          <td>139.1</td>          <td>21.75</td>\n",
       "</tr>\n",
       "<tr>\n",
       "    <td>1</td>   <td>2</td>          <td>4.821</td>          <td>6.635</td>\n",
       "</tr>\n",
       "</table>"
      ],
      "text/plain": [
       "<class 'statsmodels.iolib.table.SimpleTable'>"
      ]
     },
     "execution_count": 41,
     "metadata": {},
     "output_type": "execute_result"
    }
   ],
   "source": [
    "vec_rank2=vecm.select_coint_rank(df3,det_order=1,k_ar_diff=1,method='maxeig',signif=0.01)\n",
    "vec_rank2.summary()"
   ]
  },
  {
   "cell_type": "markdown",
   "metadata": {},
   "source": [
    "Now that we have determined the lag length, trend specification and the number of cointegrating relationships, we can fit the VECM model.\n",
    "\n",
    "To do so, we call the function VECM. In the VECM inputs, we first specify both prices as the dependent variables and then select 2 as the number of cointegrating equations (rank) and one again as the maximum lag to be included in the underlying VAR model. \n",
    "\n",
    "As in the previous input, we set the deterministic argument to ’co’, meaning that there is a constant inside the cointegrating relationship \n",
    "\n"
   ]
  },
  {
   "cell_type": "code",
   "execution_count": 42,
   "metadata": {},
   "outputs": [
    {
     "name": "stderr",
     "output_type": "stream",
     "text": [
      "C:\\Users\\Sandhyana\\Anaconda3\\lib\\site-packages\\statsmodels\\tsa\\base\\tsa_model.py:162: ValueWarning: No frequency information was provided, so inferred frequency D will be used.\n",
      "  % freq, ValueWarning)\n"
     ]
    },
    {
     "name": "stdout",
     "output_type": "stream",
     "text": [
      "Det. terms outside the coint. relation & lagged endog. parameters for equation bp\n",
      "==============================================================================\n",
      "                 coef    std err          z      P>|z|      [0.025      0.975]\n",
      "------------------------------------------------------------------------------\n",
      "const         -0.0347      0.040     -0.862      0.389      -0.114       0.044\n",
      "L1.bp         -0.1506      0.019     -7.904      0.000      -0.188      -0.113\n",
      "L1.wp          0.2583      0.017     15.109      0.000       0.225       0.292\n",
      "Det. terms outside the coint. relation & lagged endog. parameters for equation wp\n",
      "==============================================================================\n",
      "                 coef    std err          z      P>|z|      [0.025      0.975]\n",
      "------------------------------------------------------------------------------\n",
      "const          0.1385      0.047      2.929      0.003       0.046       0.231\n",
      "L1.bp          0.0150      0.022      0.672      0.502      -0.029       0.059\n",
      "L1.wp         -0.0651      0.020     -3.245      0.001      -0.104      -0.026\n",
      "                 Loading coefficients (alpha) for equation bp                 \n",
      "==============================================================================\n",
      "                 coef    std err          z      P>|z|      [0.025      0.975]\n",
      "------------------------------------------------------------------------------\n",
      "ec1           -0.0416      0.008     -5.281      0.000      -0.057      -0.026\n",
      "ec2            0.0415      0.008      5.215      0.000       0.026       0.057\n",
      "                 Loading coefficients (alpha) for equation wp                 \n",
      "==============================================================================\n",
      "                 coef    std err          z      P>|z|      [0.025      0.975]\n",
      "------------------------------------------------------------------------------\n",
      "ec1            0.0415      0.009      4.489      0.000       0.023       0.060\n",
      "ec2           -0.0427      0.009     -4.575      0.000      -0.061      -0.024\n",
      "          Cointegration relations for loading-coefficients-column 1           \n",
      "==============================================================================\n",
      "                 coef    std err          z      P>|z|      [0.025      0.975]\n",
      "------------------------------------------------------------------------------\n",
      "beta.1         1.0000          0          0      0.000       1.000       1.000\n",
      "beta.2              0          0          0      0.000           0           0\n",
      "          Cointegration relations for loading-coefficients-column 2           \n",
      "==============================================================================\n",
      "                 coef    std err          z      P>|z|      [0.025      0.975]\n",
      "------------------------------------------------------------------------------\n",
      "beta.1      -1.11e-16          0          0      0.000   -1.11e-16   -1.11e-16\n",
      "beta.2         1.0000          0          0      0.000       1.000       1.000\n",
      "==============================================================================\n"
     ]
    }
   ],
   "source": [
    "#VECM\n",
    "model=vecm.VECM(df3,k_ar_diff=1,coint_rank=2,deterministic='co')\n",
    "res=model.fit()\n",
    "print(res.summary())"
   ]
  },
  {
   "cell_type": "code",
   "execution_count": null,
   "metadata": {},
   "outputs": [],
   "source": []
  }
 ],
 "metadata": {
  "kernelspec": {
   "display_name": "Python 3",
   "language": "python",
   "name": "python3"
  },
  "language_info": {
   "codemirror_mode": {
    "name": "ipython",
    "version": 3
   },
   "file_extension": ".py",
   "mimetype": "text/x-python",
   "name": "python",
   "nbconvert_exporter": "python",
   "pygments_lexer": "ipython3",
   "version": "3.8.8"
  }
 },
 "nbformat": 4,
 "nbformat_minor": 4
}
